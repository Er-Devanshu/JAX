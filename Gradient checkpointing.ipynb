{
 "cells": [
  {
   "cell_type": "markdown",
   "metadata": {},
   "source": [
    "# Gradient checkpointing with `jax.checkpoint` (`jax.remat`)\n",
    "\n",
    "In this tutorial, you will learn how to control JAX automatic differentiation’s saved values using `jax.checkpoint()` (also known as `jax.remat()`), which can be particularly helpful in machine learning.\n",
    "\n",
    "If you are new to automatic differentiation (autodiff) or need to refresh your memory, JAX has Automatic differentiation and Advanced automatic differentiation tutorials.\n",
    "\n",
    "TL;DR Use the `jax.checkpoint()` decorator (aliased as `jax.remat()`) with `jax.grad()` to control which intermediates are saved on the forward pass versus the recomputed intermediates on the backward pass, trading off memory and FLOPs.\n",
    "\n",
    "If you don’t use `jax.checkpoint()`, the `jax.grad(f)(x)` forward pass stores Jacobian coefficients and other intermediates to use during the backward pass. These saved values are called residuals.\n",
    "\n",
    "Note: Don’t miss the Practical notes for a discussion about how `jax.checkpoint()` interacts with `jax.jit()`."
   ]
  },
  {
   "cell_type": "code",
   "execution_count": 1,
   "metadata": {},
   "outputs": [
    {
     "name": "stdout",
     "output_type": "stream",
     "text": [
      "f32[5,4] from the argument W1\n",
      "f32[6,5] from the argument W2\n",
      "f32[7,6] from the argument W3\n",
      "f32[4] from the argument x\n",
      "f32[5] output of sin from C:\\Users\\devanshu.tayal\\AppData\\Local\\Temp\\ipykernel_14236\\1801108376.py:6:9 (g)\n",
      "f32[5] output of cos from C:\\Users\\devanshu.tayal\\AppData\\Local\\Temp\\ipykernel_14236\\1801108376.py:6:9 (g)\n",
      "f32[6] output of sin from C:\\Users\\devanshu.tayal\\AppData\\Local\\Temp\\ipykernel_14236\\1801108376.py:6:9 (g)\n",
      "f32[6] output of cos from C:\\Users\\devanshu.tayal\\AppData\\Local\\Temp\\ipykernel_14236\\1801108376.py:6:9 (g)\n",
      "f32[7] output of cos from C:\\Users\\devanshu.tayal\\AppData\\Local\\Temp\\ipykernel_14236\\1801108376.py:6:9 (g)\n"
     ]
    }
   ],
   "source": [
    "import jax\n",
    "import jax.numpy as jnp\n",
    "\n",
    "def g(W, x):\n",
    "  y = jnp.dot(W, x)\n",
    "  return jnp.sin(y)\n",
    "\n",
    "def f(W1, W2, W3, x):\n",
    "  x = g(W1, x)\n",
    "  x = g(W2, x)\n",
    "  x = g(W3, x)\n",
    "  return x\n",
    "\n",
    "W1 = jnp.ones((5, 4))\n",
    "W2 = jnp.ones((6, 5))\n",
    "W3 = jnp.ones((7, 6))\n",
    "x = jnp.ones(4)\n",
    "\n",
    "# Inspect the 'residual' values to be saved on the forward pass\n",
    "# if you were to evaluate `jax.grad(f)(W1, W2, W3, x)`\n",
    "from jax.ad_checkpoint import print_saved_residuals\n",
    "jax.ad_checkpoint.print_saved_residuals(f, W1, W2, W3, x)"
   ]
  },
  {
   "cell_type": "markdown",
   "metadata": {},
   "source": [
    "By applying `jax.checkpoint()` to sub-functions, as a decorator or at specific application sites, you force JAX not to save any of that sub-function’s residuals. Instead, only the inputs of a `jax.checkpoint()`-decorated function might be saved, and any residuals consumed on the backward pass are re-computed from those inputs as needed:"
   ]
  },
  {
   "cell_type": "code",
   "execution_count": 2,
   "metadata": {},
   "outputs": [
    {
     "name": "stdout",
     "output_type": "stream",
     "text": [
      "f32[5,4] from the argument W1\n",
      "f32[6,5] from the argument W2\n",
      "f32[7,6] from the argument W3\n",
      "f32[4] from the argument x\n",
      "f32[5] output of sin from C:\\Users\\devanshu.tayal\\AppData\\Local\\Temp\\ipykernel_14236\\1801108376.py:6:9 (g)\n",
      "f32[6] output of sin from C:\\Users\\devanshu.tayal\\AppData\\Local\\Temp\\ipykernel_14236\\1801108376.py:6:9 (g)\n"
     ]
    }
   ],
   "source": [
    "def f2(W1, W2, W3, x):\n",
    "  x = jax.checkpoint(g)(W1, x)\n",
    "  x = jax.checkpoint(g)(W2, x)\n",
    "  x = jax.checkpoint(g)(W3, x)\n",
    "  return x\n",
    "\n",
    "jax.ad_checkpoint.print_saved_residuals(f2, W1, W2, W3, x)"
   ]
  },
  {
   "cell_type": "markdown",
   "metadata": {},
   "source": [
    "Here, the values of two `sin` applications are saved because they are arguments in subsequent applications of the `jax.checkpoint()`-decorated `g` function, and inputs to a `jax.checkpoint()`-decorated function may be saved. But no values of `cos` applications are saved.\n",
    "\n",
    "To control which values are saveable without having to edit the definition of the function to be differentiated, you can use a rematerialization policy. Here is an example that saves only the results of `dot` operations with no batch dimensions (since they are often FLOP-bound, and hence worth saving rather than recomputing)"
   ]
  },
  {
   "cell_type": "code",
   "execution_count": 3,
   "metadata": {},
   "outputs": [
    {
     "name": "stdout",
     "output_type": "stream",
     "text": [
      "f32[5,4] from the argument W1\n",
      "f32[6,5] from the argument W2\n",
      "f32[7,6] from the argument W3\n",
      "f32[4] from the argument x\n",
      "f32[5] output of reduce_precision from C:\\Users\\devanshu.tayal\\AppData\\Local\\Temp\\ipykernel_14236\\1801108376.py:5:6 (g)\n",
      "f32[6] output of reduce_precision from C:\\Users\\devanshu.tayal\\AppData\\Local\\Temp\\ipykernel_14236\\1801108376.py:5:6 (g)\n",
      "f32[7] output of reduce_precision from C:\\Users\\devanshu.tayal\\AppData\\Local\\Temp\\ipykernel_14236\\1801108376.py:5:6 (g)\n"
     ]
    }
   ],
   "source": [
    "f3 = jax.checkpoint(f, policy=jax.checkpoint_policies.dots_with_no_batch_dims_saveable)\n",
    "jax.ad_checkpoint.print_saved_residuals(f3, W1, W2, W3, x)"
   ]
  },
  {
   "cell_type": "markdown",
   "metadata": {},
   "source": [
    "You can also use policies to refer to intermediate values you name using `jax.ad_checkpoint.checkpoint_name()`"
   ]
  },
  {
   "cell_type": "code",
   "execution_count": 4,
   "metadata": {},
   "outputs": [
    {
     "name": "stdout",
     "output_type": "stream",
     "text": [
      "f32[5,4] from the argument W1\n",
      "f32[6,5] from the argument W2\n",
      "f32[7,6] from the argument W3\n",
      "f32[4] from the argument x\n",
      "f32[5] output of reduce_precision from C:\\Users\\devanshu.tayal\\AppData\\Local\\Temp\\ipykernel_14236\\2296542172.py:4:6 (f4)\n"
     ]
    }
   ],
   "source": [
    "from jax.ad_checkpoint import checkpoint_name\n",
    "\n",
    "def f4(W1, W2, W3, x):\n",
    "  x = checkpoint_name(g(W1, x), name='a')\n",
    "  x = checkpoint_name(g(W2, x), name='b')\n",
    "  x = checkpoint_name(g(W3, x), name='c')\n",
    "  return x\n",
    "\n",
    "f4 = jax.checkpoint(f4, policy=jax.checkpoint_policies.save_only_these_names('a'))\n",
    "jax.ad_checkpoint.print_saved_residuals(f4, W1, W2, W3, x)"
   ]
  },
  {
   "cell_type": "markdown",
   "metadata": {},
   "source": [
    "When playing around with these toy examples, you can get a closer look at what’s going on using a custom `print_fwd_bwd` utility defined in this notebook"
   ]
  },
  {
   "cell_type": "code",
   "execution_count": 5,
   "metadata": {},
   "outputs": [
    {
     "data": {
      "text/html": [
       "<pre style=\"white-space:pre;overflow-x:auto;line-height:normal;font-family:Menlo,'DejaVu Sans Mono',consolas,'Courier New',monospace\">                                                                                                                                                         \n",
       "  <span style=\"color: #008000; text-decoration-color: #008000; font-weight: bold\">forward computation:</span>                                         <span style=\"color: #008000; text-decoration-color: #008000; font-weight: bold\">backward computation:</span>                                                                     \n",
       "                                                                                                                                                         \n",
       "  { <span style=\"color: #000080; text-decoration-color: #000080; font-weight: bold\">lambda </span><span style=\"color: #000000; text-decoration-color: #000000\">; a</span><span style=\"color: #800080; text-decoration-color: #800080\">:f32[5,4]</span><span style=\"color: #000000; text-decoration-color: #000000\"> b</span><span style=\"color: #800080; text-decoration-color: #800080\">:f32[6,5]</span><span style=\"color: #000000; text-decoration-color: #000000\"> c</span><span style=\"color: #800080; text-decoration-color: #800080\">:f32[7,6]</span><span style=\"color: #000000; text-decoration-color: #000000\"> d</span><span style=\"color: #800080; text-decoration-color: #800080\">:f32[4]</span><span style=\"color: #000000; text-decoration-color: #000000\">. </span><span style=\"color: #000080; text-decoration-color: #000080; font-weight: bold\">let</span>    { <span style=\"color: #000080; text-decoration-color: #000080; font-weight: bold\">lambda </span><span style=\"color: #000000; text-decoration-color: #000000\">; a</span><span style=\"color: #800080; text-decoration-color: #800080\">:f32[4]</span><span style=\"color: #000000; text-decoration-color: #000000\"> b</span><span style=\"color: #800080; text-decoration-color: #800080\">:f32[5,4]</span><span style=\"color: #000000; text-decoration-color: #000000\"> c</span><span style=\"color: #800080; text-decoration-color: #800080\">:f32[5]</span><span style=\"color: #000000; text-decoration-color: #000000\"> d</span><span style=\"color: #800080; text-decoration-color: #800080\">:f32[5]</span><span style=\"color: #000000; text-decoration-color: #000000\"> e</span><span style=\"color: #800080; text-decoration-color: #800080\">:f32[6,5]</span><span style=\"color: #000000; text-decoration-color: #000000\"> f</span><span style=\"color: #800080; text-decoration-color: #800080\">:f32[6]</span><span style=\"color: #000000; text-decoration-color: #000000\"> g</span><span style=\"color: #800080; text-decoration-color: #800080\">:f32[6]</span><span style=\"color: #000000; text-decoration-color: #000000\"> h</span><span style=\"color: #800080; text-decoration-color: #800080\">:f32[7,6]</span>  \n",
       "  <span style=\"color: #000080; text-decoration-color: #000080; font-weight: bold\">    </span><span style=\"color: #000000; text-decoration-color: #000000\">e</span><span style=\"color: #800080; text-decoration-color: #800080\">:f32[5]</span><span style=\"color: #000000; text-decoration-color: #000000\"> = dot_general[</span>                                  <span style=\"color: #000000; text-decoration-color: #000000\">    i</span><span style=\"color: #800080; text-decoration-color: #800080\">:f32[7]</span><span style=\"color: #000000; text-decoration-color: #000000\"> j</span><span style=\"color: #800080; text-decoration-color: #800080\">:f32[7]</span><span style=\"color: #000000; text-decoration-color: #000000\">. </span><span style=\"color: #000080; text-decoration-color: #000080; font-weight: bold\">let</span>                                                                \n",
       "  <span style=\"color: #000000; text-decoration-color: #000000\">      dimension_numbers=(([1], [0]), ([], []))</span>               <span style=\"color: #000080; text-decoration-color: #000080; font-weight: bold\">    </span><span style=\"color: #000000; text-decoration-color: #000000\">k</span><span style=\"color: #800080; text-decoration-color: #800080\">:f32[7]</span><span style=\"color: #000000; text-decoration-color: #000000\"> = mul j i</span>                                                                    \n",
       "  <span style=\"color: #000000; text-decoration-color: #000000\">      preferred_element_type=float32</span>                         <span style=\"color: #000000; text-decoration-color: #000000\">    l</span><span style=\"color: #800080; text-decoration-color: #800080\">:f32[6]</span><span style=\"color: #000000; text-decoration-color: #000000\"> = dot_general[</span>                                                               \n",
       "  <span style=\"color: #000000; text-decoration-color: #000000\">    ] a d</span>                                                    <span style=\"color: #000000; text-decoration-color: #000000\">      dimension_numbers=(([0], [0]), ([], []))</span>                                            \n",
       "  <span style=\"color: #000000; text-decoration-color: #000000\">    f</span><span style=\"color: #800080; text-decoration-color: #800080\">:f32[5]</span><span style=\"color: #000000; text-decoration-color: #000000\"> = sin e</span>                                         <span style=\"color: #000000; text-decoration-color: #000000\">      preferred_element_type=float32</span>                                                      \n",
       "  <span style=\"color: #000000; text-decoration-color: #000000\">    g</span><span style=\"color: #800080; text-decoration-color: #800080\">:f32[5]</span><span style=\"color: #000000; text-decoration-color: #000000\"> = cos e</span>                                         <span style=\"color: #000000; text-decoration-color: #000000\">    ] k h</span>                                                                                 \n",
       "  <span style=\"color: #000000; text-decoration-color: #000000\">    h</span><span style=\"color: #800080; text-decoration-color: #800080\">:f32[6]</span><span style=\"color: #000000; text-decoration-color: #000000\"> = dot_general[</span>                                  <span style=\"color: #000000; text-decoration-color: #000000\">    m</span><span style=\"color: #800080; text-decoration-color: #800080\">:f32[7,6]</span><span style=\"color: #000000; text-decoration-color: #000000\"> = dot_general[</span>                                                             \n",
       "  <span style=\"color: #000000; text-decoration-color: #000000\">      dimension_numbers=(([1], [0]), ([], []))</span>               <span style=\"color: #000000; text-decoration-color: #000000\">      dimension_numbers=(([], []), ([], []))</span>                                              \n",
       "  <span style=\"color: #000000; text-decoration-color: #000000\">      preferred_element_type=float32</span>                         <span style=\"color: #000000; text-decoration-color: #000000\">      preferred_element_type=float32</span>                                                      \n",
       "  <span style=\"color: #000000; text-decoration-color: #000000\">    ] b f</span>                                                    <span style=\"color: #000000; text-decoration-color: #000000\">    ] k g</span>                                                                                 \n",
       "  <span style=\"color: #000000; text-decoration-color: #000000\">    i</span><span style=\"color: #800080; text-decoration-color: #800080\">:f32[6]</span><span style=\"color: #000000; text-decoration-color: #000000\"> = sin h</span>                                         <span style=\"color: #000000; text-decoration-color: #000000\">    n</span><span style=\"color: #800080; text-decoration-color: #800080\">:f32[6]</span><span style=\"color: #000000; text-decoration-color: #000000\"> = mul l f</span>                                                                    \n",
       "  <span style=\"color: #000000; text-decoration-color: #000000\">    j</span><span style=\"color: #800080; text-decoration-color: #800080\">:f32[6]</span><span style=\"color: #000000; text-decoration-color: #000000\"> = cos h</span>                                         <span style=\"color: #000000; text-decoration-color: #000000\">    o</span><span style=\"color: #800080; text-decoration-color: #800080\">:f32[5]</span><span style=\"color: #000000; text-decoration-color: #000000\"> = dot_general[</span>                                                               \n",
       "  <span style=\"color: #000000; text-decoration-color: #000000\">    k</span><span style=\"color: #800080; text-decoration-color: #800080\">:f32[7]</span><span style=\"color: #000000; text-decoration-color: #000000\"> = dot_general[</span>                                  <span style=\"color: #000000; text-decoration-color: #000000\">      dimension_numbers=(([0], [0]), ([], []))</span>                                            \n",
       "  <span style=\"color: #000000; text-decoration-color: #000000\">      dimension_numbers=(([1], [0]), ([], []))</span>               <span style=\"color: #000000; text-decoration-color: #000000\">      preferred_element_type=float32</span>                                                      \n",
       "  <span style=\"color: #000000; text-decoration-color: #000000\">      preferred_element_type=float32</span>                         <span style=\"color: #000000; text-decoration-color: #000000\">    ] n e</span>                                                                                 \n",
       "  <span style=\"color: #000000; text-decoration-color: #000000\">    ] c i</span>                                                    <span style=\"color: #000000; text-decoration-color: #000000\">    p</span><span style=\"color: #800080; text-decoration-color: #800080\">:f32[6,5]</span><span style=\"color: #000000; text-decoration-color: #000000\"> = dot_general[</span>                                                             \n",
       "  <span style=\"color: #000000; text-decoration-color: #000000\">    l</span><span style=\"color: #800080; text-decoration-color: #800080\">:f32[7]</span><span style=\"color: #000000; text-decoration-color: #000000\"> = sin k</span>                                         <span style=\"color: #000000; text-decoration-color: #000000\">      dimension_numbers=(([], []), ([], []))</span>                                              \n",
       "  <span style=\"color: #000000; text-decoration-color: #000000\">    m</span><span style=\"color: #800080; text-decoration-color: #800080\">:f32[7]</span><span style=\"color: #000000; text-decoration-color: #000000\"> = cos k</span>                                         <span style=\"color: #000000; text-decoration-color: #000000\">      preferred_element_type=float32</span>                                                      \n",
       "  <span style=\"color: #000000; text-decoration-color: #000000\">  </span><span style=\"color: #000080; text-decoration-color: #000080; font-weight: bold\">in </span><span style=\"color: #000000; text-decoration-color: #000000\">(l, d, a, g, f, b, j, i, c, m) }</span>                        <span style=\"color: #000000; text-decoration-color: #000000\">    ] n d</span>                                                                                 \n",
       "                                                               <span style=\"color: #000000; text-decoration-color: #000000\">    q</span><span style=\"color: #800080; text-decoration-color: #800080\">:f32[5]</span><span style=\"color: #000000; text-decoration-color: #000000\"> = mul o c</span>                                                                    \n",
       "                                                               <span style=\"color: #000000; text-decoration-color: #000000\">    r</span><span style=\"color: #800080; text-decoration-color: #800080\">:f32[4]</span><span style=\"color: #000000; text-decoration-color: #000000\"> = dot_general[</span>                                                               \n",
       "                                                               <span style=\"color: #000000; text-decoration-color: #000000\">      dimension_numbers=(([0], [0]), ([], []))</span>                                            \n",
       "                                                               <span style=\"color: #000000; text-decoration-color: #000000\">      preferred_element_type=float32</span>                                                      \n",
       "                                                               <span style=\"color: #000000; text-decoration-color: #000000\">    ] q b</span>                                                                                 \n",
       "                                                               <span style=\"color: #000000; text-decoration-color: #000000\">    s</span><span style=\"color: #800080; text-decoration-color: #800080\">:f32[5,4]</span><span style=\"color: #000000; text-decoration-color: #000000\"> = dot_general[</span>                                                             \n",
       "                                                               <span style=\"color: #000000; text-decoration-color: #000000\">      dimension_numbers=(([], []), ([], []))</span>                                              \n",
       "                                                               <span style=\"color: #000000; text-decoration-color: #000000\">      preferred_element_type=float32</span>                                                      \n",
       "                                                               <span style=\"color: #000000; text-decoration-color: #000000\">    ] q a</span>                                                                                 \n",
       "                                                               <span style=\"color: #000000; text-decoration-color: #000000\">  </span><span style=\"color: #000080; text-decoration-color: #000080; font-weight: bold\">in </span><span style=\"color: #000000; text-decoration-color: #000000\">(s, p, m, r) }</span>                                                                       \n",
       "</pre>\n"
      ],
      "text/plain": [
       "                                                                                                                                                         \n",
       "  \u001b[1;32mforward computation:\u001b[0m                                         \u001b[1;32mbackward computation:\u001b[0m                                                                     \n",
       "                                                                                                                                                         \n",
       "  { \u001b[1;34mlambda \u001b[0m\u001b[39m; a\u001b[0m\u001b[35m:f32[5,4]\u001b[0m\u001b[39m b\u001b[0m\u001b[35m:f32[6,5]\u001b[0m\u001b[39m c\u001b[0m\u001b[35m:f32[7,6]\u001b[0m\u001b[39m d\u001b[0m\u001b[35m:f32[4]\u001b[0m\u001b[39m. \u001b[0m\u001b[1;34mlet\u001b[0m    { \u001b[1;34mlambda \u001b[0m\u001b[39m; a\u001b[0m\u001b[35m:f32[4]\u001b[0m\u001b[39m b\u001b[0m\u001b[35m:f32[5,4]\u001b[0m\u001b[39m c\u001b[0m\u001b[35m:f32[5]\u001b[0m\u001b[39m d\u001b[0m\u001b[35m:f32[5]\u001b[0m\u001b[39m e\u001b[0m\u001b[35m:f32[6,5]\u001b[0m\u001b[39m f\u001b[0m\u001b[35m:f32[6]\u001b[0m\u001b[39m g\u001b[0m\u001b[35m:f32[6]\u001b[0m\u001b[39m h\u001b[0m\u001b[35m:f32[7,6]\u001b[0m  \n",
       "  \u001b[1;34m    \u001b[0m\u001b[39me\u001b[0m\u001b[35m:f32[5]\u001b[0m\u001b[39m = dot_general[\u001b[0m                                  \u001b[39m    i\u001b[0m\u001b[35m:f32[7]\u001b[0m\u001b[39m j\u001b[0m\u001b[35m:f32[7]\u001b[0m\u001b[39m. \u001b[0m\u001b[1;34mlet\u001b[0m                                                                \n",
       "  \u001b[39m      dimension_numbers=(([1], [0]), ([], []))\u001b[0m               \u001b[1;34m    \u001b[0m\u001b[39mk\u001b[0m\u001b[35m:f32[7]\u001b[0m\u001b[39m = mul j i\u001b[0m                                                                    \n",
       "  \u001b[39m      preferred_element_type=float32\u001b[0m                         \u001b[39m    l\u001b[0m\u001b[35m:f32[6]\u001b[0m\u001b[39m = dot_general[\u001b[0m                                                               \n",
       "  \u001b[39m    ] a d\u001b[0m                                                    \u001b[39m      dimension_numbers=(([0], [0]), ([], []))\u001b[0m                                            \n",
       "  \u001b[39m    f\u001b[0m\u001b[35m:f32[5]\u001b[0m\u001b[39m = sin e\u001b[0m                                         \u001b[39m      preferred_element_type=float32\u001b[0m                                                      \n",
       "  \u001b[39m    g\u001b[0m\u001b[35m:f32[5]\u001b[0m\u001b[39m = cos e\u001b[0m                                         \u001b[39m    ] k h\u001b[0m                                                                                 \n",
       "  \u001b[39m    h\u001b[0m\u001b[35m:f32[6]\u001b[0m\u001b[39m = dot_general[\u001b[0m                                  \u001b[39m    m\u001b[0m\u001b[35m:f32[7,6]\u001b[0m\u001b[39m = dot_general[\u001b[0m                                                             \n",
       "  \u001b[39m      dimension_numbers=(([1], [0]), ([], []))\u001b[0m               \u001b[39m      dimension_numbers=(([], []), ([], []))\u001b[0m                                              \n",
       "  \u001b[39m      preferred_element_type=float32\u001b[0m                         \u001b[39m      preferred_element_type=float32\u001b[0m                                                      \n",
       "  \u001b[39m    ] b f\u001b[0m                                                    \u001b[39m    ] k g\u001b[0m                                                                                 \n",
       "  \u001b[39m    i\u001b[0m\u001b[35m:f32[6]\u001b[0m\u001b[39m = sin h\u001b[0m                                         \u001b[39m    n\u001b[0m\u001b[35m:f32[6]\u001b[0m\u001b[39m = mul l f\u001b[0m                                                                    \n",
       "  \u001b[39m    j\u001b[0m\u001b[35m:f32[6]\u001b[0m\u001b[39m = cos h\u001b[0m                                         \u001b[39m    o\u001b[0m\u001b[35m:f32[5]\u001b[0m\u001b[39m = dot_general[\u001b[0m                                                               \n",
       "  \u001b[39m    k\u001b[0m\u001b[35m:f32[7]\u001b[0m\u001b[39m = dot_general[\u001b[0m                                  \u001b[39m      dimension_numbers=(([0], [0]), ([], []))\u001b[0m                                            \n",
       "  \u001b[39m      dimension_numbers=(([1], [0]), ([], []))\u001b[0m               \u001b[39m      preferred_element_type=float32\u001b[0m                                                      \n",
       "  \u001b[39m      preferred_element_type=float32\u001b[0m                         \u001b[39m    ] n e\u001b[0m                                                                                 \n",
       "  \u001b[39m    ] c i\u001b[0m                                                    \u001b[39m    p\u001b[0m\u001b[35m:f32[6,5]\u001b[0m\u001b[39m = dot_general[\u001b[0m                                                             \n",
       "  \u001b[39m    l\u001b[0m\u001b[35m:f32[7]\u001b[0m\u001b[39m = sin k\u001b[0m                                         \u001b[39m      dimension_numbers=(([], []), ([], []))\u001b[0m                                              \n",
       "  \u001b[39m    m\u001b[0m\u001b[35m:f32[7]\u001b[0m\u001b[39m = cos k\u001b[0m                                         \u001b[39m      preferred_element_type=float32\u001b[0m                                                      \n",
       "  \u001b[39m  \u001b[0m\u001b[1;34min \u001b[0m\u001b[39m(l, d, a, g, f, b, j, i, c, m) }\u001b[0m                        \u001b[39m    ] n d\u001b[0m                                                                                 \n",
       "                                                               \u001b[39m    q\u001b[0m\u001b[35m:f32[5]\u001b[0m\u001b[39m = mul o c\u001b[0m                                                                    \n",
       "                                                               \u001b[39m    r\u001b[0m\u001b[35m:f32[4]\u001b[0m\u001b[39m = dot_general[\u001b[0m                                                               \n",
       "                                                               \u001b[39m      dimension_numbers=(([0], [0]), ([], []))\u001b[0m                                            \n",
       "                                                               \u001b[39m      preferred_element_type=float32\u001b[0m                                                      \n",
       "                                                               \u001b[39m    ] q b\u001b[0m                                                                                 \n",
       "                                                               \u001b[39m    s\u001b[0m\u001b[35m:f32[5,4]\u001b[0m\u001b[39m = dot_general[\u001b[0m                                                             \n",
       "                                                               \u001b[39m      dimension_numbers=(([], []), ([], []))\u001b[0m                                              \n",
       "                                                               \u001b[39m      preferred_element_type=float32\u001b[0m                                                      \n",
       "                                                               \u001b[39m    ] q a\u001b[0m                                                                                 \n",
       "                                                               \u001b[39m  \u001b[0m\u001b[1;34min \u001b[0m\u001b[39m(s, p, m, r) }\u001b[0m                                                                       \n"
      ]
     },
     "metadata": {},
     "output_type": "display_data"
    }
   ],
   "source": [
    "from jax.tree_util import tree_flatten, tree_unflatten\n",
    "\n",
    "from rich.console import Console\n",
    "from rich.table import Table\n",
    "import rich.text\n",
    "\n",
    "def print_fwd_bwd(f, *args, **kwargs) -> None:\n",
    "  args, in_tree = tree_flatten((args, kwargs))\n",
    "\n",
    "  def f_(*args):\n",
    "    args, kwargs = tree_unflatten(in_tree, args)\n",
    "    return f(*args, **kwargs)\n",
    "\n",
    "  fwd = jax.make_jaxpr(lambda *args: jax.vjp(f_, *args))(*args).jaxpr\n",
    "\n",
    "  y, f_vjp = jax.vjp(f_, *args)\n",
    "  res, in_tree = tree_flatten(f_vjp)\n",
    "\n",
    "  def g_(*args):\n",
    "    *res, y = args\n",
    "    f_vjp = tree_unflatten(in_tree, res)\n",
    "    return f_vjp(y)\n",
    "\n",
    "  bwd = jax.make_jaxpr(g_)(*res, y).jaxpr\n",
    "\n",
    "  table = Table(show_header=False, show_lines=True, padding=(1, 2, 0, 2), box=None)\n",
    "  table.add_row(\"[bold green]forward computation:\",\n",
    "                \"[bold green]backward computation:\")\n",
    "  table.add_row(rich.text.Text.from_ansi(str(fwd)),\n",
    "                rich.text.Text.from_ansi(str(bwd)))\n",
    "  console = Console(width=240, force_jupyter=True)\n",
    "  console.print(table)\n",
    "\n",
    "def _renderable_repr(self):\n",
    "  return self.html\n",
    "rich.jupyter.JupyterRenderable._repr_html_ = _renderable_repr\n",
    "\n",
    "# Without using `jax.checkpoint`:\n",
    "print_fwd_bwd(f, W1, W2, W3, x)"
   ]
  },
  {
   "cell_type": "code",
   "execution_count": 6,
   "metadata": {},
   "outputs": [
    {
     "data": {
      "text/html": [
       "<pre style=\"white-space:pre;overflow-x:auto;line-height:normal;font-family:Menlo,'DejaVu Sans Mono',consolas,'Courier New',monospace\">                                                                                                                                                                        \n",
       "  <span style=\"color: #008000; text-decoration-color: #008000; font-weight: bold\">forward computation:</span>                                                   <span style=\"color: #008000; text-decoration-color: #008000; font-weight: bold\">backward computation:</span>                                                                          \n",
       "                                                                                                                                                                        \n",
       "  { <span style=\"color: #000080; text-decoration-color: #000080; font-weight: bold\">lambda </span><span style=\"color: #000000; text-decoration-color: #000000\">; a</span><span style=\"color: #800080; text-decoration-color: #800080\">:f32[5,4]</span><span style=\"color: #000000; text-decoration-color: #000000\"> b</span><span style=\"color: #800080; text-decoration-color: #800080\">:f32[6,5]</span><span style=\"color: #000000; text-decoration-color: #000000\"> c</span><span style=\"color: #800080; text-decoration-color: #800080\">:f32[7,6]</span><span style=\"color: #000000; text-decoration-color: #000000\"> d</span><span style=\"color: #800080; text-decoration-color: #800080\">:f32[4]</span><span style=\"color: #000000; text-decoration-color: #000000\">. </span><span style=\"color: #000080; text-decoration-color: #000080; font-weight: bold\">let</span>              { <span style=\"color: #000080; text-decoration-color: #000080; font-weight: bold\">lambda </span><span style=\"color: #000000; text-decoration-color: #000000\">; a</span><span style=\"color: #800080; text-decoration-color: #800080\">:f32[5]</span><span style=\"color: #000000; text-decoration-color: #000000\"> b</span><span style=\"color: #800080; text-decoration-color: #800080\">:f32[6]</span><span style=\"color: #000000; text-decoration-color: #000000\"> c</span><span style=\"color: #800080; text-decoration-color: #800080\">:f32[7]</span><span style=\"color: #000000; text-decoration-color: #000000\"> d</span><span style=\"color: #800080; text-decoration-color: #800080\">:f32[5,4]</span><span style=\"color: #000000; text-decoration-color: #000000\"> e</span><span style=\"color: #800080; text-decoration-color: #800080\">:f32[6,5]</span><span style=\"color: #000000; text-decoration-color: #000000\"> f</span><span style=\"color: #800080; text-decoration-color: #800080\">:f32[7,6]</span><span style=\"color: #000000; text-decoration-color: #000000\"> g</span><span style=\"color: #800080; text-decoration-color: #800080\">:f32[4]</span><span style=\"color: #000000; text-decoration-color: #000000\"> h</span><span style=\"color: #800080; text-decoration-color: #800080\">:f32[7]</span><span style=\"color: #000000; text-decoration-color: #000000\">. </span><span style=\"color: #000080; text-decoration-color: #000080; font-weight: bold\">let</span>  \n",
       "  <span style=\"color: #000080; text-decoration-color: #000080; font-weight: bold\">    </span><span style=\"color: #000000; text-decoration-color: #000000\">e</span><span style=\"color: #800080; text-decoration-color: #800080\">:f32[5]</span><span style=\"color: #000000; text-decoration-color: #000000\"> = dot_general[</span>                                            <span style=\"color: #000080; text-decoration-color: #000080; font-weight: bold\">    </span><span style=\"color: #000000; text-decoration-color: #000000\">i</span><span style=\"color: #800080; text-decoration-color: #800080\">:f32[5,4]</span><span style=\"color: #000000; text-decoration-color: #000000\"> j</span><span style=\"color: #800080; text-decoration-color: #800080\">:f32[6,5]</span><span style=\"color: #000000; text-decoration-color: #000000\"> k</span><span style=\"color: #800080; text-decoration-color: #800080\">:f32[7,6]</span><span style=\"color: #000000; text-decoration-color: #000000\"> l</span><span style=\"color: #800080; text-decoration-color: #800080\">:f32[4]</span><span style=\"color: #000000; text-decoration-color: #000000\"> = remat2[</span>                                        \n",
       "  <span style=\"color: #000000; text-decoration-color: #000000\">      dimension_numbers=(([1], [0]), ([], []))</span>                         <span style=\"color: #000000; text-decoration-color: #000000\">      differentiated=True</span>                                                                      \n",
       "  <span style=\"color: #000000; text-decoration-color: #000000\">      preferred_element_type=float32</span>                                   <span style=\"color: #000000; text-decoration-color: #000000\">      jaxpr={ </span><span style=\"color: #000080; text-decoration-color: #000080; font-weight: bold\">lambda </span><span style=\"color: #000000; text-decoration-color: #000000\">; m</span><span style=\"color: #800080; text-decoration-color: #800080\">:f32[5]</span><span style=\"color: #000000; text-decoration-color: #000000\"> n</span><span style=\"color: #800080; text-decoration-color: #800080\">:f32[6]</span><span style=\"color: #000000; text-decoration-color: #000000\"> o</span><span style=\"color: #800080; text-decoration-color: #800080\">:f32[7]</span><span style=\"color: #000000; text-decoration-color: #000000\"> p</span><span style=\"color: #800080; text-decoration-color: #800080\">:f32[5,4]</span><span style=\"color: #000000; text-decoration-color: #000000\"> q</span><span style=\"color: #800080; text-decoration-color: #800080\">:f32[6,5]</span><span style=\"color: #000000; text-decoration-color: #000000\"> r</span><span style=\"color: #800080; text-decoration-color: #800080\">:f32[7,6]</span>             \n",
       "  <span style=\"color: #000000; text-decoration-color: #000000\">    ] a d</span>                                                              <span style=\"color: #000000; text-decoration-color: #000000\">          s</span><span style=\"color: #800080; text-decoration-color: #800080\">:f32[4]</span><span style=\"color: #000000; text-decoration-color: #000000\"> t</span><span style=\"color: #800080; text-decoration-color: #800080\">:f32[7]</span><span style=\"color: #000000; text-decoration-color: #000000\">. </span><span style=\"color: #000080; text-decoration-color: #000080; font-weight: bold\">let</span>                                                               \n",
       "  <span style=\"color: #000000; text-decoration-color: #000000\">    f</span><span style=\"color: #800080; text-decoration-color: #800080\">:f32[5]</span><span style=\"color: #000000; text-decoration-color: #000000\"> = reduce_precision[exponent_bits=8 mantissa_bits=23] e</span>    <span style=\"color: #000080; text-decoration-color: #000080; font-weight: bold\">          </span><span style=\"color: #000000; text-decoration-color: #000000\">u</span><span style=\"color: #800080; text-decoration-color: #800080\">:f32[5]</span><span style=\"color: #000000; text-decoration-color: #000000\"> = sin m</span>                                                                     \n",
       "  <span style=\"color: #000000; text-decoration-color: #000000\">    g</span><span style=\"color: #800080; text-decoration-color: #800080\">:f32[5]</span><span style=\"color: #000000; text-decoration-color: #000000\"> = sin f</span>                                                   <span style=\"color: #000000; text-decoration-color: #000000\">          v</span><span style=\"color: #800080; text-decoration-color: #800080\">:f32[5]</span><span style=\"color: #000000; text-decoration-color: #000000\"> = cos m</span>                                                                     \n",
       "  <span style=\"color: #000000; text-decoration-color: #000000\">    h</span><span style=\"color: #800080; text-decoration-color: #800080\">:f32[6]</span><span style=\"color: #000000; text-decoration-color: #000000\"> = dot_general[</span>                                            <span style=\"color: #000000; text-decoration-color: #000000\">          w</span><span style=\"color: #800080; text-decoration-color: #800080\">:f32[6]</span><span style=\"color: #000000; text-decoration-color: #000000\"> = sin n</span>                                                                     \n",
       "  <span style=\"color: #000000; text-decoration-color: #000000\">      dimension_numbers=(([1], [0]), ([], []))</span>                         <span style=\"color: #000000; text-decoration-color: #000000\">          x</span><span style=\"color: #800080; text-decoration-color: #800080\">:f32[6]</span><span style=\"color: #000000; text-decoration-color: #000000\"> = cos n</span>                                                                     \n",
       "  <span style=\"color: #000000; text-decoration-color: #000000\">      preferred_element_type=float32</span>                                   <span style=\"color: #000000; text-decoration-color: #000000\">          y</span><span style=\"color: #800080; text-decoration-color: #800080\">:f32[7]</span><span style=\"color: #000000; text-decoration-color: #000000\"> = cos o</span>                                                                     \n",
       "  <span style=\"color: #000000; text-decoration-color: #000000\">    ] b g</span>                                                              <span style=\"color: #000000; text-decoration-color: #000000\">          z</span><span style=\"color: #800080; text-decoration-color: #800080\">:f32[7]</span><span style=\"color: #000000; text-decoration-color: #000000\"> = mul t y</span>                                                                   \n",
       "  <span style=\"color: #000000; text-decoration-color: #000000\">    i</span><span style=\"color: #800080; text-decoration-color: #800080\">:f32[6]</span><span style=\"color: #000000; text-decoration-color: #000000\"> = reduce_precision[exponent_bits=8 mantissa_bits=23] h</span>    <span style=\"color: #000000; text-decoration-color: #000000\">          ba</span><span style=\"color: #800080; text-decoration-color: #800080\">:f32[6]</span><span style=\"color: #000000; text-decoration-color: #000000\"> = dot_general[</span>                                                             \n",
       "  <span style=\"color: #000000; text-decoration-color: #000000\">    j</span><span style=\"color: #800080; text-decoration-color: #800080\">:f32[6]</span><span style=\"color: #000000; text-decoration-color: #000000\"> = sin i</span>                                                   <span style=\"color: #000000; text-decoration-color: #000000\">            dimension_numbers=(([0], [0]), ([], []))</span>                                           \n",
       "  <span style=\"color: #000000; text-decoration-color: #000000\">    k</span><span style=\"color: #800080; text-decoration-color: #800080\">:f32[7]</span><span style=\"color: #000000; text-decoration-color: #000000\"> = dot_general[</span>                                            <span style=\"color: #000000; text-decoration-color: #000000\">            preferred_element_type=float32</span>                                                     \n",
       "  <span style=\"color: #000000; text-decoration-color: #000000\">      dimension_numbers=(([1], [0]), ([], []))</span>                         <span style=\"color: #000000; text-decoration-color: #000000\">          ] z r</span>                                                                                \n",
       "  <span style=\"color: #000000; text-decoration-color: #000000\">      preferred_element_type=float32</span>                                   <span style=\"color: #000000; text-decoration-color: #000000\">          bb</span><span style=\"color: #800080; text-decoration-color: #800080\">:f32[6]</span><span style=\"color: #000000; text-decoration-color: #000000\"> = mul ba x</span>                                                                 \n",
       "  <span style=\"color: #000000; text-decoration-color: #000000\">    ] c j</span>                                                              <span style=\"color: #000000; text-decoration-color: #000000\">          bc</span><span style=\"color: #800080; text-decoration-color: #800080\">:f32[5]</span><span style=\"color: #000000; text-decoration-color: #000000\"> = dot_general[</span>                                                             \n",
       "  <span style=\"color: #000000; text-decoration-color: #000000\">    l</span><span style=\"color: #800080; text-decoration-color: #800080\">:f32[7]</span><span style=\"color: #000000; text-decoration-color: #000000\"> = reduce_precision[exponent_bits=8 mantissa_bits=23] k</span>    <span style=\"color: #000000; text-decoration-color: #000000\">            dimension_numbers=(([0], [0]), ([], []))</span>                                           \n",
       "  <span style=\"color: #000000; text-decoration-color: #000000\">    m</span><span style=\"color: #800080; text-decoration-color: #800080\">:f32[7]</span><span style=\"color: #000000; text-decoration-color: #000000\"> = sin l</span>                                                   <span style=\"color: #000000; text-decoration-color: #000000\">            preferred_element_type=float32</span>                                                     \n",
       "  <span style=\"color: #000000; text-decoration-color: #000000\">  </span><span style=\"color: #000080; text-decoration-color: #000080; font-weight: bold\">in </span><span style=\"color: #000000; text-decoration-color: #000000\">(m, f, i, l, a, b, c, d) }</span>                                        <span style=\"color: #000000; text-decoration-color: #000000\">          ] bb q</span>                                                                               \n",
       "                                                                         <span style=\"color: #000000; text-decoration-color: #000000\">          bd</span><span style=\"color: #800080; text-decoration-color: #800080\">:f32[5]</span><span style=\"color: #000000; text-decoration-color: #000000\"> = mul bc v</span>                                                                 \n",
       "                                                                         <span style=\"color: #000000; text-decoration-color: #000000\">          be</span><span style=\"color: #800080; text-decoration-color: #800080\">:f32[4]</span><span style=\"color: #000000; text-decoration-color: #000000\"> = dot_general[</span>                                                             \n",
       "                                                                         <span style=\"color: #000000; text-decoration-color: #000000\">            dimension_numbers=(([0], [0]), ([], []))</span>                                           \n",
       "                                                                         <span style=\"color: #000000; text-decoration-color: #000000\">            preferred_element_type=float32</span>                                                     \n",
       "                                                                         <span style=\"color: #000000; text-decoration-color: #000000\">          ] bd p</span>                                                                               \n",
       "                                                                         <span style=\"color: #000000; text-decoration-color: #000000\">          bf</span><span style=\"color: #800080; text-decoration-color: #800080\">:f32[5,4]</span><span style=\"color: #000000; text-decoration-color: #000000\"> = dot_general[</span>                                                           \n",
       "                                                                         <span style=\"color: #000000; text-decoration-color: #000000\">            dimension_numbers=(([], []), ([], []))</span>                                             \n",
       "                                                                         <span style=\"color: #000000; text-decoration-color: #000000\">            preferred_element_type=float32</span>                                                     \n",
       "                                                                         <span style=\"color: #000000; text-decoration-color: #000000\">          ] bd s</span>                                                                               \n",
       "                                                                         <span style=\"color: #000000; text-decoration-color: #000000\">          bg</span><span style=\"color: #800080; text-decoration-color: #800080\">:f32[6,5]</span><span style=\"color: #000000; text-decoration-color: #000000\"> = dot_general[</span>                                                           \n",
       "                                                                         <span style=\"color: #000000; text-decoration-color: #000000\">            dimension_numbers=(([], []), ([], []))</span>                                             \n",
       "                                                                         <span style=\"color: #000000; text-decoration-color: #000000\">            preferred_element_type=float32</span>                                                     \n",
       "                                                                         <span style=\"color: #000000; text-decoration-color: #000000\">          ] bb u</span>                                                                               \n",
       "                                                                         <span style=\"color: #000000; text-decoration-color: #000000\">          bh</span><span style=\"color: #800080; text-decoration-color: #800080\">:f32[7,6]</span><span style=\"color: #000000; text-decoration-color: #000000\"> = dot_general[</span>                                                           \n",
       "                                                                         <span style=\"color: #000000; text-decoration-color: #000000\">            dimension_numbers=(([], []), ([], []))</span>                                             \n",
       "                                                                         <span style=\"color: #000000; text-decoration-color: #000000\">            preferred_element_type=float32</span>                                                     \n",
       "                                                                         <span style=\"color: #000000; text-decoration-color: #000000\">          ] z w</span>                                                                                \n",
       "                                                                         <span style=\"color: #000000; text-decoration-color: #000000\">        </span><span style=\"color: #000080; text-decoration-color: #000080; font-weight: bold\">in </span><span style=\"color: #000000; text-decoration-color: #000000\">(bf, bg, bh, be) }</span>                                                                  \n",
       "                                                                         <span style=\"color: #000000; text-decoration-color: #000000\">      policy=&lt;function dot_with_no_batch_dims_saveable at 0x000001A267827CE0&gt;</span>                  \n",
       "                                                                         <span style=\"color: #000000; text-decoration-color: #000000\">      prevent_cse=True</span>                                                                         \n",
       "                                                                         <span style=\"color: #000000; text-decoration-color: #000000\">    ] a b c d e f g h</span>                                                                          \n",
       "                                                                         <span style=\"color: #000000; text-decoration-color: #000000\">  </span><span style=\"color: #000080; text-decoration-color: #000080; font-weight: bold\">in </span><span style=\"color: #000000; text-decoration-color: #000000\">(i, j, k, l) }</span>                                                                            \n",
       "</pre>\n"
      ],
      "text/plain": [
       "                                                                                                                                                                        \n",
       "  \u001b[1;32mforward computation:\u001b[0m                                                   \u001b[1;32mbackward computation:\u001b[0m                                                                          \n",
       "                                                                                                                                                                        \n",
       "  { \u001b[1;34mlambda \u001b[0m\u001b[39m; a\u001b[0m\u001b[35m:f32[5,4]\u001b[0m\u001b[39m b\u001b[0m\u001b[35m:f32[6,5]\u001b[0m\u001b[39m c\u001b[0m\u001b[35m:f32[7,6]\u001b[0m\u001b[39m d\u001b[0m\u001b[35m:f32[4]\u001b[0m\u001b[39m. \u001b[0m\u001b[1;34mlet\u001b[0m              { \u001b[1;34mlambda \u001b[0m\u001b[39m; a\u001b[0m\u001b[35m:f32[5]\u001b[0m\u001b[39m b\u001b[0m\u001b[35m:f32[6]\u001b[0m\u001b[39m c\u001b[0m\u001b[35m:f32[7]\u001b[0m\u001b[39m d\u001b[0m\u001b[35m:f32[5,4]\u001b[0m\u001b[39m e\u001b[0m\u001b[35m:f32[6,5]\u001b[0m\u001b[39m f\u001b[0m\u001b[35m:f32[7,6]\u001b[0m\u001b[39m g\u001b[0m\u001b[35m:f32[4]\u001b[0m\u001b[39m h\u001b[0m\u001b[35m:f32[7]\u001b[0m\u001b[39m. \u001b[0m\u001b[1;34mlet\u001b[0m  \n",
       "  \u001b[1;34m    \u001b[0m\u001b[39me\u001b[0m\u001b[35m:f32[5]\u001b[0m\u001b[39m = dot_general[\u001b[0m                                            \u001b[1;34m    \u001b[0m\u001b[39mi\u001b[0m\u001b[35m:f32[5,4]\u001b[0m\u001b[39m j\u001b[0m\u001b[35m:f32[6,5]\u001b[0m\u001b[39m k\u001b[0m\u001b[35m:f32[7,6]\u001b[0m\u001b[39m l\u001b[0m\u001b[35m:f32[4]\u001b[0m\u001b[39m = remat2[\u001b[0m                                        \n",
       "  \u001b[39m      dimension_numbers=(([1], [0]), ([], []))\u001b[0m                         \u001b[39m      differentiated=True\u001b[0m                                                                      \n",
       "  \u001b[39m      preferred_element_type=float32\u001b[0m                                   \u001b[39m      jaxpr={ \u001b[0m\u001b[1;34mlambda \u001b[0m\u001b[39m; m\u001b[0m\u001b[35m:f32[5]\u001b[0m\u001b[39m n\u001b[0m\u001b[35m:f32[6]\u001b[0m\u001b[39m o\u001b[0m\u001b[35m:f32[7]\u001b[0m\u001b[39m p\u001b[0m\u001b[35m:f32[5,4]\u001b[0m\u001b[39m q\u001b[0m\u001b[35m:f32[6,5]\u001b[0m\u001b[39m r\u001b[0m\u001b[35m:f32[7,6]\u001b[0m             \n",
       "  \u001b[39m    ] a d\u001b[0m                                                              \u001b[39m          s\u001b[0m\u001b[35m:f32[4]\u001b[0m\u001b[39m t\u001b[0m\u001b[35m:f32[7]\u001b[0m\u001b[39m. \u001b[0m\u001b[1;34mlet\u001b[0m                                                               \n",
       "  \u001b[39m    f\u001b[0m\u001b[35m:f32[5]\u001b[0m\u001b[39m = reduce_precision[exponent_bits=8 mantissa_bits=23] e\u001b[0m    \u001b[1;34m          \u001b[0m\u001b[39mu\u001b[0m\u001b[35m:f32[5]\u001b[0m\u001b[39m = sin m\u001b[0m                                                                     \n",
       "  \u001b[39m    g\u001b[0m\u001b[35m:f32[5]\u001b[0m\u001b[39m = sin f\u001b[0m                                                   \u001b[39m          v\u001b[0m\u001b[35m:f32[5]\u001b[0m\u001b[39m = cos m\u001b[0m                                                                     \n",
       "  \u001b[39m    h\u001b[0m\u001b[35m:f32[6]\u001b[0m\u001b[39m = dot_general[\u001b[0m                                            \u001b[39m          w\u001b[0m\u001b[35m:f32[6]\u001b[0m\u001b[39m = sin n\u001b[0m                                                                     \n",
       "  \u001b[39m      dimension_numbers=(([1], [0]), ([], []))\u001b[0m                         \u001b[39m          x\u001b[0m\u001b[35m:f32[6]\u001b[0m\u001b[39m = cos n\u001b[0m                                                                     \n",
       "  \u001b[39m      preferred_element_type=float32\u001b[0m                                   \u001b[39m          y\u001b[0m\u001b[35m:f32[7]\u001b[0m\u001b[39m = cos o\u001b[0m                                                                     \n",
       "  \u001b[39m    ] b g\u001b[0m                                                              \u001b[39m          z\u001b[0m\u001b[35m:f32[7]\u001b[0m\u001b[39m = mul t y\u001b[0m                                                                   \n",
       "  \u001b[39m    i\u001b[0m\u001b[35m:f32[6]\u001b[0m\u001b[39m = reduce_precision[exponent_bits=8 mantissa_bits=23] h\u001b[0m    \u001b[39m          ba\u001b[0m\u001b[35m:f32[6]\u001b[0m\u001b[39m = dot_general[\u001b[0m                                                             \n",
       "  \u001b[39m    j\u001b[0m\u001b[35m:f32[6]\u001b[0m\u001b[39m = sin i\u001b[0m                                                   \u001b[39m            dimension_numbers=(([0], [0]), ([], []))\u001b[0m                                           \n",
       "  \u001b[39m    k\u001b[0m\u001b[35m:f32[7]\u001b[0m\u001b[39m = dot_general[\u001b[0m                                            \u001b[39m            preferred_element_type=float32\u001b[0m                                                     \n",
       "  \u001b[39m      dimension_numbers=(([1], [0]), ([], []))\u001b[0m                         \u001b[39m          ] z r\u001b[0m                                                                                \n",
       "  \u001b[39m      preferred_element_type=float32\u001b[0m                                   \u001b[39m          bb\u001b[0m\u001b[35m:f32[6]\u001b[0m\u001b[39m = mul ba x\u001b[0m                                                                 \n",
       "  \u001b[39m    ] c j\u001b[0m                                                              \u001b[39m          bc\u001b[0m\u001b[35m:f32[5]\u001b[0m\u001b[39m = dot_general[\u001b[0m                                                             \n",
       "  \u001b[39m    l\u001b[0m\u001b[35m:f32[7]\u001b[0m\u001b[39m = reduce_precision[exponent_bits=8 mantissa_bits=23] k\u001b[0m    \u001b[39m            dimension_numbers=(([0], [0]), ([], []))\u001b[0m                                           \n",
       "  \u001b[39m    m\u001b[0m\u001b[35m:f32[7]\u001b[0m\u001b[39m = sin l\u001b[0m                                                   \u001b[39m            preferred_element_type=float32\u001b[0m                                                     \n",
       "  \u001b[39m  \u001b[0m\u001b[1;34min \u001b[0m\u001b[39m(m, f, i, l, a, b, c, d) }\u001b[0m                                        \u001b[39m          ] bb q\u001b[0m                                                                               \n",
       "                                                                         \u001b[39m          bd\u001b[0m\u001b[35m:f32[5]\u001b[0m\u001b[39m = mul bc v\u001b[0m                                                                 \n",
       "                                                                         \u001b[39m          be\u001b[0m\u001b[35m:f32[4]\u001b[0m\u001b[39m = dot_general[\u001b[0m                                                             \n",
       "                                                                         \u001b[39m            dimension_numbers=(([0], [0]), ([], []))\u001b[0m                                           \n",
       "                                                                         \u001b[39m            preferred_element_type=float32\u001b[0m                                                     \n",
       "                                                                         \u001b[39m          ] bd p\u001b[0m                                                                               \n",
       "                                                                         \u001b[39m          bf\u001b[0m\u001b[35m:f32[5,4]\u001b[0m\u001b[39m = dot_general[\u001b[0m                                                           \n",
       "                                                                         \u001b[39m            dimension_numbers=(([], []), ([], []))\u001b[0m                                             \n",
       "                                                                         \u001b[39m            preferred_element_type=float32\u001b[0m                                                     \n",
       "                                                                         \u001b[39m          ] bd s\u001b[0m                                                                               \n",
       "                                                                         \u001b[39m          bg\u001b[0m\u001b[35m:f32[6,5]\u001b[0m\u001b[39m = dot_general[\u001b[0m                                                           \n",
       "                                                                         \u001b[39m            dimension_numbers=(([], []), ([], []))\u001b[0m                                             \n",
       "                                                                         \u001b[39m            preferred_element_type=float32\u001b[0m                                                     \n",
       "                                                                         \u001b[39m          ] bb u\u001b[0m                                                                               \n",
       "                                                                         \u001b[39m          bh\u001b[0m\u001b[35m:f32[7,6]\u001b[0m\u001b[39m = dot_general[\u001b[0m                                                           \n",
       "                                                                         \u001b[39m            dimension_numbers=(([], []), ([], []))\u001b[0m                                             \n",
       "                                                                         \u001b[39m            preferred_element_type=float32\u001b[0m                                                     \n",
       "                                                                         \u001b[39m          ] z w\u001b[0m                                                                                \n",
       "                                                                         \u001b[39m        \u001b[0m\u001b[1;34min \u001b[0m\u001b[39m(bf, bg, bh, be) }\u001b[0m                                                                  \n",
       "                                                                         \u001b[39m      policy=<function dot_with_no_batch_dims_saveable at 0x000001A267827CE0>\u001b[0m                  \n",
       "                                                                         \u001b[39m      prevent_cse=True\u001b[0m                                                                         \n",
       "                                                                         \u001b[39m    ] a b c d e f g h\u001b[0m                                                                          \n",
       "                                                                         \u001b[39m  \u001b[0m\u001b[1;34min \u001b[0m\u001b[39m(i, j, k, l) }\u001b[0m                                                                            \n"
      ]
     },
     "metadata": {},
     "output_type": "display_data"
    }
   ],
   "source": [
    "# Using `jax.checkpoint` with policy=jax.checkpoint_policies.dots_with_no_batch_dims_saveable:\n",
    "print_fwd_bwd(f3, W1, W2, W3, x)"
   ]
  },
  {
   "cell_type": "markdown",
   "metadata": {},
   "source": [
    "## `jax.checkpoint` fundamentals\n",
    "In both `jax.linearize()` and `jax.vjp()`, there is flexibility in how and when some values are computed. Different choices can trade off memory use against FLOPs. JAX provides control over these choices with `jax.checkpoint()`.\n",
    "\n",
    "One such choice is whether to perform Jacobian coefficient computations on the forward pass, as soon as the inputs are available, or on the backward pass, just before the coefficients are needed. Consider the example of `sin_vjp`"
   ]
  },
  {
   "cell_type": "code",
   "execution_count": 7,
   "metadata": {},
   "outputs": [],
   "source": [
    "def sin_vjp(x):\n",
    "  y = jnp.sin(x)\n",
    "  cos_x = jnp.cos(x)\n",
    "  return y, lambda y_bar: cos_x * y_bar"
   ]
  },
  {
   "cell_type": "markdown",
   "metadata": {},
   "source": [
    "Another valid implementation would compute the value of `jnp.cos(x)` on the backward pass rather than on the forward pass"
   ]
  },
  {
   "cell_type": "code",
   "execution_count": 8,
   "metadata": {},
   "outputs": [],
   "source": [
    "def sin_vjp2(x):\n",
    "  y = jnp.sin(x)\n",
    "  return y, lambda y_bar: jnp.cos(x) * y_bar"
   ]
  },
  {
   "cell_type": "code",
   "execution_count": 9,
   "metadata": {},
   "outputs": [],
   "source": [
    "def f(x):\n",
    "  y = g(x)\n",
    "  z = h(y)\n",
    "  return z\n",
    "\n",
    "def f_vjp(x):\n",
    "  y, g_vjp = jax.vjp(g, x)\n",
    "  z, h_vjp = jax.vjp(h, y)\n",
    "  def f_bwd(z_bar):\n",
    "    y_bar, = h_vjp(z_bar)\n",
    "    x_bar, = g_vjp(y_bar)\n",
    "    return x_bar\n",
    "  return z, f_bwd"
   ]
  },
  {
   "cell_type": "markdown",
   "metadata": {},
   "source": [
    "Using words, this alternative implementation doesn’t compute `g_vjp`, or the residual values in its closure, on the forward pass. Instead, it only computes them in the backward pass `f_bwd2`. That means `f_vjp_checkpoint` requires less memory: if `g` and `h` each required similar amounts of memory for their residuals, each much larger than `x`, then the function produced by `f_vjp_checkpoint(x)` requires half the memory as that of `f_vjp(x)`!\n",
    "\n",
    "The cost you pay is redundant work: in `f_bwd2` you must re-evaluate `g(x)` as part of `jax.vjp(g, x)` just to discard its value (in the underscore variable on the line `_, g_vjp = jax.vjp(g, x)`).\n",
    "\n",
    "You can get this VJP behavior in autodiff � without having to write VJP functions directly � by instead using `jax.checkpoint()` in an alternative definition of the original function `f`"
   ]
  },
  {
   "cell_type": "code",
   "execution_count": 10,
   "metadata": {},
   "outputs": [],
   "source": [
    "def f_checkpoint(x):\n",
    "  y = jax.checkpoint(g)(x)\n",
    "  z = h(y)\n",
    "  return z"
   ]
  },
  {
   "cell_type": "markdown",
   "metadata": {},
   "source": [
    "In other words, you apply `jax.checkpoint()` to `g` — the first stage of `f` — rather than to `f` itself. This way, when you evaluate `jax.grad(f_checkpoint)(x)`, you’d get a computation like:\n",
    "\n",
    "1. Run the forward pass of `g`, discarding residual values.\n",
    "\n",
    "2. Run the forward pass of `h`, saving residuals.\n",
    "\n",
    "3. Run the backward pass of `h`, consuming residuals from step 2.\n",
    "\n",
    "4. Re-run the forward pass of `g`, saving residuals.\n",
    "\n",
    "5. Run the backward pass of `g`, consuming residuals from step 4.\n",
    "\n",
    "That is, by evaluating `jax.grad(f_checkpoint)(x)` we’d get the same computation as"
   ]
  },
  {
   "cell_type": "code",
   "execution_count": 11,
   "metadata": {},
   "outputs": [],
   "source": [
    "def f_checkpoint_grad(x):\n",
    "  y = g(x)                  # step 1\n",
    "  _, h_vjp = jax.vjp(h)(y)  # step 2\n",
    "  y_bar, = h_vjp(1.0)       # step 3\n",
    "  _, g_vjp = jax.vjp(g, x)  # step 4\n",
    "  x_bar, = g_vjp(y_bar)     # step 5\n",
    "  return x_bar"
   ]
  },
  {
   "cell_type": "markdown",
   "metadata": {},
   "source": [
    "In general, `jax.checkpoint(foo)` is a new function which has the same input-output behavior as foo, but behaves differently under autodiff, particularly under `jax.linearize()` and `jax.vjp()` (and their wrappers, like `jax.grad()`) but not `jax.jvp()`. When differentiated, only the input to a `jax.checkpoint()`-differentiated function is stored on the forward pass. On the backward pass, the residuals are recomputed.\n",
    "\n",
    "Notice that if `f = lambda x: h(g(x))` is the function you want to differentiate (in other words, if you want to apply `jax.grad(f)`) you don’t get any memory savings by applying `jax.checkpoint()` to `f` itself. That’s because evaluating `jax.grad(jax.checkpoint(f))(x)` would lead to a computation, such as:\n",
    "\n",
    "1. Run the forward pass, discarding all residuals.\n",
    "\n",
    "2. Immediately re-run the forward pass, saving residuals.\n",
    "\n",
    "3. Run the backward pass, consuming residuals from step 2.\n",
    "\n",
    "In code, you’d have something like:"
   ]
  },
  {
   "cell_type": "code",
   "execution_count": 12,
   "metadata": {},
   "outputs": [],
   "source": [
    "def f_grad_bad(x):\n",
    "  _ = f(x)                  # step 1\n",
    "  _, f_vjp = jax.vjp(f, x)  # step 2\n",
    "  x_bar, = f_vjp(1.0)       # step 3\n",
    "  return x_bar"
   ]
  },
  {
   "cell_type": "markdown",
   "metadata": {},
   "source": [
    "You also wouldn’t get any memory savings by applying `jax.checkpoint()` to `h`, the second stage of `f`. That’s because evaluating `jax.grad(lambda x: jax.checkpoint(h)(g(x)))` would lead to a computation, such as:\n",
    "\n",
    "1. Run the forward pass of `g`, saving residuals.\n",
    "\n",
    "2. Run the forward pass of `h`, discarding residuals.\n",
    "\n",
    "3. Immediately re-run the forward pass of `h`, saving residuals.\n",
    "\n",
    "4. Run the backward pass of `h`, consuming residuals from step 3.\n",
    "\n",
    "5. Run the backward pass of `g`, consuming residuals from step 1.\n",
    "\n",
    "In code you’d have something like"
   ]
  },
  {
   "cell_type": "code",
   "execution_count": 13,
   "metadata": {},
   "outputs": [],
   "source": [
    "def f_grad_bad2(x):\n",
    "  y, g_vjp = jax.vjp(g, x)  # step 1\n",
    "  z = h(y)                  # step 2\n",
    "  _, h_vjp = jax.vjp(h, y)  # step 3\n",
    "  y_bar, = h_vjp(1.0)       # step 3\n",
    "  x_bar, = g_vjp(y_bar)     # step 5\n",
    "  return x_bar"
   ]
  },
  {
   "cell_type": "markdown",
   "metadata": {},
   "source": [
    "Slightly more generally, if you had a chain composition of functions, such as `f = lambda x: f3(f2(f1(x)))`, and were interested in evaluating `jax.grad(f)`, you could say that you:\n",
    "\n",
    "* Shouldn’t apply `jax.checkpoint()` to the whole function `f`, since that wouldn’t save any memory (and will perform wasteful recomputation).\n",
    "\n",
    "* Shouldn’t apply `jax.checkpoint()` to the last sub-function `f3`, since that wouldn’t save any memory (and will perform wasteful recomputation).\n",
    "\n",
    "* Could apply `jax.checkpoint()` to `f1`, `f2`, or their composition `lambda x: f2(f1(x))`, since any of those might save memory and would express different memory/recompute tradeoffs.\n",
    "\n",
    "## Custom policies for what’s saveable\n",
    "As shown so far, using `jax.checkpoint()` switches from one extreme to another:\n",
    "\n",
    "* Without `jax.checkpoint()`, JAX’s autodiff tends to compute everything possible on the forward pass and store it for the backward pass.\n",
    "\n",
    "* With a `jax.checkpoint()` decorator, you instead compute as little as possible on the forward pass and recompute values as needed on the backward pass.\n",
    "\n",
    "To operate between these two extremes, saving some things and not others, you can carefully place `jax.checkpoint()` decorators on sub-functions. But that requires editing the function to be differentiated, e.g. model code, which may be inconvenient. It can also be hard to experiment with variations.\n",
    "\n",
    "So an alternative is to use the `policy` argument to `jax.checkpoint()`. A policy is a callable (i.e. a function) which takes as input a type-level specification of a first order primitive application and returns a boolean indicating whether the corresponding output value(s) are allowed to be saved as residuals (or instead must be recomputed in the (co)tangent computation as needed). To write robust code, a policy should be selected from the attributes on `jax.checkpoint_policies()`, like `jax.checkpoint_policies.dots_with_no_batch_dims_saveable()`, since the API for writing custom policy callables is considered internal.\n",
    "\n",
    "For example, consider this function to be differentiated:"
   ]
  },
  {
   "cell_type": "code",
   "execution_count": 14,
   "metadata": {},
   "outputs": [],
   "source": [
    "def loss(params, x, y):\n",
    "  return jnp.sum((predict(params, x) - y)**2)\n",
    "\n",
    "def predict(params, x):\n",
    "  *Ws, Wlast = params\n",
    "  for W in Ws:\n",
    "    x = layer(W, x)\n",
    "  x = jnp.dot(Wlast, x)\n",
    "  return x\n",
    "\n",
    "def layer(W, x):\n",
    "  return jnp.sin(jnp.dot(W, x))"
   ]
  },
  {
   "cell_type": "code",
   "execution_count": 15,
   "metadata": {},
   "outputs": [
    {
     "name": "stdout",
     "output_type": "stream",
     "text": [
      "f32[4,4] from the argument params[0]\n",
      "f32[4,4] from the argument params[1]\n",
      "f32[4,4] from the argument params[2]\n",
      "f32[4] from the argument x\n",
      "f32[4] output of sin from C:\\Users\\devanshu.tayal\\AppData\\Local\\Temp\\ipykernel_14236\\4230705069.py:12:9 (layer)\n",
      "f32[4] output of cos from C:\\Users\\devanshu.tayal\\AppData\\Local\\Temp\\ipykernel_14236\\4230705069.py:12:9 (layer)\n",
      "f32[4] output of sin from C:\\Users\\devanshu.tayal\\AppData\\Local\\Temp\\ipykernel_14236\\4230705069.py:12:9 (layer)\n",
      "f32[4] output of cos from C:\\Users\\devanshu.tayal\\AppData\\Local\\Temp\\ipykernel_14236\\4230705069.py:12:9 (layer)\n",
      "f32[4] output of mul from C:\\Users\\devanshu.tayal\\AppData\\Local\\Temp\\ipykernel_14236\\4230705069.py:2:17 (loss)\n"
     ]
    }
   ],
   "source": [
    "W1 = W2 = W3 = jnp.ones((4, 4))\n",
    "params = [W1, W2, W3]\n",
    "x = jnp.ones(4)\n",
    "y = jnp.ones(4)\n",
    "\n",
    "print_saved_residuals(loss, params, x, y)"
   ]
  },
  {
   "cell_type": "code",
   "execution_count": 16,
   "metadata": {},
   "outputs": [
    {
     "name": "stdout",
     "output_type": "stream",
     "text": [
      "f32[4,4] from the argument params[0]\n",
      "f32[4,4] from the argument params[1]\n",
      "f32[4,4] from the argument params[2]\n",
      "f32[4] from the argument x\n",
      "f32[4] from the argument y\n",
      "f32[4] output of reduce_precision from C:\\Users\\devanshu.tayal\\AppData\\Local\\Temp\\ipykernel_14236\\4230705069.py:12:17 (layer)\n",
      "f32[4] output of reduce_precision from C:\\Users\\devanshu.tayal\\AppData\\Local\\Temp\\ipykernel_14236\\4230705069.py:12:17 (layer)\n",
      "f32[4] output of reduce_precision from C:\\Users\\devanshu.tayal\\AppData\\Local\\Temp\\ipykernel_14236\\4230705069.py:8:6 (predict)\n"
     ]
    }
   ],
   "source": [
    "loss_checkpoint = jax.checkpoint(loss, policy=jax.checkpoint_policies.dots_with_no_batch_dims_saveable)\n",
    "print_saved_residuals(loss_checkpoint, params, x, y)"
   ]
  },
  {
   "cell_type": "code",
   "execution_count": 18,
   "metadata": {},
   "outputs": [
    {
     "name": "stdout",
     "output_type": "stream",
     "text": [
      "f32[4,4] from the argument params[0]\n",
      "f32[4,4] from the argument params[1]\n",
      "f32[4,4] from the argument params[2]\n",
      "f32[4] from the argument x\n",
      "f32[4] output of cos from C:\\Users\\devanshu.tayal\\AppData\\Local\\Temp\\ipykernel_14236\\4230705069.py:12:9 (layer)\n",
      "f32[4] named 'layer0_output' from C:\\Users\\devanshu.tayal\\AppData\\Local\\Temp\\ipykernel_14236\\4237985179.py:7:8 (predict)\n",
      "f32[4] output of cos from C:\\Users\\devanshu.tayal\\AppData\\Local\\Temp\\ipykernel_14236\\4230705069.py:12:9 (layer)\n",
      "f32[4] named 'layer1_output' from C:\\Users\\devanshu.tayal\\AppData\\Local\\Temp\\ipykernel_14236\\4237985179.py:7:8 (predict)\n",
      "f32[4] output of mul from C:\\Users\\devanshu.tayal\\AppData\\Local\\Temp\\ipykernel_14236\\4230705069.py:2:17 (loss)\n"
     ]
    }
   ],
   "source": [
    "from jax.ad_checkpoint import checkpoint_name\n",
    "\n",
    "def predict(params, x):\n",
    "  *Ws, Wlast = params\n",
    "  for i, W in enumerate(Ws):\n",
    "    x = layer(W, x)\n",
    "    x = checkpoint_name(x, name=f'layer{i}_output')\n",
    "  x = jnp.dot(Wlast, x)\n",
    "  return x\n",
    "\n",
    "print_saved_residuals(loss, params, x, y)"
   ]
  },
  {
   "cell_type": "code",
   "execution_count": 19,
   "metadata": {},
   "outputs": [
    {
     "name": "stdout",
     "output_type": "stream",
     "text": [
      "f32[4,4] from the argument params[0]\n",
      "f32[4,4] from the argument params[1]\n",
      "f32[4,4] from the argument params[2]\n",
      "f32[4] from the argument x\n",
      "f32[4] from the argument y\n"
     ]
    }
   ],
   "source": [
    "loss_checkpoint2 = jax.checkpoint(loss, policy=jax.checkpoint_policies.save_any_names_but_these('layer1_output'))\n",
    "print_saved_residuals(loss_checkpoint2, params, x, y)"
   ]
  },
  {
   "cell_type": "markdown",
   "metadata": {},
   "source": [
    "### List of policies\n",
    "The policies are:\n",
    "\n",
    "* `everything_saveable` (the default strategy, as if `jax.checkpoint` were not being used at all)\n",
    "\n",
    "* `nothing_saveable` (i.e. rematerialize everything, as if a custom policy were not being used at all)\n",
    "\n",
    "* `dots_saveable` or its alias `checkpoint_dots`\n",
    "\n",
    "* `dots_with_no_batch_dims_saveable` or its alias `checkpoint_dots_with_no_batch_dims`\n",
    "\n",
    "* `save_anything_but_these_names` (save any values except for the output of `checkpoint_name` with any of the names given)\n",
    "\n",
    "* `save_any_names_but_these` (save only named values, i.e. any outputs of `checkpoint_name`, except for those with the names given)\n",
    "\n",
    "* `save_only_these_names` (save only named values, and only among the names given)\n",
    "\n",
    "* `offload_dot_with_no_batch_dims` same as `dots_with_no_batch_dims_saveable`, but offload to CPU memory instead of recomputing.\n",
    "\n",
    "* `save_and_offload_only_these_names` same as `save_only_these_names`, but offload to CPU memory instead of recomputing.\n",
    "\n",
    "* `save_from_both_policies(policy_1, policy_2)` (like a logical `or`, so that a residual is saveable if it is saveable according to `policy_1` or `policy_2`)\n",
    "\n",
    "Policies only indicate what is saveable; a value is only saved if it’s actually needed by the backward pass.\n",
    "\n",
    "### Advanced: Recursive `jax.checkpoint`\n",
    "By applying `jax.checkpoint()` in the right way, there are many tradeoffs between memory usage and (re)computation that can be expressed. One surprising example is recursive checkpointing, where you apply `jax.checkpoint()` to a function which itself calls `jax.checkpoint()`-decorated functions in a way so that memory usage from the chain composition of *D* functions scales\n",
    "\n",
    "As a toy example, consider the chain composition of multiple `jax.numpy.sin()` functions:"
   ]
  },
  {
   "cell_type": "code",
   "execution_count": 20,
   "metadata": {},
   "outputs": [
    {
     "name": "stdout",
     "output_type": "stream",
     "text": [
      "f32[] output of cos from C:\\Users\\devanshu.tayal\\AppData\\Local\\Temp\\ipykernel_14236\\410288286.py:4:10 (chain_compose.<locals>.f)\n",
      "f32[] output of cos from C:\\Users\\devanshu.tayal\\AppData\\Local\\Temp\\ipykernel_14236\\410288286.py:4:10 (chain_compose.<locals>.f)\n",
      "f32[] output of cos from C:\\Users\\devanshu.tayal\\AppData\\Local\\Temp\\ipykernel_14236\\410288286.py:4:10 (chain_compose.<locals>.f)\n",
      "f32[] output of cos from C:\\Users\\devanshu.tayal\\AppData\\Local\\Temp\\ipykernel_14236\\410288286.py:4:10 (chain_compose.<locals>.f)\n",
      "f32[] output of cos from C:\\Users\\devanshu.tayal\\AppData\\Local\\Temp\\ipykernel_14236\\410288286.py:4:10 (chain_compose.<locals>.f)\n",
      "f32[] output of cos from C:\\Users\\devanshu.tayal\\AppData\\Local\\Temp\\ipykernel_14236\\410288286.py:4:10 (chain_compose.<locals>.f)\n",
      "f32[] output of cos from C:\\Users\\devanshu.tayal\\AppData\\Local\\Temp\\ipykernel_14236\\410288286.py:4:10 (chain_compose.<locals>.f)\n",
      "f32[] output of cos from C:\\Users\\devanshu.tayal\\AppData\\Local\\Temp\\ipykernel_14236\\410288286.py:4:10 (chain_compose.<locals>.f)\n"
     ]
    }
   ],
   "source": [
    "def chain_compose(funs):\n",
    "  def f(x):\n",
    "    for fun in funs:\n",
    "      x = fun(x)\n",
    "    return x\n",
    "  return f\n",
    "\n",
    "f = chain_compose([jnp.sin] * 8)\n",
    "print_saved_residuals(f, 3.)"
   ]
  },
  {
   "cell_type": "code",
   "execution_count": 21,
   "metadata": {},
   "outputs": [
    {
     "name": "stdout",
     "output_type": "stream",
     "text": [
      "f32[] output of cos from C:\\Users\\devanshu.tayal\\AppData\\Local\\Temp\\ipykernel_14236\\410288286.py:4:10 (chain_compose.<locals>.f)\n",
      "f32[] output of cos from C:\\Users\\devanshu.tayal\\AppData\\Local\\Temp\\ipykernel_14236\\410288286.py:4:10 (chain_compose.<locals>.f)\n",
      "f32[] output of cos from C:\\Users\\devanshu.tayal\\AppData\\Local\\Temp\\ipykernel_14236\\410288286.py:4:10 (chain_compose.<locals>.f)\n",
      "f32[] output of cos from C:\\Users\\devanshu.tayal\\AppData\\Local\\Temp\\ipykernel_14236\\410288286.py:4:10 (chain_compose.<locals>.f)\n",
      "f32[] output of cos from C:\\Users\\devanshu.tayal\\AppData\\Local\\Temp\\ipykernel_14236\\410288286.py:4:10 (chain_compose.<locals>.f)\n",
      "f32[] output of cos from C:\\Users\\devanshu.tayal\\AppData\\Local\\Temp\\ipykernel_14236\\410288286.py:4:10 (chain_compose.<locals>.f)\n",
      "f32[] output of cos from C:\\Users\\devanshu.tayal\\AppData\\Local\\Temp\\ipykernel_14236\\410288286.py:4:10 (chain_compose.<locals>.f)\n",
      "f32[] output of cos from C:\\Users\\devanshu.tayal\\AppData\\Local\\Temp\\ipykernel_14236\\410288286.py:4:10 (chain_compose.<locals>.f)\n",
      "f32[] output of cos from C:\\Users\\devanshu.tayal\\AppData\\Local\\Temp\\ipykernel_14236\\410288286.py:4:10 (chain_compose.<locals>.f)\n",
      "f32[] output of cos from C:\\Users\\devanshu.tayal\\AppData\\Local\\Temp\\ipykernel_14236\\410288286.py:4:10 (chain_compose.<locals>.f)\n",
      "f32[] output of cos from C:\\Users\\devanshu.tayal\\AppData\\Local\\Temp\\ipykernel_14236\\410288286.py:4:10 (chain_compose.<locals>.f)\n",
      "f32[] output of cos from C:\\Users\\devanshu.tayal\\AppData\\Local\\Temp\\ipykernel_14236\\410288286.py:4:10 (chain_compose.<locals>.f)\n",
      "f32[] output of cos from C:\\Users\\devanshu.tayal\\AppData\\Local\\Temp\\ipykernel_14236\\410288286.py:4:10 (chain_compose.<locals>.f)\n",
      "f32[] output of cos from C:\\Users\\devanshu.tayal\\AppData\\Local\\Temp\\ipykernel_14236\\410288286.py:4:10 (chain_compose.<locals>.f)\n",
      "f32[] output of cos from C:\\Users\\devanshu.tayal\\AppData\\Local\\Temp\\ipykernel_14236\\410288286.py:4:10 (chain_compose.<locals>.f)\n",
      "f32[] output of cos from C:\\Users\\devanshu.tayal\\AppData\\Local\\Temp\\ipykernel_14236\\410288286.py:4:10 (chain_compose.<locals>.f)\n"
     ]
    }
   ],
   "source": [
    "f = chain_compose([jnp.sin] * 16)\n",
    "print_saved_residuals(f, 3.)"
   ]
  },
  {
   "cell_type": "code",
   "execution_count": 22,
   "metadata": {},
   "outputs": [
    {
     "name": "stdout",
     "output_type": "stream",
     "text": [
      "f32[] from the argument x\n",
      "f32[] output of sin from C:\\Users\\devanshu.tayal\\AppData\\Local\\Temp\\ipykernel_14236\\2492259192.py:6:21 (recursive_checkpoint.<locals>.<lambda>)\n",
      "f32[] output of cos from C:\\Users\\devanshu.tayal\\AppData\\Local\\Temp\\ipykernel_14236\\2492259192.py:6:24 (recursive_checkpoint.<locals>.<lambda>)\n",
      "f32[] output of cos from C:\\Users\\devanshu.tayal\\AppData\\Local\\Temp\\ipykernel_14236\\2492259192.py:6:21 (recursive_checkpoint.<locals>.<lambda>)\n"
     ]
    }
   ],
   "source": [
    "def recursive_checkpoint(funs):\n",
    "  if len(funs) == 1:\n",
    "    return funs[0]\n",
    "  elif len(funs) == 2:\n",
    "    f1, f2 = funs\n",
    "    return lambda x: f1(f2(x))\n",
    "  else:\n",
    "    f1 = recursive_checkpoint(funs[:len(funs)//2])\n",
    "    f2 = recursive_checkpoint(funs[len(funs)//2:])\n",
    "    return lambda x: f1(jax.checkpoint(f2)(x))\n",
    "  \n",
    "f = recursive_checkpoint([jnp.sin] * 8)\n",
    "print_saved_residuals(f, 3.)"
   ]
  },
  {
   "cell_type": "code",
   "execution_count": 23,
   "metadata": {},
   "outputs": [
    {
     "name": "stdout",
     "output_type": "stream",
     "text": [
      "f32[] from the argument x\n",
      "f32[] output of sin from C:\\Users\\devanshu.tayal\\AppData\\Local\\Temp\\ipykernel_14236\\2492259192.py:6:21 (recursive_checkpoint.<locals>.<lambda>)\n",
      "f32[] output of sin from C:\\Users\\devanshu.tayal\\AppData\\Local\\Temp\\ipykernel_14236\\2492259192.py:6:21 (recursive_checkpoint.<locals>.<lambda>)\n",
      "f32[] output of cos from C:\\Users\\devanshu.tayal\\AppData\\Local\\Temp\\ipykernel_14236\\2492259192.py:6:24 (recursive_checkpoint.<locals>.<lambda>)\n",
      "f32[] output of cos from C:\\Users\\devanshu.tayal\\AppData\\Local\\Temp\\ipykernel_14236\\2492259192.py:6:21 (recursive_checkpoint.<locals>.<lambda>)\n"
     ]
    }
   ],
   "source": [
    "f = recursive_checkpoint([jnp.sin] * 16)\n",
    "print_saved_residuals(f, 3.)"
   ]
  },
  {
   "cell_type": "code",
   "execution_count": 24,
   "metadata": {},
   "outputs": [
    {
     "data": {
      "text/html": [
       "<pre style=\"white-space:pre;overflow-x:auto;line-height:normal;font-family:Menlo,'DejaVu Sans Mono',consolas,'Courier New',monospace\">                                                                                                                                 \n",
       "  <span style=\"color: #008000; text-decoration-color: #008000; font-weight: bold\">forward computation:</span>                  <span style=\"color: #008000; text-decoration-color: #008000; font-weight: bold\">backward computation:</span>                                                                    \n",
       "                                                                                                                                 \n",
       "  { <span style=\"color: #000080; text-decoration-color: #000080; font-weight: bold\">lambda </span><span style=\"color: #000000; text-decoration-color: #000000\">; a</span><span style=\"color: #800080; text-decoration-color: #800080\">:f32[]</span><span style=\"color: #000000; text-decoration-color: #000000\">. </span><span style=\"color: #000080; text-decoration-color: #000080; font-weight: bold\">let</span>               { <span style=\"color: #000080; text-decoration-color: #000080; font-weight: bold\">lambda </span><span style=\"color: #000000; text-decoration-color: #000000\">; a</span><span style=\"color: #800080; text-decoration-color: #800080\">:f32[]</span><span style=\"color: #000000; text-decoration-color: #000000\"> b</span><span style=\"color: #800080; text-decoration-color: #800080\">:f32[]</span><span style=\"color: #000000; text-decoration-color: #000000\"> c</span><span style=\"color: #800080; text-decoration-color: #800080\">:f32[]</span><span style=\"color: #000000; text-decoration-color: #000000\"> d</span><span style=\"color: #800080; text-decoration-color: #800080\">:f32[]</span><span style=\"color: #000000; text-decoration-color: #000000\"> e</span><span style=\"color: #800080; text-decoration-color: #800080\">:f32[]</span><span style=\"color: #000000; text-decoration-color: #000000\"> f</span><span style=\"color: #800080; text-decoration-color: #800080\">:f32[]</span><span style=\"color: #000000; text-decoration-color: #000000\"> g</span><span style=\"color: #800080; text-decoration-color: #800080\">:f32[]</span><span style=\"color: #000000; text-decoration-color: #000000\"> h</span><span style=\"color: #800080; text-decoration-color: #800080\">:f32[]</span><span style=\"color: #000000; text-decoration-color: #000000\"> i</span><span style=\"color: #800080; text-decoration-color: #800080\">:f32[]</span><span style=\"color: #000000; text-decoration-color: #000000\">. </span><span style=\"color: #000080; text-decoration-color: #000080; font-weight: bold\">let</span>  \n",
       "  <span style=\"color: #000080; text-decoration-color: #000080; font-weight: bold\">    </span><span style=\"color: #000000; text-decoration-color: #000000\">b</span><span style=\"color: #800080; text-decoration-color: #800080\">:f32[]</span><span style=\"color: #000000; text-decoration-color: #000000\"> = sin a</span>                   <span style=\"color: #000080; text-decoration-color: #000080; font-weight: bold\">    </span><span style=\"color: #000000; text-decoration-color: #000000\">j</span><span style=\"color: #800080; text-decoration-color: #800080\">:f32[]</span><span style=\"color: #000000; text-decoration-color: #000000\"> = mul i h</span>                                                                    \n",
       "  <span style=\"color: #000000; text-decoration-color: #000000\">    c</span><span style=\"color: #800080; text-decoration-color: #800080\">:f32[]</span><span style=\"color: #000000; text-decoration-color: #000000\"> = cos a</span>                   <span style=\"color: #000000; text-decoration-color: #000000\">    k</span><span style=\"color: #800080; text-decoration-color: #800080\">:f32[]</span><span style=\"color: #000000; text-decoration-color: #000000\"> = mul j g</span>                                                                    \n",
       "  <span style=\"color: #000000; text-decoration-color: #000000\">    d</span><span style=\"color: #800080; text-decoration-color: #800080\">:f32[]</span><span style=\"color: #000000; text-decoration-color: #000000\"> = sin b</span>                   <span style=\"color: #000000; text-decoration-color: #000000\">    l</span><span style=\"color: #800080; text-decoration-color: #800080\">:f32[]</span><span style=\"color: #000000; text-decoration-color: #000000\"> = mul k f</span>                                                                    \n",
       "  <span style=\"color: #000000; text-decoration-color: #000000\">    e</span><span style=\"color: #800080; text-decoration-color: #800080\">:f32[]</span><span style=\"color: #000000; text-decoration-color: #000000\"> = cos b</span>                   <span style=\"color: #000000; text-decoration-color: #000000\">    m</span><span style=\"color: #800080; text-decoration-color: #800080\">:f32[]</span><span style=\"color: #000000; text-decoration-color: #000000\"> = mul l e</span>                                                                    \n",
       "  <span style=\"color: #000000; text-decoration-color: #000000\">    f</span><span style=\"color: #800080; text-decoration-color: #800080\">:f32[]</span><span style=\"color: #000000; text-decoration-color: #000000\"> = sin d</span>                   <span style=\"color: #000000; text-decoration-color: #000000\">    n</span><span style=\"color: #800080; text-decoration-color: #800080\">:f32[]</span><span style=\"color: #000000; text-decoration-color: #000000\"> = mul m d</span>                                                                    \n",
       "  <span style=\"color: #000000; text-decoration-color: #000000\">    g</span><span style=\"color: #800080; text-decoration-color: #800080\">:f32[]</span><span style=\"color: #000000; text-decoration-color: #000000\"> = cos d</span>                   <span style=\"color: #000000; text-decoration-color: #000000\">    o</span><span style=\"color: #800080; text-decoration-color: #800080\">:f32[]</span><span style=\"color: #000000; text-decoration-color: #000000\"> = mul n c</span>                                                                    \n",
       "  <span style=\"color: #000000; text-decoration-color: #000000\">    h</span><span style=\"color: #800080; text-decoration-color: #800080\">:f32[]</span><span style=\"color: #000000; text-decoration-color: #000000\"> = sin f</span>                   <span style=\"color: #000000; text-decoration-color: #000000\">    p</span><span style=\"color: #800080; text-decoration-color: #800080\">:f32[]</span><span style=\"color: #000000; text-decoration-color: #000000\"> = mul o b</span>                                                                    \n",
       "  <span style=\"color: #000000; text-decoration-color: #000000\">    i</span><span style=\"color: #800080; text-decoration-color: #800080\">:f32[]</span><span style=\"color: #000000; text-decoration-color: #000000\"> = cos f</span>                   <span style=\"color: #000000; text-decoration-color: #000000\">    q</span><span style=\"color: #800080; text-decoration-color: #800080\">:f32[]</span><span style=\"color: #000000; text-decoration-color: #000000\"> = mul p a</span>                                                                    \n",
       "  <span style=\"color: #000000; text-decoration-color: #000000\">    j</span><span style=\"color: #800080; text-decoration-color: #800080\">:f32[]</span><span style=\"color: #000000; text-decoration-color: #000000\"> = sin h</span>                   <span style=\"color: #000000; text-decoration-color: #000000\">  </span><span style=\"color: #000080; text-decoration-color: #000080; font-weight: bold\">in </span><span style=\"color: #000000; text-decoration-color: #000000\">(q,) }</span>                                                                              \n",
       "  <span style=\"color: #000000; text-decoration-color: #000000\">    k</span><span style=\"color: #800080; text-decoration-color: #800080\">:f32[]</span><span style=\"color: #000000; text-decoration-color: #000000\"> = cos h</span>                                                                                                            \n",
       "  <span style=\"color: #000000; text-decoration-color: #000000\">    l</span><span style=\"color: #800080; text-decoration-color: #800080\">:f32[]</span><span style=\"color: #000000; text-decoration-color: #000000\"> = sin j</span>                                                                                                            \n",
       "  <span style=\"color: #000000; text-decoration-color: #000000\">    m</span><span style=\"color: #800080; text-decoration-color: #800080\">:f32[]</span><span style=\"color: #000000; text-decoration-color: #000000\"> = cos j</span>                                                                                                            \n",
       "  <span style=\"color: #000000; text-decoration-color: #000000\">    n</span><span style=\"color: #800080; text-decoration-color: #800080\">:f32[]</span><span style=\"color: #000000; text-decoration-color: #000000\"> = sin l</span>                                                                                                            \n",
       "  <span style=\"color: #000000; text-decoration-color: #000000\">    o</span><span style=\"color: #800080; text-decoration-color: #800080\">:f32[]</span><span style=\"color: #000000; text-decoration-color: #000000\"> = cos l</span>                                                                                                            \n",
       "  <span style=\"color: #000000; text-decoration-color: #000000\">    p</span><span style=\"color: #800080; text-decoration-color: #800080\">:f32[]</span><span style=\"color: #000000; text-decoration-color: #000000\"> = sin n</span>                                                                                                            \n",
       "  <span style=\"color: #000000; text-decoration-color: #000000\">    q</span><span style=\"color: #800080; text-decoration-color: #800080\">:f32[]</span><span style=\"color: #000000; text-decoration-color: #000000\"> = cos n</span>                                                                                                            \n",
       "  <span style=\"color: #000000; text-decoration-color: #000000\">  </span><span style=\"color: #000080; text-decoration-color: #000080; font-weight: bold\">in </span><span style=\"color: #000000; text-decoration-color: #000000\">(p, c, e, g, i, k, m, o, q) }</span>                                                                                             \n",
       "</pre>\n"
      ],
      "text/plain": [
       "                                                                                                                                 \n",
       "  \u001b[1;32mforward computation:\u001b[0m                  \u001b[1;32mbackward computation:\u001b[0m                                                                    \n",
       "                                                                                                                                 \n",
       "  { \u001b[1;34mlambda \u001b[0m\u001b[39m; a\u001b[0m\u001b[35m:f32[]\u001b[0m\u001b[39m. \u001b[0m\u001b[1;34mlet\u001b[0m               { \u001b[1;34mlambda \u001b[0m\u001b[39m; a\u001b[0m\u001b[35m:f32[]\u001b[0m\u001b[39m b\u001b[0m\u001b[35m:f32[]\u001b[0m\u001b[39m c\u001b[0m\u001b[35m:f32[]\u001b[0m\u001b[39m d\u001b[0m\u001b[35m:f32[]\u001b[0m\u001b[39m e\u001b[0m\u001b[35m:f32[]\u001b[0m\u001b[39m f\u001b[0m\u001b[35m:f32[]\u001b[0m\u001b[39m g\u001b[0m\u001b[35m:f32[]\u001b[0m\u001b[39m h\u001b[0m\u001b[35m:f32[]\u001b[0m\u001b[39m i\u001b[0m\u001b[35m:f32[]\u001b[0m\u001b[39m. \u001b[0m\u001b[1;34mlet\u001b[0m  \n",
       "  \u001b[1;34m    \u001b[0m\u001b[39mb\u001b[0m\u001b[35m:f32[]\u001b[0m\u001b[39m = sin a\u001b[0m                   \u001b[1;34m    \u001b[0m\u001b[39mj\u001b[0m\u001b[35m:f32[]\u001b[0m\u001b[39m = mul i h\u001b[0m                                                                    \n",
       "  \u001b[39m    c\u001b[0m\u001b[35m:f32[]\u001b[0m\u001b[39m = cos a\u001b[0m                   \u001b[39m    k\u001b[0m\u001b[35m:f32[]\u001b[0m\u001b[39m = mul j g\u001b[0m                                                                    \n",
       "  \u001b[39m    d\u001b[0m\u001b[35m:f32[]\u001b[0m\u001b[39m = sin b\u001b[0m                   \u001b[39m    l\u001b[0m\u001b[35m:f32[]\u001b[0m\u001b[39m = mul k f\u001b[0m                                                                    \n",
       "  \u001b[39m    e\u001b[0m\u001b[35m:f32[]\u001b[0m\u001b[39m = cos b\u001b[0m                   \u001b[39m    m\u001b[0m\u001b[35m:f32[]\u001b[0m\u001b[39m = mul l e\u001b[0m                                                                    \n",
       "  \u001b[39m    f\u001b[0m\u001b[35m:f32[]\u001b[0m\u001b[39m = sin d\u001b[0m                   \u001b[39m    n\u001b[0m\u001b[35m:f32[]\u001b[0m\u001b[39m = mul m d\u001b[0m                                                                    \n",
       "  \u001b[39m    g\u001b[0m\u001b[35m:f32[]\u001b[0m\u001b[39m = cos d\u001b[0m                   \u001b[39m    o\u001b[0m\u001b[35m:f32[]\u001b[0m\u001b[39m = mul n c\u001b[0m                                                                    \n",
       "  \u001b[39m    h\u001b[0m\u001b[35m:f32[]\u001b[0m\u001b[39m = sin f\u001b[0m                   \u001b[39m    p\u001b[0m\u001b[35m:f32[]\u001b[0m\u001b[39m = mul o b\u001b[0m                                                                    \n",
       "  \u001b[39m    i\u001b[0m\u001b[35m:f32[]\u001b[0m\u001b[39m = cos f\u001b[0m                   \u001b[39m    q\u001b[0m\u001b[35m:f32[]\u001b[0m\u001b[39m = mul p a\u001b[0m                                                                    \n",
       "  \u001b[39m    j\u001b[0m\u001b[35m:f32[]\u001b[0m\u001b[39m = sin h\u001b[0m                   \u001b[39m  \u001b[0m\u001b[1;34min \u001b[0m\u001b[39m(q,) }\u001b[0m                                                                              \n",
       "  \u001b[39m    k\u001b[0m\u001b[35m:f32[]\u001b[0m\u001b[39m = cos h\u001b[0m                                                                                                            \n",
       "  \u001b[39m    l\u001b[0m\u001b[35m:f32[]\u001b[0m\u001b[39m = sin j\u001b[0m                                                                                                            \n",
       "  \u001b[39m    m\u001b[0m\u001b[35m:f32[]\u001b[0m\u001b[39m = cos j\u001b[0m                                                                                                            \n",
       "  \u001b[39m    n\u001b[0m\u001b[35m:f32[]\u001b[0m\u001b[39m = sin l\u001b[0m                                                                                                            \n",
       "  \u001b[39m    o\u001b[0m\u001b[35m:f32[]\u001b[0m\u001b[39m = cos l\u001b[0m                                                                                                            \n",
       "  \u001b[39m    p\u001b[0m\u001b[35m:f32[]\u001b[0m\u001b[39m = sin n\u001b[0m                                                                                                            \n",
       "  \u001b[39m    q\u001b[0m\u001b[35m:f32[]\u001b[0m\u001b[39m = cos n\u001b[0m                                                                                                            \n",
       "  \u001b[39m  \u001b[0m\u001b[1;34min \u001b[0m\u001b[39m(p, c, e, g, i, k, m, o, q) }\u001b[0m                                                                                             \n"
      ]
     },
     "metadata": {},
     "output_type": "display_data"
    }
   ],
   "source": [
    "f = chain_compose([jnp.sin] * 8)\n",
    "print_fwd_bwd(f, 3.)"
   ]
  },
  {
   "cell_type": "code",
   "execution_count": 25,
   "metadata": {},
   "outputs": [
    {
     "data": {
      "text/html": [
       "<pre style=\"white-space:pre;overflow-x:auto;line-height:normal;font-family:Menlo,'DejaVu Sans Mono',consolas,'Courier New',monospace\">                                                                                                                                        \n",
       "  <span style=\"color: #008000; text-decoration-color: #008000; font-weight: bold\">forward computation:</span>                                                              <span style=\"color: #008000; text-decoration-color: #008000; font-weight: bold\">backward computation:</span>                               \n",
       "                                                                                                                                        \n",
       "  { <span style=\"color: #000080; text-decoration-color: #000080; font-weight: bold\">lambda </span><span style=\"color: #000000; text-decoration-color: #000000\">; a</span><span style=\"color: #800080; text-decoration-color: #800080\">:f32[]</span><span style=\"color: #000000; text-decoration-color: #000000\">. </span><span style=\"color: #000080; text-decoration-color: #000080; font-weight: bold\">let</span>                                                           { <span style=\"color: #000080; text-decoration-color: #000080; font-weight: bold\">lambda </span><span style=\"color: #000000; text-decoration-color: #000000\">; a</span><span style=\"color: #800080; text-decoration-color: #800080\">:f32[]</span><span style=\"color: #000000; text-decoration-color: #000000\"> b</span><span style=\"color: #800080; text-decoration-color: #800080\">:f32[]</span><span style=\"color: #000000; text-decoration-color: #000000\"> c</span><span style=\"color: #800080; text-decoration-color: #800080\">:f32[]</span><span style=\"color: #000000; text-decoration-color: #000000\"> d</span><span style=\"color: #800080; text-decoration-color: #800080\">:f32[]</span><span style=\"color: #000000; text-decoration-color: #000000\">. </span><span style=\"color: #000080; text-decoration-color: #000080; font-weight: bold\">let</span>     \n",
       "  <span style=\"color: #000080; text-decoration-color: #000080; font-weight: bold\">    </span><span style=\"color: #000000; text-decoration-color: #000000\">b</span><span style=\"color: #800080; text-decoration-color: #800080\">:f32[]</span><span style=\"color: #000000; text-decoration-color: #000000\"> = remat2[</span>                                                             <span style=\"color: #000080; text-decoration-color: #000080; font-weight: bold\">    </span><span style=\"color: #000000; text-decoration-color: #000000\">e</span><span style=\"color: #800080; text-decoration-color: #800080\">:f32[]</span><span style=\"color: #000000; text-decoration-color: #000000\"> = mul d c</span>                               \n",
       "  <span style=\"color: #000000; text-decoration-color: #000000\">      differentiated=False</span>                                                        <span style=\"color: #000000; text-decoration-color: #000000\">    f</span><span style=\"color: #800080; text-decoration-color: #800080\">:f32[]</span><span style=\"color: #000000; text-decoration-color: #000000\"> = mul e b</span>                               \n",
       "  <span style=\"color: #000000; text-decoration-color: #000000\">      jaxpr={ </span><span style=\"color: #000080; text-decoration-color: #000080; font-weight: bold\">lambda </span><span style=\"color: #000000; text-decoration-color: #000000\">; c</span><span style=\"color: #800080; text-decoration-color: #800080\">:f32[]</span><span style=\"color: #000000; text-decoration-color: #000000\">. </span><span style=\"color: #000080; text-decoration-color: #000080; font-weight: bold\">let</span><span style=\"color: #000000; text-decoration-color: #000000\"> d</span><span style=\"color: #800080; text-decoration-color: #800080\">:f32[]</span><span style=\"color: #000000; text-decoration-color: #000000\"> = sin c; e</span><span style=\"color: #800080; text-decoration-color: #800080\">:f32[]</span><span style=\"color: #000000; text-decoration-color: #000000\"> = sin d </span><span style=\"color: #000080; text-decoration-color: #000080; font-weight: bold\">in </span><span style=\"color: #000000; text-decoration-color: #000000\">(e,) }</span>    <span style=\"color: #000000; text-decoration-color: #000000\">    g</span><span style=\"color: #800080; text-decoration-color: #800080\">:f32[]</span><span style=\"color: #000000; text-decoration-color: #000000\"> = remat2[</span>                               \n",
       "  <span style=\"color: #000000; text-decoration-color: #000000\">      policy=None</span>                                                                 <span style=\"color: #000000; text-decoration-color: #000000\">      differentiated=True</span>                           \n",
       "  <span style=\"color: #000000; text-decoration-color: #000000\">      prevent_cse=True</span>                                                            <span style=\"color: #000000; text-decoration-color: #000000\">      jaxpr={ </span><span style=\"color: #000080; text-decoration-color: #000080; font-weight: bold\">lambda </span><span style=\"color: #000000; text-decoration-color: #000000\">; h</span><span style=\"color: #800080; text-decoration-color: #800080\">:f32[]</span><span style=\"color: #000000; text-decoration-color: #000000\"> i</span><span style=\"color: #800080; text-decoration-color: #800080\">:f32[]</span><span style=\"color: #000000; text-decoration-color: #000000\">. </span><span style=\"color: #000080; text-decoration-color: #000080; font-weight: bold\">let</span>         \n",
       "  <span style=\"color: #000000; text-decoration-color: #000000\">    ] a</span>                                                                           <span style=\"color: #000080; text-decoration-color: #000080; font-weight: bold\">          </span><span style=\"color: #000000; text-decoration-color: #000000\">j</span><span style=\"color: #800080; text-decoration-color: #800080\">:f32[]</span><span style=\"color: #000000; text-decoration-color: #000000\"> = sin h</span>                           \n",
       "  <span style=\"color: #000000; text-decoration-color: #000000\">    f</span><span style=\"color: #800080; text-decoration-color: #800080\">:f32[]</span><span style=\"color: #000000; text-decoration-color: #000000\"> = sin b</span>                                                               <span style=\"color: #000000; text-decoration-color: #000000\">          k</span><span style=\"color: #800080; text-decoration-color: #800080\">:f32[]</span><span style=\"color: #000000; text-decoration-color: #000000\"> = cos h</span>                           \n",
       "  <span style=\"color: #000000; text-decoration-color: #000000\">    g</span><span style=\"color: #800080; text-decoration-color: #800080\">:f32[]</span><span style=\"color: #000000; text-decoration-color: #000000\"> = sin f</span>                                                               <span style=\"color: #000000; text-decoration-color: #000000\">          l</span><span style=\"color: #800080; text-decoration-color: #800080\">:f32[]</span><span style=\"color: #000000; text-decoration-color: #000000\"> = cos j</span>                           \n",
       "  <span style=\"color: #000000; text-decoration-color: #000000\">    h</span><span style=\"color: #800080; text-decoration-color: #800080\">:f32[]</span><span style=\"color: #000000; text-decoration-color: #000000\"> = sin g</span>                                                               <span style=\"color: #000000; text-decoration-color: #000000\">          m</span><span style=\"color: #800080; text-decoration-color: #800080\">:f32[]</span><span style=\"color: #000000; text-decoration-color: #000000\"> = mul i l</span>                         \n",
       "  <span style=\"color: #000000; text-decoration-color: #000000\">    i</span><span style=\"color: #800080; text-decoration-color: #800080\">:f32[]</span><span style=\"color: #000000; text-decoration-color: #000000\"> = sin h</span>                                                               <span style=\"color: #000000; text-decoration-color: #000000\">          n</span><span style=\"color: #800080; text-decoration-color: #800080\">:f32[]</span><span style=\"color: #000000; text-decoration-color: #000000\"> = mul m k</span>                         \n",
       "  <span style=\"color: #000000; text-decoration-color: #000000\">    j</span><span style=\"color: #800080; text-decoration-color: #800080\">:f32[]</span><span style=\"color: #000000; text-decoration-color: #000000\"> = sin i</span>                                                               <span style=\"color: #000000; text-decoration-color: #000000\">        </span><span style=\"color: #000080; text-decoration-color: #000080; font-weight: bold\">in </span><span style=\"color: #000000; text-decoration-color: #000000\">(n,) }</span>                                   \n",
       "  <span style=\"color: #000000; text-decoration-color: #000000\">    k</span><span style=\"color: #800080; text-decoration-color: #800080\">:f32[]</span><span style=\"color: #000000; text-decoration-color: #000000\"> = cos i</span>                                                               <span style=\"color: #000000; text-decoration-color: #000000\">      policy=None</span>                                   \n",
       "  <span style=\"color: #000000; text-decoration-color: #000000\">    l</span><span style=\"color: #800080; text-decoration-color: #800080\">:f32[]</span><span style=\"color: #000000; text-decoration-color: #000000\"> = sin j</span>                                                               <span style=\"color: #000000; text-decoration-color: #000000\">      prevent_cse=True</span>                              \n",
       "  <span style=\"color: #000000; text-decoration-color: #000000\">    m</span><span style=\"color: #800080; text-decoration-color: #800080\">:f32[]</span><span style=\"color: #000000; text-decoration-color: #000000\"> = cos j</span>                                                               <span style=\"color: #000000; text-decoration-color: #000000\">    ] a f</span>                                           \n",
       "  <span style=\"color: #000000; text-decoration-color: #000000\">  </span><span style=\"color: #000080; text-decoration-color: #000080; font-weight: bold\">in </span><span style=\"color: #000000; text-decoration-color: #000000\">(l, g, a, k, m) }</span>                                                            <span style=\"color: #000000; text-decoration-color: #000000\">    o</span><span style=\"color: #800080; text-decoration-color: #800080\">:f32[]</span><span style=\"color: #000000; text-decoration-color: #000000\"> = remat2[</span>                               \n",
       "                                                                                    <span style=\"color: #000000; text-decoration-color: #000000\">      differentiated=True</span>                           \n",
       "                                                                                    <span style=\"color: #000000; text-decoration-color: #000000\">      jaxpr={ </span><span style=\"color: #000080; text-decoration-color: #000080; font-weight: bold\">lambda </span><span style=\"color: #000000; text-decoration-color: #000000\">; p</span><span style=\"color: #800080; text-decoration-color: #800080\">:f32[]</span><span style=\"color: #000000; text-decoration-color: #000000\"> q</span><span style=\"color: #800080; text-decoration-color: #800080\">:f32[]</span><span style=\"color: #000000; text-decoration-color: #000000\">. </span><span style=\"color: #000080; text-decoration-color: #000080; font-weight: bold\">let</span>         \n",
       "                                                                                    <span style=\"color: #000080; text-decoration-color: #000080; font-weight: bold\">          </span><span style=\"color: #000000; text-decoration-color: #000000\">r</span><span style=\"color: #800080; text-decoration-color: #800080\">:f32[]</span><span style=\"color: #000000; text-decoration-color: #000000\"> = sin p</span>                           \n",
       "                                                                                    <span style=\"color: #000000; text-decoration-color: #000000\">          s</span><span style=\"color: #800080; text-decoration-color: #800080\">:f32[]</span><span style=\"color: #000000; text-decoration-color: #000000\"> = sin r</span>                           \n",
       "                                                                                    <span style=\"color: #000000; text-decoration-color: #000000\">          t</span><span style=\"color: #800080; text-decoration-color: #800080\">:f32[]</span><span style=\"color: #000000; text-decoration-color: #000000\"> = sin s</span>                           \n",
       "                                                                                    <span style=\"color: #000000; text-decoration-color: #000000\">          u</span><span style=\"color: #800080; text-decoration-color: #800080\">:f32[]</span><span style=\"color: #000000; text-decoration-color: #000000\"> = cos s</span>                           \n",
       "                                                                                    <span style=\"color: #000000; text-decoration-color: #000000\">          v</span><span style=\"color: #800080; text-decoration-color: #800080\">:f32[]</span><span style=\"color: #000000; text-decoration-color: #000000\"> = cos t</span>                           \n",
       "                                                                                    <span style=\"color: #000000; text-decoration-color: #000000\">          w</span><span style=\"color: #800080; text-decoration-color: #800080\">:f32[]</span><span style=\"color: #000000; text-decoration-color: #000000\"> = mul q v</span>                         \n",
       "                                                                                    <span style=\"color: #000000; text-decoration-color: #000000\">          x</span><span style=\"color: #800080; text-decoration-color: #800080\">:f32[]</span><span style=\"color: #000000; text-decoration-color: #000000\"> = mul w u</span>                         \n",
       "                                                                                    <span style=\"color: #000000; text-decoration-color: #000000\">          y</span><span style=\"color: #800080; text-decoration-color: #800080\">:f32[]</span><span style=\"color: #000000; text-decoration-color: #000000\"> = remat2[</span>                         \n",
       "                                                                                    <span style=\"color: #000000; text-decoration-color: #000000\">            differentiated=True</span>                     \n",
       "                                                                                    <span style=\"color: #000000; text-decoration-color: #000000\">            jaxpr={ </span><span style=\"color: #000080; text-decoration-color: #000080; font-weight: bold\">lambda </span><span style=\"color: #000000; text-decoration-color: #000000\">; z</span><span style=\"color: #800080; text-decoration-color: #800080\">:f32[]</span><span style=\"color: #000000; text-decoration-color: #000000\"> ba</span><span style=\"color: #800080; text-decoration-color: #800080\">:f32[]</span><span style=\"color: #000000; text-decoration-color: #000000\">. </span><span style=\"color: #000080; text-decoration-color: #000080; font-weight: bold\">let</span>  \n",
       "                                                                                    <span style=\"color: #000080; text-decoration-color: #000080; font-weight: bold\">                </span><span style=\"color: #000000; text-decoration-color: #000000\">bb</span><span style=\"color: #800080; text-decoration-color: #800080\">:f32[]</span><span style=\"color: #000000; text-decoration-color: #000000\"> = sin z</span>                    \n",
       "                                                                                    <span style=\"color: #000000; text-decoration-color: #000000\">                bc</span><span style=\"color: #800080; text-decoration-color: #800080\">:f32[]</span><span style=\"color: #000000; text-decoration-color: #000000\"> = cos z</span>                    \n",
       "                                                                                    <span style=\"color: #000000; text-decoration-color: #000000\">                bd</span><span style=\"color: #800080; text-decoration-color: #800080\">:f32[]</span><span style=\"color: #000000; text-decoration-color: #000000\"> = cos bb</span>                   \n",
       "                                                                                    <span style=\"color: #000000; text-decoration-color: #000000\">                be</span><span style=\"color: #800080; text-decoration-color: #800080\">:f32[]</span><span style=\"color: #000000; text-decoration-color: #000000\"> = mul ba bd</span>                \n",
       "                                                                                    <span style=\"color: #000000; text-decoration-color: #000000\">                bf</span><span style=\"color: #800080; text-decoration-color: #800080\">:f32[]</span><span style=\"color: #000000; text-decoration-color: #000000\"> = mul be bc</span>                \n",
       "                                                                                    <span style=\"color: #000000; text-decoration-color: #000000\">              </span><span style=\"color: #000080; text-decoration-color: #000080; font-weight: bold\">in </span><span style=\"color: #000000; text-decoration-color: #000000\">(bf,) }</span>                            \n",
       "                                                                                    <span style=\"color: #000000; text-decoration-color: #000000\">            policy=None</span>                             \n",
       "                                                                                    <span style=\"color: #000000; text-decoration-color: #000000\">            prevent_cse=True</span>                        \n",
       "                                                                                    <span style=\"color: #000000; text-decoration-color: #000000\">          ] p x</span>                                     \n",
       "                                                                                    <span style=\"color: #000000; text-decoration-color: #000000\">        </span><span style=\"color: #000080; text-decoration-color: #000080; font-weight: bold\">in </span><span style=\"color: #000000; text-decoration-color: #000000\">(y,) }</span>                                   \n",
       "                                                                                    <span style=\"color: #000000; text-decoration-color: #000000\">      policy=None</span>                                   \n",
       "                                                                                    <span style=\"color: #000000; text-decoration-color: #000000\">      prevent_cse=True</span>                              \n",
       "                                                                                    <span style=\"color: #000000; text-decoration-color: #000000\">    ] 3.0 g</span>                                         \n",
       "                                                                                    <span style=\"color: #000000; text-decoration-color: #000000\">  </span><span style=\"color: #000080; text-decoration-color: #000080; font-weight: bold\">in </span><span style=\"color: #000000; text-decoration-color: #000000\">(o,) }</span>                                         \n",
       "</pre>\n"
      ],
      "text/plain": [
       "                                                                                                                                        \n",
       "  \u001b[1;32mforward computation:\u001b[0m                                                              \u001b[1;32mbackward computation:\u001b[0m                               \n",
       "                                                                                                                                        \n",
       "  { \u001b[1;34mlambda \u001b[0m\u001b[39m; a\u001b[0m\u001b[35m:f32[]\u001b[0m\u001b[39m. \u001b[0m\u001b[1;34mlet\u001b[0m                                                           { \u001b[1;34mlambda \u001b[0m\u001b[39m; a\u001b[0m\u001b[35m:f32[]\u001b[0m\u001b[39m b\u001b[0m\u001b[35m:f32[]\u001b[0m\u001b[39m c\u001b[0m\u001b[35m:f32[]\u001b[0m\u001b[39m d\u001b[0m\u001b[35m:f32[]\u001b[0m\u001b[39m. \u001b[0m\u001b[1;34mlet\u001b[0m     \n",
       "  \u001b[1;34m    \u001b[0m\u001b[39mb\u001b[0m\u001b[35m:f32[]\u001b[0m\u001b[39m = remat2[\u001b[0m                                                             \u001b[1;34m    \u001b[0m\u001b[39me\u001b[0m\u001b[35m:f32[]\u001b[0m\u001b[39m = mul d c\u001b[0m                               \n",
       "  \u001b[39m      differentiated=False\u001b[0m                                                        \u001b[39m    f\u001b[0m\u001b[35m:f32[]\u001b[0m\u001b[39m = mul e b\u001b[0m                               \n",
       "  \u001b[39m      jaxpr={ \u001b[0m\u001b[1;34mlambda \u001b[0m\u001b[39m; c\u001b[0m\u001b[35m:f32[]\u001b[0m\u001b[39m. \u001b[0m\u001b[1;34mlet\u001b[0m\u001b[39m d\u001b[0m\u001b[35m:f32[]\u001b[0m\u001b[39m = sin c; e\u001b[0m\u001b[35m:f32[]\u001b[0m\u001b[39m = sin d \u001b[0m\u001b[1;34min \u001b[0m\u001b[39m(e,) }\u001b[0m    \u001b[39m    g\u001b[0m\u001b[35m:f32[]\u001b[0m\u001b[39m = remat2[\u001b[0m                               \n",
       "  \u001b[39m      policy=None\u001b[0m                                                                 \u001b[39m      differentiated=True\u001b[0m                           \n",
       "  \u001b[39m      prevent_cse=True\u001b[0m                                                            \u001b[39m      jaxpr={ \u001b[0m\u001b[1;34mlambda \u001b[0m\u001b[39m; h\u001b[0m\u001b[35m:f32[]\u001b[0m\u001b[39m i\u001b[0m\u001b[35m:f32[]\u001b[0m\u001b[39m. \u001b[0m\u001b[1;34mlet\u001b[0m         \n",
       "  \u001b[39m    ] a\u001b[0m                                                                           \u001b[1;34m          \u001b[0m\u001b[39mj\u001b[0m\u001b[35m:f32[]\u001b[0m\u001b[39m = sin h\u001b[0m                           \n",
       "  \u001b[39m    f\u001b[0m\u001b[35m:f32[]\u001b[0m\u001b[39m = sin b\u001b[0m                                                               \u001b[39m          k\u001b[0m\u001b[35m:f32[]\u001b[0m\u001b[39m = cos h\u001b[0m                           \n",
       "  \u001b[39m    g\u001b[0m\u001b[35m:f32[]\u001b[0m\u001b[39m = sin f\u001b[0m                                                               \u001b[39m          l\u001b[0m\u001b[35m:f32[]\u001b[0m\u001b[39m = cos j\u001b[0m                           \n",
       "  \u001b[39m    h\u001b[0m\u001b[35m:f32[]\u001b[0m\u001b[39m = sin g\u001b[0m                                                               \u001b[39m          m\u001b[0m\u001b[35m:f32[]\u001b[0m\u001b[39m = mul i l\u001b[0m                         \n",
       "  \u001b[39m    i\u001b[0m\u001b[35m:f32[]\u001b[0m\u001b[39m = sin h\u001b[0m                                                               \u001b[39m          n\u001b[0m\u001b[35m:f32[]\u001b[0m\u001b[39m = mul m k\u001b[0m                         \n",
       "  \u001b[39m    j\u001b[0m\u001b[35m:f32[]\u001b[0m\u001b[39m = sin i\u001b[0m                                                               \u001b[39m        \u001b[0m\u001b[1;34min \u001b[0m\u001b[39m(n,) }\u001b[0m                                   \n",
       "  \u001b[39m    k\u001b[0m\u001b[35m:f32[]\u001b[0m\u001b[39m = cos i\u001b[0m                                                               \u001b[39m      policy=None\u001b[0m                                   \n",
       "  \u001b[39m    l\u001b[0m\u001b[35m:f32[]\u001b[0m\u001b[39m = sin j\u001b[0m                                                               \u001b[39m      prevent_cse=True\u001b[0m                              \n",
       "  \u001b[39m    m\u001b[0m\u001b[35m:f32[]\u001b[0m\u001b[39m = cos j\u001b[0m                                                               \u001b[39m    ] a f\u001b[0m                                           \n",
       "  \u001b[39m  \u001b[0m\u001b[1;34min \u001b[0m\u001b[39m(l, g, a, k, m) }\u001b[0m                                                            \u001b[39m    o\u001b[0m\u001b[35m:f32[]\u001b[0m\u001b[39m = remat2[\u001b[0m                               \n",
       "                                                                                    \u001b[39m      differentiated=True\u001b[0m                           \n",
       "                                                                                    \u001b[39m      jaxpr={ \u001b[0m\u001b[1;34mlambda \u001b[0m\u001b[39m; p\u001b[0m\u001b[35m:f32[]\u001b[0m\u001b[39m q\u001b[0m\u001b[35m:f32[]\u001b[0m\u001b[39m. \u001b[0m\u001b[1;34mlet\u001b[0m         \n",
       "                                                                                    \u001b[1;34m          \u001b[0m\u001b[39mr\u001b[0m\u001b[35m:f32[]\u001b[0m\u001b[39m = sin p\u001b[0m                           \n",
       "                                                                                    \u001b[39m          s\u001b[0m\u001b[35m:f32[]\u001b[0m\u001b[39m = sin r\u001b[0m                           \n",
       "                                                                                    \u001b[39m          t\u001b[0m\u001b[35m:f32[]\u001b[0m\u001b[39m = sin s\u001b[0m                           \n",
       "                                                                                    \u001b[39m          u\u001b[0m\u001b[35m:f32[]\u001b[0m\u001b[39m = cos s\u001b[0m                           \n",
       "                                                                                    \u001b[39m          v\u001b[0m\u001b[35m:f32[]\u001b[0m\u001b[39m = cos t\u001b[0m                           \n",
       "                                                                                    \u001b[39m          w\u001b[0m\u001b[35m:f32[]\u001b[0m\u001b[39m = mul q v\u001b[0m                         \n",
       "                                                                                    \u001b[39m          x\u001b[0m\u001b[35m:f32[]\u001b[0m\u001b[39m = mul w u\u001b[0m                         \n",
       "                                                                                    \u001b[39m          y\u001b[0m\u001b[35m:f32[]\u001b[0m\u001b[39m = remat2[\u001b[0m                         \n",
       "                                                                                    \u001b[39m            differentiated=True\u001b[0m                     \n",
       "                                                                                    \u001b[39m            jaxpr={ \u001b[0m\u001b[1;34mlambda \u001b[0m\u001b[39m; z\u001b[0m\u001b[35m:f32[]\u001b[0m\u001b[39m ba\u001b[0m\u001b[35m:f32[]\u001b[0m\u001b[39m. \u001b[0m\u001b[1;34mlet\u001b[0m  \n",
       "                                                                                    \u001b[1;34m                \u001b[0m\u001b[39mbb\u001b[0m\u001b[35m:f32[]\u001b[0m\u001b[39m = sin z\u001b[0m                    \n",
       "                                                                                    \u001b[39m                bc\u001b[0m\u001b[35m:f32[]\u001b[0m\u001b[39m = cos z\u001b[0m                    \n",
       "                                                                                    \u001b[39m                bd\u001b[0m\u001b[35m:f32[]\u001b[0m\u001b[39m = cos bb\u001b[0m                   \n",
       "                                                                                    \u001b[39m                be\u001b[0m\u001b[35m:f32[]\u001b[0m\u001b[39m = mul ba bd\u001b[0m                \n",
       "                                                                                    \u001b[39m                bf\u001b[0m\u001b[35m:f32[]\u001b[0m\u001b[39m = mul be bc\u001b[0m                \n",
       "                                                                                    \u001b[39m              \u001b[0m\u001b[1;34min \u001b[0m\u001b[39m(bf,) }\u001b[0m                            \n",
       "                                                                                    \u001b[39m            policy=None\u001b[0m                             \n",
       "                                                                                    \u001b[39m            prevent_cse=True\u001b[0m                        \n",
       "                                                                                    \u001b[39m          ] p x\u001b[0m                                     \n",
       "                                                                                    \u001b[39m        \u001b[0m\u001b[1;34min \u001b[0m\u001b[39m(y,) }\u001b[0m                                   \n",
       "                                                                                    \u001b[39m      policy=None\u001b[0m                                   \n",
       "                                                                                    \u001b[39m      prevent_cse=True\u001b[0m                              \n",
       "                                                                                    \u001b[39m    ] 3.0 g\u001b[0m                                         \n",
       "                                                                                    \u001b[39m  \u001b[0m\u001b[1;34min \u001b[0m\u001b[39m(o,) }\u001b[0m                                         \n"
      ]
     },
     "metadata": {},
     "output_type": "display_data"
    }
   ],
   "source": [
    "f = recursive_checkpoint([jnp.sin] * 8)\n",
    "print_fwd_bwd(f, 3.)"
   ]
  },
  {
   "cell_type": "code",
   "execution_count": 26,
   "metadata": {},
   "outputs": [],
   "source": [
    "LayerParam = tuple[jnp.ndarray, jnp.ndarray]  # Weights-bias pair for a layer.\n",
    "ParamsList = list[LayerParam]\n",
    "\n",
    "def net(params: ParamsList, x: jnp.ndarray):\n",
    "  for W, b in params:\n",
    "    x = jnp.maximum(jnp.dot(x, W) + b, 0.)\n",
    "  return x"
   ]
  },
  {
   "cell_type": "code",
   "execution_count": 27,
   "metadata": {},
   "outputs": [],
   "source": [
    "params = [(jnp.array([[0.5, 0.5], [1., 1.]]), jnp.array([0.5, 0.5])), \n",
    "          (jnp.array([[0.5, 0.5], [1., 1.]]), jnp.array([0.5, 0.5]))]\n",
    "\n",
    "all_weights = jnp.stack([W for W, _ in params])\n",
    "all_biases = jnp.stack([b for _, b in params])\n",
    "\n",
    "def layer(x, W_b_pair):\n",
    "  W, b = W_b_pair\n",
    "  out = jnp.maximum(jnp.dot(x, W) + b, 0.)\n",
    "  return out, None\n",
    "\n",
    "def net(all_weights, all_biases, x):\n",
    "  x, _ = jax.lax.scan(layer, x, (all_weights, all_biases))\n",
    "  return x"
   ]
  },
  {
   "cell_type": "code",
   "execution_count": 28,
   "metadata": {},
   "outputs": [],
   "source": [
    "from functools import partial\n",
    "\n",
    "@partial(jax.checkpoint,\n",
    "         policy=jax.checkpoint_policies.dots_with_no_batch_dims_saveable)\n",
    "def layer(x, W_b_pair):\n",
    "  W, b = W_b_pair\n",
    "  out = jnp.maximum(jnp.dot(x, W) + b, 0.)\n",
    "  return out, None"
   ]
  }
 ],
 "metadata": {
  "kernelspec": {
   "display_name": "base",
   "language": "python",
   "name": "python3"
  },
  "language_info": {
   "codemirror_mode": {
    "name": "ipython",
    "version": 3
   },
   "file_extension": ".py",
   "mimetype": "text/x-python",
   "name": "python",
   "nbconvert_exporter": "python",
   "pygments_lexer": "ipython3",
   "version": "3.12.4"
  }
 },
 "nbformat": 4,
 "nbformat_minor": 2
}
