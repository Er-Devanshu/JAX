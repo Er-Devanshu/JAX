{
 "cells": [
  {
   "cell_type": "markdown",
   "metadata": {},
   "source": [
    "# Working with pytrees\n",
    "JAX has built-in support for objects that look like dictionaries (dicts) of arrays, or lists of lists of dicts, or other nested structures — in JAX these are called pytrees. This section will explain how to use them, provide useful code examples, and point out common “gotchas” and patterns.\n",
    "\n",
    "# What is a pytree?\n",
    "A pytree is a container-like structure built out of container-like Python objects — “leaf” pytrees and/or more pytrees. A pytree can include lists, tuples, and dicts. A leaf is anything that’s not a pytree, such as an array, but a single leaf is also a pytree.\n",
    "\n",
    "In the context of machine learning (ML), a pytree can contain:\n",
    "\n",
    "* Model parameters\n",
    "\n",
    "* Dataset entries\n",
    "\n",
    "* Reinforcement learning agent observations\n",
    "\n",
    "When working with datasets, you can often come across pytrees (such as lists of lists of dicts).\n",
    "\n",
    "Below is an example of a simple pytree. In JAX, you can use `jax.tree.leaves()`, to extract the flattened leaves from the trees, as demonstrated here:"
   ]
  },
  {
   "cell_type": "code",
   "execution_count": 1,
   "metadata": {},
   "outputs": [
    {
     "name": "stdout",
     "output_type": "stream",
     "text": [
      "[1, 'a', <object object at 0x000001A0C6B17F40>] has 3 leaves: [1, 'a', <object object at 0x000001A0C6B17F40>]\n",
      "(1, (2, 3), ())                               has 3 leaves: [1, 2, 3]\n",
      "[1, {'k1': 2, 'k2': (3, 4)}, 5]               has 5 leaves: [1, 2, 3, 4, 5]\n",
      "{'a': 2, 'b': (2, 3)}                         has 3 leaves: [2, 2, 3]\n",
      "Array([1, 2, 3], dtype=int32)                 has 1 leaves: [Array([1, 2, 3], dtype=int32)]\n"
     ]
    }
   ],
   "source": [
    "import jax\n",
    "import jax.numpy as jnp\n",
    "\n",
    "example_trees = [\n",
    "    [1, 'a', object()],\n",
    "    (1, (2, 3), ()),\n",
    "    [1, {'k1': 2, 'k2': (3, 4)}, 5],\n",
    "    {'a': 2, 'b': (2, 3)},\n",
    "    jnp.array([1, 2, 3]),\n",
    "]\n",
    "\n",
    "# Print how many leaves the pytrees have.\n",
    "for pytree in example_trees:\n",
    "  # This `jax.tree.leaves()` method extracts the flattened leaves from the pytrees.\n",
    "  leaves = jax.tree.leaves(pytree)\n",
    "  print(f\"{repr(pytree):<45} has {len(leaves)} leaves: {leaves}\")"
   ]
  },
  {
   "cell_type": "markdown",
   "metadata": {},
   "source": [
    "Any tree-like structure built out of container-like Python objects can be treated as a pytree in JAX. Classes are considered container-like if they are in the pytree registry, which by default includes lists, tuples, and dicts. Any object whose type is not in the pytree container registry will be treated as a leaf node in the tree.\n",
    "\n",
    "The pytree registry can be extended to include user-defined container classes by registering the class with functions that specify how to flatten the tree; see Custom pytree nodes below.\n",
    "\n",
    "## Common pytree functions\n",
    "JAX provides a number of utilities to operate over pytrees. These can be found in the `jax.tree_util` subpackage; for convenience many of these have aliases in the `jax.tree` module.\n",
    "\n",
    "### Common function: jax.tree.map\n",
    "The most commonly used pytree function is `jax.tree.map()`. It works analogously to Python’s native `map`, but transparently operates over entire pytrees."
   ]
  },
  {
   "cell_type": "code",
   "execution_count": 2,
   "metadata": {},
   "outputs": [
    {
     "data": {
      "text/plain": [
       "[[2, 4, 6], [2, 4], [2, 4, 6, 8]]"
      ]
     },
     "execution_count": 2,
     "metadata": {},
     "output_type": "execute_result"
    }
   ],
   "source": [
    "list_of_lists = [\n",
    "    [1, 2, 3],\n",
    "    [1, 2],\n",
    "    [1, 2, 3, 4]\n",
    "]\n",
    "\n",
    "jax.tree.map(lambda x: x*2, list_of_lists)"
   ]
  },
  {
   "cell_type": "code",
   "execution_count": 3,
   "metadata": {},
   "outputs": [
    {
     "data": {
      "text/plain": [
       "[[2, 4, 6], [2, 4], [2, 4, 6, 8]]"
      ]
     },
     "execution_count": 3,
     "metadata": {},
     "output_type": "execute_result"
    }
   ],
   "source": [
    "another_list_of_lists = list_of_lists\n",
    "jax.tree.map(lambda x, y: x+y, list_of_lists, another_list_of_lists)"
   ]
  },
  {
   "cell_type": "code",
   "execution_count": 4,
   "metadata": {},
   "outputs": [
    {
     "data": {
      "text/plain": [
       "[{'biases': (128,), 'weights': (1, 128)},\n",
       " {'biases': (128,), 'weights': (128, 128)},\n",
       " {'biases': (1,), 'weights': (128, 1)}]"
      ]
     },
     "execution_count": 4,
     "metadata": {},
     "output_type": "execute_result"
    }
   ],
   "source": [
    "import numpy as np\n",
    "\n",
    "def init_mlp_params(layer_widths):\n",
    "  params = []\n",
    "  for n_in, n_out in zip(layer_widths[:-1], layer_widths[1:]):\n",
    "    params.append(\n",
    "        dict(weights=np.random.normal(size=(n_in, n_out)) * np.sqrt(2/n_in),\n",
    "             biases=np.ones(shape=(n_out,))\n",
    "            )\n",
    "    )\n",
    "  return params\n",
    "\n",
    "params = init_mlp_params([1, 128, 128, 1])\n",
    "\n",
    "jax.tree.map(lambda x: x.shape, params)"
   ]
  },
  {
   "cell_type": "code",
   "execution_count": 5,
   "metadata": {},
   "outputs": [],
   "source": [
    "# Define the forward pass.\n",
    "def forward(params, x):\n",
    "  *hidden, last = params\n",
    "  for layer in hidden:\n",
    "    x = jax.nn.relu(x @ layer['weights'] + layer['biases'])\n",
    "  return x @ last['weights'] + last['biases']\n",
    "\n",
    "# Define the loss function.\n",
    "def loss_fn(params, x, y):\n",
    "  return jnp.mean((forward(params, x) - y) ** 2)\n",
    "\n",
    "# Set the learning rate.\n",
    "LEARNING_RATE = 0.0001\n",
    "\n",
    "# Using the stochastic gradient descent, define the parameter update function.\n",
    "# Apply `@jax.jit` for JIT compilation (speed).\n",
    "@jax.jit\n",
    "def update(params, x, y):\n",
    "  # Calculate the gradients with `jax.grad`.\n",
    "  grads = jax.grad(loss_fn)(params, x, y)\n",
    "  # Note that `grads` is a pytree with the same structure as `params`.\n",
    "  # `jax.grad` is one of many JAX functions that has\n",
    "  # built-in support for pytrees.\n",
    "  # This is useful - you can apply the SGD update using JAX pytree utilities.\n",
    "  return jax.tree.map(\n",
    "      lambda p, g: p - LEARNING_RATE * g, params, grads\n",
    "  )"
   ]
  },
  {
   "cell_type": "markdown",
   "metadata": {},
   "source": [
    "## Custom pytree nodes\n",
    "This section explains how in JAX you can extend the set of Python types that will be considered *internal nodes* in pytrees (pytree nodes) by using `jax.tree_util.register_pytree_node()` with `jax.tree.map()`.\n",
    "\n",
    "Why would you need this? In the previous examples, pytrees were shown as lists, tuples, and dicts, with everything else as pytree leaves. This is because if you define your own container class, it will be considered to be a pytree leaf unless you register it with JAX. This is also the case even if your container class has trees inside it. "
   ]
  },
  {
   "cell_type": "code",
   "execution_count": 6,
   "metadata": {},
   "outputs": [
    {
     "data": {
      "text/plain": [
       "[<__main__.Special at 0x1a0c6dcaf30>, <__main__.Special at 0x1a0c9337e30>]"
      ]
     },
     "execution_count": 6,
     "metadata": {},
     "output_type": "execute_result"
    }
   ],
   "source": [
    "class Special(object):\n",
    "  def __init__(self, x, y):\n",
    "    self.x = x\n",
    "    self.y = y\n",
    "\n",
    "jax.tree.leaves([\n",
    "    Special(0, 1),\n",
    "    Special(2, 4),\n",
    "])"
   ]
  },
  {
   "cell_type": "code",
   "execution_count": 7,
   "metadata": {},
   "outputs": [
    {
     "ename": "TypeError",
     "evalue": "unsupported operand type(s) for +: 'Special' and 'int'",
     "output_type": "error",
     "traceback": [
      "\u001b[1;31m---------------------------------------------------------------------------\u001b[0m",
      "\u001b[1;31mTypeError\u001b[0m                                 Traceback (most recent call last)",
      "Cell \u001b[1;32mIn[7], line 1\u001b[0m\n\u001b[1;32m----> 1\u001b[0m jax\u001b[38;5;241m.\u001b[39mtree\u001b[38;5;241m.\u001b[39mmap(\u001b[38;5;28;01mlambda\u001b[39;00m x: x \u001b[38;5;241m+\u001b[39m \u001b[38;5;241m1\u001b[39m,\n\u001b[0;32m      2\u001b[0m   [\n\u001b[0;32m      3\u001b[0m     Special(\u001b[38;5;241m0\u001b[39m, \u001b[38;5;241m1\u001b[39m),\n\u001b[0;32m      4\u001b[0m     Special(\u001b[38;5;241m2\u001b[39m, \u001b[38;5;241m4\u001b[39m)\n\u001b[0;32m      5\u001b[0m   ])\n",
      "File \u001b[1;32m~\\AppData\\Roaming\\Python\\Python312\\site-packages\\jax\\_src\\tree.py:155\u001b[0m, in \u001b[0;36mmap\u001b[1;34m(f, tree, is_leaf, *rest)\u001b[0m\n\u001b[0;32m    115\u001b[0m \u001b[38;5;28;01mdef\u001b[39;00m \u001b[38;5;21mmap\u001b[39m(f: Callable[\u001b[38;5;241m.\u001b[39m\u001b[38;5;241m.\u001b[39m\u001b[38;5;241m.\u001b[39m, Any],\n\u001b[0;32m    116\u001b[0m         tree: Any,\n\u001b[0;32m    117\u001b[0m         \u001b[38;5;241m*\u001b[39mrest: Any,\n\u001b[0;32m    118\u001b[0m         is_leaf: Callable[[Any], \u001b[38;5;28mbool\u001b[39m] \u001b[38;5;241m|\u001b[39m \u001b[38;5;28;01mNone\u001b[39;00m \u001b[38;5;241m=\u001b[39m \u001b[38;5;28;01mNone\u001b[39;00m) \u001b[38;5;241m-\u001b[39m\u001b[38;5;241m>\u001b[39m Any:\n\u001b[0;32m    119\u001b[0m \u001b[38;5;250m  \u001b[39m\u001b[38;5;124;03m\"\"\"Maps a multi-input function over pytree args to produce a new pytree.\u001b[39;00m\n\u001b[0;32m    120\u001b[0m \n\u001b[0;32m    121\u001b[0m \u001b[38;5;124;03m  Args:\u001b[39;00m\n\u001b[1;32m   (...)\u001b[0m\n\u001b[0;32m    153\u001b[0m \u001b[38;5;124;03m    - :func:`jax.tree.reduce`\u001b[39;00m\n\u001b[0;32m    154\u001b[0m \u001b[38;5;124;03m  \"\"\"\u001b[39;00m\n\u001b[1;32m--> 155\u001b[0m   \u001b[38;5;28;01mreturn\u001b[39;00m tree_util\u001b[38;5;241m.\u001b[39mtree_map(f, tree, \u001b[38;5;241m*\u001b[39mrest, is_leaf\u001b[38;5;241m=\u001b[39mis_leaf)\n",
      "File \u001b[1;32m~\\AppData\\Roaming\\Python\\Python312\\site-packages\\jax\\_src\\tree_util.py:344\u001b[0m, in \u001b[0;36mtree_map\u001b[1;34m(f, tree, is_leaf, *rest)\u001b[0m\n\u001b[0;32m    342\u001b[0m leaves, treedef \u001b[38;5;241m=\u001b[39m tree_flatten(tree, is_leaf)\n\u001b[0;32m    343\u001b[0m all_leaves \u001b[38;5;241m=\u001b[39m [leaves] \u001b[38;5;241m+\u001b[39m [treedef\u001b[38;5;241m.\u001b[39mflatten_up_to(r) \u001b[38;5;28;01mfor\u001b[39;00m r \u001b[38;5;129;01min\u001b[39;00m rest]\n\u001b[1;32m--> 344\u001b[0m \u001b[38;5;28;01mreturn\u001b[39;00m treedef\u001b[38;5;241m.\u001b[39munflatten(f(\u001b[38;5;241m*\u001b[39mxs) \u001b[38;5;28;01mfor\u001b[39;00m xs \u001b[38;5;129;01min\u001b[39;00m \u001b[38;5;28mzip\u001b[39m(\u001b[38;5;241m*\u001b[39mall_leaves))\n",
      "File \u001b[1;32m~\\AppData\\Roaming\\Python\\Python312\\site-packages\\jax\\_src\\tree_util.py:344\u001b[0m, in \u001b[0;36m<genexpr>\u001b[1;34m(.0)\u001b[0m\n\u001b[0;32m    342\u001b[0m leaves, treedef \u001b[38;5;241m=\u001b[39m tree_flatten(tree, is_leaf)\n\u001b[0;32m    343\u001b[0m all_leaves \u001b[38;5;241m=\u001b[39m [leaves] \u001b[38;5;241m+\u001b[39m [treedef\u001b[38;5;241m.\u001b[39mflatten_up_to(r) \u001b[38;5;28;01mfor\u001b[39;00m r \u001b[38;5;129;01min\u001b[39;00m rest]\n\u001b[1;32m--> 344\u001b[0m \u001b[38;5;28;01mreturn\u001b[39;00m treedef\u001b[38;5;241m.\u001b[39munflatten(f(\u001b[38;5;241m*\u001b[39mxs) \u001b[38;5;28;01mfor\u001b[39;00m xs \u001b[38;5;129;01min\u001b[39;00m \u001b[38;5;28mzip\u001b[39m(\u001b[38;5;241m*\u001b[39mall_leaves))\n",
      "Cell \u001b[1;32mIn[7], line 1\u001b[0m, in \u001b[0;36m<lambda>\u001b[1;34m(x)\u001b[0m\n\u001b[1;32m----> 1\u001b[0m jax\u001b[38;5;241m.\u001b[39mtree\u001b[38;5;241m.\u001b[39mmap(\u001b[38;5;28;01mlambda\u001b[39;00m x: x \u001b[38;5;241m+\u001b[39m \u001b[38;5;241m1\u001b[39m,\n\u001b[0;32m      2\u001b[0m   [\n\u001b[0;32m      3\u001b[0m     Special(\u001b[38;5;241m0\u001b[39m, \u001b[38;5;241m1\u001b[39m),\n\u001b[0;32m      4\u001b[0m     Special(\u001b[38;5;241m2\u001b[39m, \u001b[38;5;241m4\u001b[39m)\n\u001b[0;32m      5\u001b[0m   ])\n",
      "\u001b[1;31mTypeError\u001b[0m: unsupported operand type(s) for +: 'Special' and 'int'"
     ]
    }
   ],
   "source": [
    "jax.tree.map(lambda x: x + 1,\n",
    "  [\n",
    "    Special(0, 1),\n",
    "    Special(2, 4)\n",
    "  ])"
   ]
  },
  {
   "cell_type": "code",
   "execution_count": 8,
   "metadata": {},
   "outputs": [],
   "source": [
    "from jax.tree_util import register_pytree_node\n",
    "\n",
    "class RegisteredSpecial(Special):\n",
    "  def __repr__(self):\n",
    "    return \"RegisteredSpecial(x={}, y={})\".format(self.x, self.y)\n",
    "\n",
    "def special_flatten(v):\n",
    "  \"\"\"Specifies a flattening recipe.\n",
    "\n",
    "  Params:\n",
    "    v: The value of the registered type to flatten.\n",
    "  Returns:\n",
    "    A pair of an iterable with the children to be flattened recursively,\n",
    "    and some opaque auxiliary data to pass back to the unflattening recipe.\n",
    "    The auxiliary data is stored in the treedef for use during unflattening.\n",
    "    The auxiliary data could be used, for example, for dictionary keys.\n",
    "  \"\"\"\n",
    "  children = (v.x, v.y)\n",
    "  aux_data = None\n",
    "  return (children, aux_data)\n",
    "\n",
    "def special_unflatten(aux_data, children):\n",
    "  \"\"\"Specifies an unflattening recipe.\n",
    "\n",
    "  Params:\n",
    "    aux_data: The opaque data that was specified during flattening of the\n",
    "      current tree definition.\n",
    "    children: The unflattened children\n",
    "\n",
    "  Returns:\n",
    "    A reconstructed object of the registered type, using the specified\n",
    "    children and auxiliary data.\n",
    "  \"\"\"\n",
    "  return RegisteredSpecial(*children)\n",
    "\n",
    "# Global registration\n",
    "register_pytree_node(\n",
    "    RegisteredSpecial,\n",
    "    special_flatten,    # Instruct JAX what are the children nodes.\n",
    "    special_unflatten   # Instruct JAX how to pack back into a `RegisteredSpecial`.\n",
    ")"
   ]
  },
  {
   "cell_type": "code",
   "execution_count": 9,
   "metadata": {},
   "outputs": [
    {
     "data": {
      "text/plain": [
       "[RegisteredSpecial(x=1, y=2), RegisteredSpecial(x=3, y=5)]"
      ]
     },
     "execution_count": 9,
     "metadata": {},
     "output_type": "execute_result"
    }
   ],
   "source": [
    "jax.tree.map(lambda x: x + 1,\n",
    "  [\n",
    "   RegisteredSpecial(0, 1),\n",
    "   RegisteredSpecial(2, 4),\n",
    "  ])"
   ]
  },
  {
   "cell_type": "code",
   "execution_count": 10,
   "metadata": {},
   "outputs": [
    {
     "data": {
      "text/plain": [
       "['Alice', 1, 2, 3, 'Bob', 4, 5, 6]"
      ]
     },
     "execution_count": 10,
     "metadata": {},
     "output_type": "execute_result"
    }
   ],
   "source": [
    "from typing import NamedTuple, Any\n",
    "\n",
    "class MyOtherContainer(NamedTuple):\n",
    "  name: str\n",
    "  a: Any\n",
    "  b: Any\n",
    "  c: Any\n",
    "\n",
    "# NamedTuple subclasses are handled as pytree nodes, so\n",
    "# this will work out-of-the-box.\n",
    "jax.tree.leaves([\n",
    "    MyOtherContainer('Alice', 1, 2, 3),\n",
    "    MyOtherContainer('Bob', 4, 5, 6)\n",
    "])"
   ]
  },
  {
   "cell_type": "markdown",
   "metadata": {},
   "source": [
    "## Explicit key paths\n",
    "In a pytree each leaf has a key path. A key path for a leaf is a `list` of keys, where the length of the list is equal to the depth of the leaf in the pytree . Each key is a hashable object that represents an index into the corresponding pytree node type. The type of the key depends on the pytree node type; for example, the type of keys for `dicts` is different from the type of keys for `tuples`.\n",
    "\n",
    "For built-in pytree node types, the set of keys for any pytree node instance is unique. For a pytree comprising nodes with this property, the key path for each leaf is unique.\n",
    "\n",
    "JAX has the following `jax.tree_util.*` methods for working with key paths:\n",
    "\n",
    "* `jax.tree_util.tree_flatten_with_path()`: Works similarly to jax.tree.flatten(), but returns key paths.\n",
    "\n",
    "* `jax.tree_util.tree_map_with_path()`: Works similarly to `jax.tree.map()`, but the function also takes key paths as arguments.\n",
    "\n",
    "* `jax.tree_util.keystr()`: Given a general key path, returns a reader-friendly string expression."
   ]
  },
  {
   "cell_type": "code",
   "execution_count": 11,
   "metadata": {},
   "outputs": [
    {
     "name": "stdout",
     "output_type": "stream",
     "text": [
      "Value of tree[0]: 1\n",
      "Value of tree[1]['k1']: 2\n",
      "Value of tree[1]['k2'][0]: 3\n",
      "Value of tree[1]['k2'][1]: 4\n",
      "Value of tree[2].name: foo\n"
     ]
    }
   ],
   "source": [
    "import collections\n",
    "\n",
    "ATuple = collections.namedtuple(\"ATuple\", ('name'))\n",
    "\n",
    "tree = [1, {'k1': 2, 'k2': (3, 4)}, ATuple('foo')]\n",
    "flattened, _ = jax.tree_util.tree_flatten_with_path(tree)\n",
    "\n",
    "for key_path, value in flattened:\n",
    "  print(f'Value of tree{jax.tree_util.keystr(key_path)}: {value}')"
   ]
  },
  {
   "cell_type": "markdown",
   "metadata": {},
   "source": [
    "To express key paths, JAX provides a few default key types for the built-in pytree node types, namely:\n",
    "\n",
    "* `SequenceKey(idx: int)`: For lists and tuples.\n",
    "\n",
    "* `DictKey(key: Hashable)`: For dictionaries.\n",
    "\n",
    "* `GetAttrKey(name: str)`: For `namedtuples` and preferably custom pytree nodes (more in the next section)\n",
    "\n",
    "You are free to define your own key types for your custom nodes. They will work with `jax.tree_util.keystr()` as long as their `__str__()` method is also overridden with a reader-friendly expression."
   ]
  },
  {
   "cell_type": "code",
   "execution_count": 12,
   "metadata": {},
   "outputs": [
    {
     "name": "stdout",
     "output_type": "stream",
     "text": [
      "Key path of tree[0]: (SequenceKey(idx=0),)\n",
      "Key path of tree[1]['k1']: (SequenceKey(idx=1), DictKey(key='k1'))\n",
      "Key path of tree[1]['k2'][0]: (SequenceKey(idx=1), DictKey(key='k2'), SequenceKey(idx=0))\n",
      "Key path of tree[1]['k2'][1]: (SequenceKey(idx=1), DictKey(key='k2'), SequenceKey(idx=1))\n",
      "Key path of tree[2].name: (SequenceKey(idx=2), GetAttrKey(name='name'))\n"
     ]
    }
   ],
   "source": [
    "for key_path, _ in flattened:\n",
    "  print(f'Key path of tree{jax.tree_util.keystr(key_path)}: {repr(key_path)}')"
   ]
  },
  {
   "cell_type": "markdown",
   "metadata": {},
   "source": [
    "## Common pytree gotchas\n",
    "This section covers some of the most common problems (“gotchas”) encountered when using JAX pytrees.\n",
    "\n",
    "### Mistaking pytree nodes for leaves\n",
    "A common gotcha to look out for is accidentally introducing tree nodes instead of leaves"
   ]
  },
  {
   "cell_type": "code",
   "execution_count": 13,
   "metadata": {},
   "outputs": [
    {
     "data": {
      "text/plain": [
       "[(Array([1., 1.], dtype=float32), Array([1., 1., 1.], dtype=float32)),\n",
       " (Array([1., 1., 1.], dtype=float32), Array([1., 1., 1., 1.], dtype=float32))]"
      ]
     },
     "execution_count": 13,
     "metadata": {},
     "output_type": "execute_result"
    }
   ],
   "source": [
    "a_tree = [jnp.zeros((2, 3)), jnp.zeros((3, 4))]\n",
    "\n",
    "# Try to make another pytree with ones instead of zeros.\n",
    "shapes = jax.tree.map(lambda x: x.shape, a_tree)\n",
    "jax.tree.map(jnp.ones, shapes)"
   ]
  },
  {
   "cell_type": "markdown",
   "metadata": {},
   "source": [
    "What happened here is that the `shape` of an array is a tuple, which is a pytree node, with its elements as leaves. Thus, in the map, instead of calling `jnp.ones` on e.g. `(2, 3)`, it’s called on `2` and `3`.\n",
    "\n",
    "The solution will depend on the specifics, but there are two broadly applicable options:\n",
    "\n",
    "* Rewrite the code to avoid the intermediate `jax.tree.map()`.\n",
    "\n",
    "* Convert the tuple into a NumPy array (`np.array`) or a JAX NumPy array (`jnp.array`), which makes the entire sequence a leaf.\n",
    "\n",
    "## Handling of `None` by `jax.tree_util`\n",
    "`jax.tree_util` functions treat `None` as the absence of a pytree node, not as a leaf"
   ]
  },
  {
   "cell_type": "code",
   "execution_count": 14,
   "metadata": {},
   "outputs": [
    {
     "data": {
      "text/plain": [
       "[]"
      ]
     },
     "execution_count": 14,
     "metadata": {},
     "output_type": "execute_result"
    }
   ],
   "source": [
    "jax.tree.leaves([None, None, None])"
   ]
  },
  {
   "cell_type": "code",
   "execution_count": 15,
   "metadata": {},
   "outputs": [
    {
     "data": {
      "text/plain": [
       "[None, None, None]"
      ]
     },
     "execution_count": 15,
     "metadata": {},
     "output_type": "execute_result"
    }
   ],
   "source": [
    "jax.tree.leaves([None, None, None], is_leaf=lambda x: x is None)"
   ]
  },
  {
   "cell_type": "markdown",
   "metadata": {},
   "source": [
    "### Custom pytrees and initialization with unexpected values\n",
    "Another common gotcha with user-defined pytree objects is that JAX transformations occasionally initialize them with unexpected values, so that any input validation done at initialization may fail. For example:"
   ]
  },
  {
   "cell_type": "code",
   "execution_count": 16,
   "metadata": {},
   "outputs": [
    {
     "ename": "TypeError",
     "evalue": "Value '<object object at 0x000001A0CA464D00>' with dtype object is not a valid JAX array type. Only arrays of numeric types are supported by JAX.",
     "output_type": "error",
     "traceback": [
      "\u001b[1;31m---------------------------------------------------------------------------\u001b[0m",
      "\u001b[1;31mTypeError\u001b[0m                                 Traceback (most recent call last)",
      "File \u001b[1;32m~\\AppData\\Roaming\\Python\\Python312\\site-packages\\jax\\_src\\dtypes.py:703\u001b[0m, in \u001b[0;36mdtype\u001b[1;34m(x, canonicalize)\u001b[0m\n\u001b[0;32m    702\u001b[0m \u001b[38;5;28;01mtry\u001b[39;00m:\n\u001b[1;32m--> 703\u001b[0m   dt \u001b[38;5;241m=\u001b[39m np\u001b[38;5;241m.\u001b[39mresult_type(x)\n\u001b[0;32m    704\u001b[0m \u001b[38;5;28;01mexcept\u001b[39;00m \u001b[38;5;167;01mTypeError\u001b[39;00m \u001b[38;5;28;01mas\u001b[39;00m err:\n",
      "\u001b[1;31mTypeError\u001b[0m: Cannot interpret '<object object at 0x000001A0CA464D00>' as a data type",
      "\nThe above exception was the direct cause of the following exception:\n",
      "\u001b[1;31mTypeError\u001b[0m                                 Traceback (most recent call last)",
      "File \u001b[1;32m~\\AppData\\Roaming\\Python\\Python312\\site-packages\\jax\\_src\\numpy\\lax_numpy.py:5394\u001b[0m, in \u001b[0;36marray\u001b[1;34m(object, dtype, copy, order, ndmin, device)\u001b[0m\n\u001b[0;32m   5393\u001b[0m \u001b[38;5;28;01mtry\u001b[39;00m:\n\u001b[1;32m-> 5394\u001b[0m   dtype \u001b[38;5;241m=\u001b[39m dtypes\u001b[38;5;241m.\u001b[39m_lattice_result_type(\u001b[38;5;241m*\u001b[39mleaves)[\u001b[38;5;241m0\u001b[39m] \u001b[38;5;28;01mif\u001b[39;00m leaves \u001b[38;5;28;01melse\u001b[39;00m dtypes\u001b[38;5;241m.\u001b[39mfloat_\n\u001b[0;32m   5395\u001b[0m \u001b[38;5;28;01mexcept\u001b[39;00m \u001b[38;5;167;01mTypeError\u001b[39;00m:\n\u001b[0;32m   5396\u001b[0m   \u001b[38;5;66;03m# This happens if, e.g. one of the entries is a memoryview object.\u001b[39;00m\n\u001b[0;32m   5397\u001b[0m   \u001b[38;5;66;03m# This is rare, so we only handle it if the normal path fails.\u001b[39;00m\n",
      "File \u001b[1;32m~\\AppData\\Roaming\\Python\\Python312\\site-packages\\jax\\_src\\dtypes.py:713\u001b[0m, in \u001b[0;36m_lattice_result_type\u001b[1;34m(*args)\u001b[0m\n\u001b[0;32m    712\u001b[0m \u001b[38;5;28;01mdef\u001b[39;00m \u001b[38;5;21m_lattice_result_type\u001b[39m(\u001b[38;5;241m*\u001b[39margs: Any) \u001b[38;5;241m-\u001b[39m\u001b[38;5;241m>\u001b[39m \u001b[38;5;28mtuple\u001b[39m[DType, \u001b[38;5;28mbool\u001b[39m]:\n\u001b[1;32m--> 713\u001b[0m   dtypes, weak_types \u001b[38;5;241m=\u001b[39m \u001b[38;5;28mzip\u001b[39m(\u001b[38;5;241m*\u001b[39m(_dtype_and_weaktype(arg) \u001b[38;5;28;01mfor\u001b[39;00m arg \u001b[38;5;129;01min\u001b[39;00m args))\n\u001b[0;32m    714\u001b[0m   \u001b[38;5;28;01mif\u001b[39;00m \u001b[38;5;28mlen\u001b[39m(dtypes) \u001b[38;5;241m==\u001b[39m \u001b[38;5;241m1\u001b[39m:\n",
      "File \u001b[1;32m~\\AppData\\Roaming\\Python\\Python312\\site-packages\\jax\\_src\\dtypes.py:713\u001b[0m, in \u001b[0;36m<genexpr>\u001b[1;34m(.0)\u001b[0m\n\u001b[0;32m    712\u001b[0m \u001b[38;5;28;01mdef\u001b[39;00m \u001b[38;5;21m_lattice_result_type\u001b[39m(\u001b[38;5;241m*\u001b[39margs: Any) \u001b[38;5;241m-\u001b[39m\u001b[38;5;241m>\u001b[39m \u001b[38;5;28mtuple\u001b[39m[DType, \u001b[38;5;28mbool\u001b[39m]:\n\u001b[1;32m--> 713\u001b[0m   dtypes, weak_types \u001b[38;5;241m=\u001b[39m \u001b[38;5;28mzip\u001b[39m(\u001b[38;5;241m*\u001b[39m(_dtype_and_weaktype(arg) \u001b[38;5;28;01mfor\u001b[39;00m arg \u001b[38;5;129;01min\u001b[39;00m args))\n\u001b[0;32m    714\u001b[0m   \u001b[38;5;28;01mif\u001b[39;00m \u001b[38;5;28mlen\u001b[39m(dtypes) \u001b[38;5;241m==\u001b[39m \u001b[38;5;241m1\u001b[39m:\n",
      "File \u001b[1;32m~\\AppData\\Roaming\\Python\\Python312\\site-packages\\jax\\_src\\dtypes.py:516\u001b[0m, in \u001b[0;36m_dtype_and_weaktype\u001b[1;34m(value)\u001b[0m\n\u001b[0;32m    515\u001b[0m \u001b[38;5;250m\u001b[39m\u001b[38;5;124;03m\"\"\"Return a (dtype, weak_type) tuple for the given input.\"\"\"\u001b[39;00m\n\u001b[1;32m--> 516\u001b[0m \u001b[38;5;28;01mreturn\u001b[39;00m dtype(value), \u001b[38;5;28many\u001b[39m(value \u001b[38;5;129;01mis\u001b[39;00m typ \u001b[38;5;28;01mfor\u001b[39;00m typ \u001b[38;5;129;01min\u001b[39;00m _weak_types) \u001b[38;5;129;01mor\u001b[39;00m is_weakly_typed(value)\n",
      "File \u001b[1;32m~\\AppData\\Roaming\\Python\\Python312\\site-packages\\jax\\_src\\dtypes.py:705\u001b[0m, in \u001b[0;36mdtype\u001b[1;34m(x, canonicalize)\u001b[0m\n\u001b[0;32m    704\u001b[0m   \u001b[38;5;28;01mexcept\u001b[39;00m \u001b[38;5;167;01mTypeError\u001b[39;00m \u001b[38;5;28;01mas\u001b[39;00m err:\n\u001b[1;32m--> 705\u001b[0m     \u001b[38;5;28;01mraise\u001b[39;00m \u001b[38;5;167;01mTypeError\u001b[39;00m(\u001b[38;5;124mf\u001b[39m\u001b[38;5;124m\"\u001b[39m\u001b[38;5;124mCannot determine dtype of \u001b[39m\u001b[38;5;132;01m{\u001b[39;00mx\u001b[38;5;132;01m}\u001b[39;00m\u001b[38;5;124m\"\u001b[39m) \u001b[38;5;28;01mfrom\u001b[39;00m \u001b[38;5;21;01merr\u001b[39;00m\n\u001b[0;32m    706\u001b[0m \u001b[38;5;28;01mif\u001b[39;00m dt \u001b[38;5;129;01mnot\u001b[39;00m \u001b[38;5;129;01min\u001b[39;00m _jax_dtype_set \u001b[38;5;129;01mand\u001b[39;00m \u001b[38;5;129;01mnot\u001b[39;00m issubdtype(dt, extended):\n",
      "\u001b[1;31mTypeError\u001b[0m: Cannot determine dtype of <object object at 0x000001A0CA464D00>",
      "\nDuring handling of the above exception, another exception occurred:\n",
      "\u001b[1;31mTypeError\u001b[0m                                 Traceback (most recent call last)",
      "Cell \u001b[1;32mIn[16], line 10\u001b[0m\n\u001b[0;32m      5\u001b[0m register_pytree_node(MyTree, \u001b[38;5;28;01mlambda\u001b[39;00m tree: ((tree\u001b[38;5;241m.\u001b[39ma,), \u001b[38;5;28;01mNone\u001b[39;00m),\n\u001b[0;32m      6\u001b[0m     \u001b[38;5;28;01mlambda\u001b[39;00m _, args: MyTree(\u001b[38;5;241m*\u001b[39margs))\n\u001b[0;32m      8\u001b[0m tree \u001b[38;5;241m=\u001b[39m MyTree(jnp\u001b[38;5;241m.\u001b[39marange(\u001b[38;5;241m5.0\u001b[39m))\n\u001b[1;32m---> 10\u001b[0m jax\u001b[38;5;241m.\u001b[39mvmap(\u001b[38;5;28;01mlambda\u001b[39;00m x: x)(tree)\n",
      "    \u001b[1;31m[... skipping hidden 4 frame]\u001b[0m\n",
      "Cell \u001b[1;32mIn[16], line 6\u001b[0m, in \u001b[0;36m<lambda>\u001b[1;34m(_, args)\u001b[0m\n\u001b[0;32m      2\u001b[0m   \u001b[38;5;28;01mdef\u001b[39;00m \u001b[38;5;21m__init__\u001b[39m(\u001b[38;5;28mself\u001b[39m, a):\n\u001b[0;32m      3\u001b[0m     \u001b[38;5;28mself\u001b[39m\u001b[38;5;241m.\u001b[39ma \u001b[38;5;241m=\u001b[39m jnp\u001b[38;5;241m.\u001b[39masarray(a)\n\u001b[0;32m      5\u001b[0m register_pytree_node(MyTree, \u001b[38;5;28;01mlambda\u001b[39;00m tree: ((tree\u001b[38;5;241m.\u001b[39ma,), \u001b[38;5;28;01mNone\u001b[39;00m),\n\u001b[1;32m----> 6\u001b[0m     \u001b[38;5;28;01mlambda\u001b[39;00m _, args: MyTree(\u001b[38;5;241m*\u001b[39margs))\n\u001b[0;32m      8\u001b[0m tree \u001b[38;5;241m=\u001b[39m MyTree(jnp\u001b[38;5;241m.\u001b[39marange(\u001b[38;5;241m5.0\u001b[39m))\n\u001b[0;32m     10\u001b[0m jax\u001b[38;5;241m.\u001b[39mvmap(\u001b[38;5;28;01mlambda\u001b[39;00m x: x)(tree)\n",
      "Cell \u001b[1;32mIn[16], line 3\u001b[0m, in \u001b[0;36mMyTree.__init__\u001b[1;34m(self, a)\u001b[0m\n\u001b[0;32m      2\u001b[0m \u001b[38;5;28;01mdef\u001b[39;00m \u001b[38;5;21m__init__\u001b[39m(\u001b[38;5;28mself\u001b[39m, a):\n\u001b[1;32m----> 3\u001b[0m   \u001b[38;5;28mself\u001b[39m\u001b[38;5;241m.\u001b[39ma \u001b[38;5;241m=\u001b[39m jnp\u001b[38;5;241m.\u001b[39masarray(a)\n",
      "File \u001b[1;32m~\\AppData\\Roaming\\Python\\Python312\\site-packages\\jax\\_src\\numpy\\lax_numpy.py:5592\u001b[0m, in \u001b[0;36masarray\u001b[1;34m(a, dtype, order, copy, device)\u001b[0m\n\u001b[0;32m   5590\u001b[0m \u001b[38;5;28;01mif\u001b[39;00m dtype \u001b[38;5;129;01mis\u001b[39;00m \u001b[38;5;129;01mnot\u001b[39;00m \u001b[38;5;28;01mNone\u001b[39;00m:\n\u001b[0;32m   5591\u001b[0m   dtype \u001b[38;5;241m=\u001b[39m dtypes\u001b[38;5;241m.\u001b[39mcanonicalize_dtype(dtype, allow_extended_dtype\u001b[38;5;241m=\u001b[39m\u001b[38;5;28;01mTrue\u001b[39;00m)  \u001b[38;5;66;03m# type: ignore[assignment]\u001b[39;00m\n\u001b[1;32m-> 5592\u001b[0m \u001b[38;5;28;01mreturn\u001b[39;00m array(a, dtype\u001b[38;5;241m=\u001b[39mdtype, copy\u001b[38;5;241m=\u001b[39m\u001b[38;5;28mbool\u001b[39m(copy), order\u001b[38;5;241m=\u001b[39morder, device\u001b[38;5;241m=\u001b[39mdevice)\n",
      "File \u001b[1;32m~\\AppData\\Roaming\\Python\\Python312\\site-packages\\jax\\_src\\numpy\\lax_numpy.py:5399\u001b[0m, in \u001b[0;36marray\u001b[1;34m(object, dtype, copy, order, ndmin, device)\u001b[0m\n\u001b[0;32m   5395\u001b[0m   \u001b[38;5;28;01mexcept\u001b[39;00m \u001b[38;5;167;01mTypeError\u001b[39;00m:\n\u001b[0;32m   5396\u001b[0m     \u001b[38;5;66;03m# This happens if, e.g. one of the entries is a memoryview object.\u001b[39;00m\n\u001b[0;32m   5397\u001b[0m     \u001b[38;5;66;03m# This is rare, so we only handle it if the normal path fails.\u001b[39;00m\n\u001b[0;32m   5398\u001b[0m     leaves \u001b[38;5;241m=\u001b[39m [_convert_to_array_if_dtype_fails(leaf) \u001b[38;5;28;01mfor\u001b[39;00m leaf \u001b[38;5;129;01min\u001b[39;00m leaves]\n\u001b[1;32m-> 5399\u001b[0m     dtype \u001b[38;5;241m=\u001b[39m dtypes\u001b[38;5;241m.\u001b[39m_lattice_result_type(\u001b[38;5;241m*\u001b[39mleaves)[\u001b[38;5;241m0\u001b[39m]\n\u001b[0;32m   5401\u001b[0m \u001b[38;5;28;01mif\u001b[39;00m \u001b[38;5;129;01mnot\u001b[39;00m weak_type:\n\u001b[0;32m   5402\u001b[0m   dtype \u001b[38;5;241m=\u001b[39m dtypes\u001b[38;5;241m.\u001b[39mcanonicalize_dtype(dtype, allow_extended_dtype\u001b[38;5;241m=\u001b[39m\u001b[38;5;28;01mTrue\u001b[39;00m)  \u001b[38;5;66;03m# type: ignore[assignment]\u001b[39;00m\n",
      "    \u001b[1;31m[... skipping hidden 3 frame]\u001b[0m\n",
      "File \u001b[1;32m~\\AppData\\Roaming\\Python\\Python312\\site-packages\\jax\\_src\\dtypes.py:707\u001b[0m, in \u001b[0;36mdtype\u001b[1;34m(x, canonicalize)\u001b[0m\n\u001b[0;32m    705\u001b[0m     \u001b[38;5;28;01mraise\u001b[39;00m \u001b[38;5;167;01mTypeError\u001b[39;00m(\u001b[38;5;124mf\u001b[39m\u001b[38;5;124m\"\u001b[39m\u001b[38;5;124mCannot determine dtype of \u001b[39m\u001b[38;5;132;01m{\u001b[39;00mx\u001b[38;5;132;01m}\u001b[39;00m\u001b[38;5;124m\"\u001b[39m) \u001b[38;5;28;01mfrom\u001b[39;00m \u001b[38;5;21;01merr\u001b[39;00m\n\u001b[0;32m    706\u001b[0m \u001b[38;5;28;01mif\u001b[39;00m dt \u001b[38;5;129;01mnot\u001b[39;00m \u001b[38;5;129;01min\u001b[39;00m _jax_dtype_set \u001b[38;5;129;01mand\u001b[39;00m \u001b[38;5;129;01mnot\u001b[39;00m issubdtype(dt, extended):\n\u001b[1;32m--> 707\u001b[0m   \u001b[38;5;28;01mraise\u001b[39;00m \u001b[38;5;167;01mTypeError\u001b[39;00m(\u001b[38;5;124mf\u001b[39m\u001b[38;5;124m\"\u001b[39m\u001b[38;5;124mValue \u001b[39m\u001b[38;5;124m'\u001b[39m\u001b[38;5;132;01m{\u001b[39;00mx\u001b[38;5;132;01m}\u001b[39;00m\u001b[38;5;124m'\u001b[39m\u001b[38;5;124m with dtype \u001b[39m\u001b[38;5;132;01m{\u001b[39;00mdt\u001b[38;5;132;01m}\u001b[39;00m\u001b[38;5;124m is not a valid JAX array \u001b[39m\u001b[38;5;124m\"\u001b[39m\n\u001b[0;32m    708\u001b[0m                   \u001b[38;5;124m\"\u001b[39m\u001b[38;5;124mtype. Only arrays of numeric types are supported by JAX.\u001b[39m\u001b[38;5;124m\"\u001b[39m)\n\u001b[0;32m    709\u001b[0m \u001b[38;5;66;03m# TODO(jakevdp): fix return type annotation and remove this ignore.\u001b[39;00m\n\u001b[0;32m    710\u001b[0m \u001b[38;5;28;01mreturn\u001b[39;00m canonicalize_dtype(dt, allow_extended_dtype\u001b[38;5;241m=\u001b[39m\u001b[38;5;28;01mTrue\u001b[39;00m) \u001b[38;5;28;01mif\u001b[39;00m canonicalize \u001b[38;5;28;01melse\u001b[39;00m dt\n",
      "\u001b[1;31mTypeError\u001b[0m: Value '<object object at 0x000001A0CA464D00>' with dtype object is not a valid JAX array type. Only arrays of numeric types are supported by JAX."
     ]
    }
   ],
   "source": [
    "class MyTree:\n",
    "  def __init__(self, a):\n",
    "    self.a = jnp.asarray(a)\n",
    "\n",
    "register_pytree_node(MyTree, lambda tree: ((tree.a,), None),\n",
    "    lambda _, args: MyTree(*args))\n",
    "\n",
    "tree = MyTree(jnp.arange(5.0))\n",
    "\n",
    "jax.vmap(lambda x: x)(tree)      # Error because object() is passed to `MyTree`."
   ]
  },
  {
   "cell_type": "code",
   "execution_count": 17,
   "metadata": {},
   "outputs": [
    {
     "name": "stderr",
     "output_type": "stream",
     "text": [
      "C:\\Users\\devanshu.tayal\\AppData\\Roaming\\Python\\Python312\\site-packages\\jax\\_src\\numpy\\lax_numpy.py:5592: FutureWarning: None encountered in jnp.array(); this is currently treated as NaN. In the future this will result in an error.\n",
      "  return array(a, dtype=dtype, copy=bool(copy), order=order, device=device)\n"
     ]
    },
    {
     "ename": "TypeError",
     "evalue": "Value '<object object at 0x000001A0D0018BD0>' with dtype object is not a valid JAX array type. Only arrays of numeric types are supported by JAX.",
     "output_type": "error",
     "traceback": [
      "\u001b[1;31m---------------------------------------------------------------------------\u001b[0m",
      "\u001b[1;31mTypeError\u001b[0m                                 Traceback (most recent call last)",
      "File \u001b[1;32m~\\AppData\\Roaming\\Python\\Python312\\site-packages\\jax\\_src\\dtypes.py:703\u001b[0m, in \u001b[0;36mdtype\u001b[1;34m(x, canonicalize)\u001b[0m\n\u001b[0;32m    702\u001b[0m \u001b[38;5;28;01mtry\u001b[39;00m:\n\u001b[1;32m--> 703\u001b[0m   dt \u001b[38;5;241m=\u001b[39m np\u001b[38;5;241m.\u001b[39mresult_type(x)\n\u001b[0;32m    704\u001b[0m \u001b[38;5;28;01mexcept\u001b[39;00m \u001b[38;5;167;01mTypeError\u001b[39;00m \u001b[38;5;28;01mas\u001b[39;00m err:\n",
      "\u001b[1;31mTypeError\u001b[0m: Cannot interpret '<object object at 0x000001A0D0018BD0>' as a data type",
      "\nThe above exception was the direct cause of the following exception:\n",
      "\u001b[1;31mTypeError\u001b[0m                                 Traceback (most recent call last)",
      "File \u001b[1;32m~\\AppData\\Roaming\\Python\\Python312\\site-packages\\jax\\_src\\numpy\\lax_numpy.py:5394\u001b[0m, in \u001b[0;36marray\u001b[1;34m(object, dtype, copy, order, ndmin, device)\u001b[0m\n\u001b[0;32m   5393\u001b[0m \u001b[38;5;28;01mtry\u001b[39;00m:\n\u001b[1;32m-> 5394\u001b[0m   dtype \u001b[38;5;241m=\u001b[39m dtypes\u001b[38;5;241m.\u001b[39m_lattice_result_type(\u001b[38;5;241m*\u001b[39mleaves)[\u001b[38;5;241m0\u001b[39m] \u001b[38;5;28;01mif\u001b[39;00m leaves \u001b[38;5;28;01melse\u001b[39;00m dtypes\u001b[38;5;241m.\u001b[39mfloat_\n\u001b[0;32m   5395\u001b[0m \u001b[38;5;28;01mexcept\u001b[39;00m \u001b[38;5;167;01mTypeError\u001b[39;00m:\n\u001b[0;32m   5396\u001b[0m   \u001b[38;5;66;03m# This happens if, e.g. one of the entries is a memoryview object.\u001b[39;00m\n\u001b[0;32m   5397\u001b[0m   \u001b[38;5;66;03m# This is rare, so we only handle it if the normal path fails.\u001b[39;00m\n",
      "File \u001b[1;32m~\\AppData\\Roaming\\Python\\Python312\\site-packages\\jax\\_src\\dtypes.py:713\u001b[0m, in \u001b[0;36m_lattice_result_type\u001b[1;34m(*args)\u001b[0m\n\u001b[0;32m    712\u001b[0m \u001b[38;5;28;01mdef\u001b[39;00m \u001b[38;5;21m_lattice_result_type\u001b[39m(\u001b[38;5;241m*\u001b[39margs: Any) \u001b[38;5;241m-\u001b[39m\u001b[38;5;241m>\u001b[39m \u001b[38;5;28mtuple\u001b[39m[DType, \u001b[38;5;28mbool\u001b[39m]:\n\u001b[1;32m--> 713\u001b[0m   dtypes, weak_types \u001b[38;5;241m=\u001b[39m \u001b[38;5;28mzip\u001b[39m(\u001b[38;5;241m*\u001b[39m(_dtype_and_weaktype(arg) \u001b[38;5;28;01mfor\u001b[39;00m arg \u001b[38;5;129;01min\u001b[39;00m args))\n\u001b[0;32m    714\u001b[0m   \u001b[38;5;28;01mif\u001b[39;00m \u001b[38;5;28mlen\u001b[39m(dtypes) \u001b[38;5;241m==\u001b[39m \u001b[38;5;241m1\u001b[39m:\n",
      "File \u001b[1;32m~\\AppData\\Roaming\\Python\\Python312\\site-packages\\jax\\_src\\dtypes.py:713\u001b[0m, in \u001b[0;36m<genexpr>\u001b[1;34m(.0)\u001b[0m\n\u001b[0;32m    712\u001b[0m \u001b[38;5;28;01mdef\u001b[39;00m \u001b[38;5;21m_lattice_result_type\u001b[39m(\u001b[38;5;241m*\u001b[39margs: Any) \u001b[38;5;241m-\u001b[39m\u001b[38;5;241m>\u001b[39m \u001b[38;5;28mtuple\u001b[39m[DType, \u001b[38;5;28mbool\u001b[39m]:\n\u001b[1;32m--> 713\u001b[0m   dtypes, weak_types \u001b[38;5;241m=\u001b[39m \u001b[38;5;28mzip\u001b[39m(\u001b[38;5;241m*\u001b[39m(_dtype_and_weaktype(arg) \u001b[38;5;28;01mfor\u001b[39;00m arg \u001b[38;5;129;01min\u001b[39;00m args))\n\u001b[0;32m    714\u001b[0m   \u001b[38;5;28;01mif\u001b[39;00m \u001b[38;5;28mlen\u001b[39m(dtypes) \u001b[38;5;241m==\u001b[39m \u001b[38;5;241m1\u001b[39m:\n",
      "File \u001b[1;32m~\\AppData\\Roaming\\Python\\Python312\\site-packages\\jax\\_src\\dtypes.py:516\u001b[0m, in \u001b[0;36m_dtype_and_weaktype\u001b[1;34m(value)\u001b[0m\n\u001b[0;32m    515\u001b[0m \u001b[38;5;250m\u001b[39m\u001b[38;5;124;03m\"\"\"Return a (dtype, weak_type) tuple for the given input.\"\"\"\u001b[39;00m\n\u001b[1;32m--> 516\u001b[0m \u001b[38;5;28;01mreturn\u001b[39;00m dtype(value), \u001b[38;5;28many\u001b[39m(value \u001b[38;5;129;01mis\u001b[39;00m typ \u001b[38;5;28;01mfor\u001b[39;00m typ \u001b[38;5;129;01min\u001b[39;00m _weak_types) \u001b[38;5;129;01mor\u001b[39;00m is_weakly_typed(value)\n",
      "File \u001b[1;32m~\\AppData\\Roaming\\Python\\Python312\\site-packages\\jax\\_src\\dtypes.py:705\u001b[0m, in \u001b[0;36mdtype\u001b[1;34m(x, canonicalize)\u001b[0m\n\u001b[0;32m    704\u001b[0m   \u001b[38;5;28;01mexcept\u001b[39;00m \u001b[38;5;167;01mTypeError\u001b[39;00m \u001b[38;5;28;01mas\u001b[39;00m err:\n\u001b[1;32m--> 705\u001b[0m     \u001b[38;5;28;01mraise\u001b[39;00m \u001b[38;5;167;01mTypeError\u001b[39;00m(\u001b[38;5;124mf\u001b[39m\u001b[38;5;124m\"\u001b[39m\u001b[38;5;124mCannot determine dtype of \u001b[39m\u001b[38;5;132;01m{\u001b[39;00mx\u001b[38;5;132;01m}\u001b[39;00m\u001b[38;5;124m\"\u001b[39m) \u001b[38;5;28;01mfrom\u001b[39;00m \u001b[38;5;21;01merr\u001b[39;00m\n\u001b[0;32m    706\u001b[0m \u001b[38;5;28;01mif\u001b[39;00m dt \u001b[38;5;129;01mnot\u001b[39;00m \u001b[38;5;129;01min\u001b[39;00m _jax_dtype_set \u001b[38;5;129;01mand\u001b[39;00m \u001b[38;5;129;01mnot\u001b[39;00m issubdtype(dt, extended):\n",
      "\u001b[1;31mTypeError\u001b[0m: Cannot determine dtype of <object object at 0x000001A0D0018BD0>",
      "\nDuring handling of the above exception, another exception occurred:\n",
      "\u001b[1;31mTypeError\u001b[0m                                 Traceback (most recent call last)",
      "Cell \u001b[1;32mIn[17], line 1\u001b[0m\n\u001b[1;32m----> 1\u001b[0m jax\u001b[38;5;241m.\u001b[39mjacobian(\u001b[38;5;28;01mlambda\u001b[39;00m x: x)(tree)\n",
      "File \u001b[1;32m~\\AppData\\Roaming\\Python\\Python312\\site-packages\\jax\\_src\\api.py:672\u001b[0m, in \u001b[0;36mjacrev.<locals>.jacfun\u001b[1;34m(*args, **kwargs)\u001b[0m\n\u001b[0;32m    670\u001b[0m   y, pullback, aux \u001b[38;5;241m=\u001b[39m _vjp(f_partial, \u001b[38;5;241m*\u001b[39mdyn_args, has_aux\u001b[38;5;241m=\u001b[39m\u001b[38;5;28;01mTrue\u001b[39;00m)\n\u001b[0;32m    671\u001b[0m tree_map(partial(_check_output_dtype_jacrev, holomorphic), y)\n\u001b[1;32m--> 672\u001b[0m jac \u001b[38;5;241m=\u001b[39m vmap(pullback)(_std_basis(y))\n\u001b[0;32m    673\u001b[0m jac \u001b[38;5;241m=\u001b[39m jac[\u001b[38;5;241m0\u001b[39m] \u001b[38;5;28;01mif\u001b[39;00m \u001b[38;5;28misinstance\u001b[39m(argnums, \u001b[38;5;28mint\u001b[39m) \u001b[38;5;28;01melse\u001b[39;00m jac\n\u001b[0;32m    674\u001b[0m example_args \u001b[38;5;241m=\u001b[39m dyn_args[\u001b[38;5;241m0\u001b[39m] \u001b[38;5;28;01mif\u001b[39;00m \u001b[38;5;28misinstance\u001b[39m(argnums, \u001b[38;5;28mint\u001b[39m) \u001b[38;5;28;01melse\u001b[39;00m dyn_args\n",
      "    \u001b[1;31m[... skipping hidden 4 frame]\u001b[0m\n",
      "Cell \u001b[1;32mIn[16], line 6\u001b[0m, in \u001b[0;36m<lambda>\u001b[1;34m(_, args)\u001b[0m\n\u001b[0;32m      2\u001b[0m   \u001b[38;5;28;01mdef\u001b[39;00m \u001b[38;5;21m__init__\u001b[39m(\u001b[38;5;28mself\u001b[39m, a):\n\u001b[0;32m      3\u001b[0m     \u001b[38;5;28mself\u001b[39m\u001b[38;5;241m.\u001b[39ma \u001b[38;5;241m=\u001b[39m jnp\u001b[38;5;241m.\u001b[39masarray(a)\n\u001b[0;32m      5\u001b[0m register_pytree_node(MyTree, \u001b[38;5;28;01mlambda\u001b[39;00m tree: ((tree\u001b[38;5;241m.\u001b[39ma,), \u001b[38;5;28;01mNone\u001b[39;00m),\n\u001b[1;32m----> 6\u001b[0m     \u001b[38;5;28;01mlambda\u001b[39;00m _, args: MyTree(\u001b[38;5;241m*\u001b[39margs))\n\u001b[0;32m      8\u001b[0m tree \u001b[38;5;241m=\u001b[39m MyTree(jnp\u001b[38;5;241m.\u001b[39marange(\u001b[38;5;241m5.0\u001b[39m))\n\u001b[0;32m     10\u001b[0m jax\u001b[38;5;241m.\u001b[39mvmap(\u001b[38;5;28;01mlambda\u001b[39;00m x: x)(tree)\n",
      "Cell \u001b[1;32mIn[16], line 3\u001b[0m, in \u001b[0;36mMyTree.__init__\u001b[1;34m(self, a)\u001b[0m\n\u001b[0;32m      2\u001b[0m \u001b[38;5;28;01mdef\u001b[39;00m \u001b[38;5;21m__init__\u001b[39m(\u001b[38;5;28mself\u001b[39m, a):\n\u001b[1;32m----> 3\u001b[0m   \u001b[38;5;28mself\u001b[39m\u001b[38;5;241m.\u001b[39ma \u001b[38;5;241m=\u001b[39m jnp\u001b[38;5;241m.\u001b[39masarray(a)\n",
      "File \u001b[1;32m~\\AppData\\Roaming\\Python\\Python312\\site-packages\\jax\\_src\\numpy\\lax_numpy.py:5592\u001b[0m, in \u001b[0;36masarray\u001b[1;34m(a, dtype, order, copy, device)\u001b[0m\n\u001b[0;32m   5590\u001b[0m \u001b[38;5;28;01mif\u001b[39;00m dtype \u001b[38;5;129;01mis\u001b[39;00m \u001b[38;5;129;01mnot\u001b[39;00m \u001b[38;5;28;01mNone\u001b[39;00m:\n\u001b[0;32m   5591\u001b[0m   dtype \u001b[38;5;241m=\u001b[39m dtypes\u001b[38;5;241m.\u001b[39mcanonicalize_dtype(dtype, allow_extended_dtype\u001b[38;5;241m=\u001b[39m\u001b[38;5;28;01mTrue\u001b[39;00m)  \u001b[38;5;66;03m# type: ignore[assignment]\u001b[39;00m\n\u001b[1;32m-> 5592\u001b[0m \u001b[38;5;28;01mreturn\u001b[39;00m array(a, dtype\u001b[38;5;241m=\u001b[39mdtype, copy\u001b[38;5;241m=\u001b[39m\u001b[38;5;28mbool\u001b[39m(copy), order\u001b[38;5;241m=\u001b[39morder, device\u001b[38;5;241m=\u001b[39mdevice)\n",
      "File \u001b[1;32m~\\AppData\\Roaming\\Python\\Python312\\site-packages\\jax\\_src\\numpy\\lax_numpy.py:5399\u001b[0m, in \u001b[0;36marray\u001b[1;34m(object, dtype, copy, order, ndmin, device)\u001b[0m\n\u001b[0;32m   5395\u001b[0m   \u001b[38;5;28;01mexcept\u001b[39;00m \u001b[38;5;167;01mTypeError\u001b[39;00m:\n\u001b[0;32m   5396\u001b[0m     \u001b[38;5;66;03m# This happens if, e.g. one of the entries is a memoryview object.\u001b[39;00m\n\u001b[0;32m   5397\u001b[0m     \u001b[38;5;66;03m# This is rare, so we only handle it if the normal path fails.\u001b[39;00m\n\u001b[0;32m   5398\u001b[0m     leaves \u001b[38;5;241m=\u001b[39m [_convert_to_array_if_dtype_fails(leaf) \u001b[38;5;28;01mfor\u001b[39;00m leaf \u001b[38;5;129;01min\u001b[39;00m leaves]\n\u001b[1;32m-> 5399\u001b[0m     dtype \u001b[38;5;241m=\u001b[39m dtypes\u001b[38;5;241m.\u001b[39m_lattice_result_type(\u001b[38;5;241m*\u001b[39mleaves)[\u001b[38;5;241m0\u001b[39m]\n\u001b[0;32m   5401\u001b[0m \u001b[38;5;28;01mif\u001b[39;00m \u001b[38;5;129;01mnot\u001b[39;00m weak_type:\n\u001b[0;32m   5402\u001b[0m   dtype \u001b[38;5;241m=\u001b[39m dtypes\u001b[38;5;241m.\u001b[39mcanonicalize_dtype(dtype, allow_extended_dtype\u001b[38;5;241m=\u001b[39m\u001b[38;5;28;01mTrue\u001b[39;00m)  \u001b[38;5;66;03m# type: ignore[assignment]\u001b[39;00m\n",
      "    \u001b[1;31m[... skipping hidden 3 frame]\u001b[0m\n",
      "File \u001b[1;32m~\\AppData\\Roaming\\Python\\Python312\\site-packages\\jax\\_src\\dtypes.py:707\u001b[0m, in \u001b[0;36mdtype\u001b[1;34m(x, canonicalize)\u001b[0m\n\u001b[0;32m    705\u001b[0m     \u001b[38;5;28;01mraise\u001b[39;00m \u001b[38;5;167;01mTypeError\u001b[39;00m(\u001b[38;5;124mf\u001b[39m\u001b[38;5;124m\"\u001b[39m\u001b[38;5;124mCannot determine dtype of \u001b[39m\u001b[38;5;132;01m{\u001b[39;00mx\u001b[38;5;132;01m}\u001b[39;00m\u001b[38;5;124m\"\u001b[39m) \u001b[38;5;28;01mfrom\u001b[39;00m \u001b[38;5;21;01merr\u001b[39;00m\n\u001b[0;32m    706\u001b[0m \u001b[38;5;28;01mif\u001b[39;00m dt \u001b[38;5;129;01mnot\u001b[39;00m \u001b[38;5;129;01min\u001b[39;00m _jax_dtype_set \u001b[38;5;129;01mand\u001b[39;00m \u001b[38;5;129;01mnot\u001b[39;00m issubdtype(dt, extended):\n\u001b[1;32m--> 707\u001b[0m   \u001b[38;5;28;01mraise\u001b[39;00m \u001b[38;5;167;01mTypeError\u001b[39;00m(\u001b[38;5;124mf\u001b[39m\u001b[38;5;124m\"\u001b[39m\u001b[38;5;124mValue \u001b[39m\u001b[38;5;124m'\u001b[39m\u001b[38;5;132;01m{\u001b[39;00mx\u001b[38;5;132;01m}\u001b[39;00m\u001b[38;5;124m'\u001b[39m\u001b[38;5;124m with dtype \u001b[39m\u001b[38;5;132;01m{\u001b[39;00mdt\u001b[38;5;132;01m}\u001b[39;00m\u001b[38;5;124m is not a valid JAX array \u001b[39m\u001b[38;5;124m\"\u001b[39m\n\u001b[0;32m    708\u001b[0m                   \u001b[38;5;124m\"\u001b[39m\u001b[38;5;124mtype. Only arrays of numeric types are supported by JAX.\u001b[39m\u001b[38;5;124m\"\u001b[39m)\n\u001b[0;32m    709\u001b[0m \u001b[38;5;66;03m# TODO(jakevdp): fix return type annotation and remove this ignore.\u001b[39;00m\n\u001b[0;32m    710\u001b[0m \u001b[38;5;28;01mreturn\u001b[39;00m canonicalize_dtype(dt, allow_extended_dtype\u001b[38;5;241m=\u001b[39m\u001b[38;5;28;01mTrue\u001b[39;00m) \u001b[38;5;28;01mif\u001b[39;00m canonicalize \u001b[38;5;28;01melse\u001b[39;00m dt\n",
      "\u001b[1;31mTypeError\u001b[0m: Value '<object object at 0x000001A0D0018BD0>' with dtype object is not a valid JAX array type. Only arrays of numeric types are supported by JAX."
     ]
    }
   ],
   "source": [
    "jax.jacobian(lambda x: x)(tree)  # Error because MyTree(...) is passed to `MyTree`."
   ]
  },
  {
   "cell_type": "code",
   "execution_count": 18,
   "metadata": {},
   "outputs": [
    {
     "name": "stderr",
     "output_type": "stream",
     "text": [
      "C:\\Users\\devanshu.tayal\\AppData\\Roaming\\Python\\Python312\\site-packages\\jax\\_src\\numpy\\lax_numpy.py:5592: FutureWarning: None encountered in jnp.array(); this is currently treated as NaN. In the future this will result in an error.\n",
      "  return array(a, dtype=dtype, copy=bool(copy), order=order, device=device)\n"
     ]
    },
    {
     "ename": "TypeError",
     "evalue": "Value '<object object at 0x000001A0D0018D60>' with dtype object is not a valid JAX array type. Only arrays of numeric types are supported by JAX.",
     "output_type": "error",
     "traceback": [
      "\u001b[1;31m---------------------------------------------------------------------------\u001b[0m",
      "\u001b[1;31mTypeError\u001b[0m                                 Traceback (most recent call last)",
      "File \u001b[1;32m~\\AppData\\Roaming\\Python\\Python312\\site-packages\\jax\\_src\\dtypes.py:703\u001b[0m, in \u001b[0;36mdtype\u001b[1;34m(x, canonicalize)\u001b[0m\n\u001b[0;32m    702\u001b[0m \u001b[38;5;28;01mtry\u001b[39;00m:\n\u001b[1;32m--> 703\u001b[0m   dt \u001b[38;5;241m=\u001b[39m np\u001b[38;5;241m.\u001b[39mresult_type(x)\n\u001b[0;32m    704\u001b[0m \u001b[38;5;28;01mexcept\u001b[39;00m \u001b[38;5;167;01mTypeError\u001b[39;00m \u001b[38;5;28;01mas\u001b[39;00m err:\n",
      "\u001b[1;31mTypeError\u001b[0m: Cannot interpret '<object object at 0x000001A0D0018D60>' as a data type",
      "\nThe above exception was the direct cause of the following exception:\n",
      "\u001b[1;31mTypeError\u001b[0m                                 Traceback (most recent call last)",
      "File \u001b[1;32m~\\AppData\\Roaming\\Python\\Python312\\site-packages\\jax\\_src\\numpy\\lax_numpy.py:5394\u001b[0m, in \u001b[0;36marray\u001b[1;34m(object, dtype, copy, order, ndmin, device)\u001b[0m\n\u001b[0;32m   5393\u001b[0m \u001b[38;5;28;01mtry\u001b[39;00m:\n\u001b[1;32m-> 5394\u001b[0m   dtype \u001b[38;5;241m=\u001b[39m dtypes\u001b[38;5;241m.\u001b[39m_lattice_result_type(\u001b[38;5;241m*\u001b[39mleaves)[\u001b[38;5;241m0\u001b[39m] \u001b[38;5;28;01mif\u001b[39;00m leaves \u001b[38;5;28;01melse\u001b[39;00m dtypes\u001b[38;5;241m.\u001b[39mfloat_\n\u001b[0;32m   5395\u001b[0m \u001b[38;5;28;01mexcept\u001b[39;00m \u001b[38;5;167;01mTypeError\u001b[39;00m:\n\u001b[0;32m   5396\u001b[0m   \u001b[38;5;66;03m# This happens if, e.g. one of the entries is a memoryview object.\u001b[39;00m\n\u001b[0;32m   5397\u001b[0m   \u001b[38;5;66;03m# This is rare, so we only handle it if the normal path fails.\u001b[39;00m\n",
      "File \u001b[1;32m~\\AppData\\Roaming\\Python\\Python312\\site-packages\\jax\\_src\\dtypes.py:713\u001b[0m, in \u001b[0;36m_lattice_result_type\u001b[1;34m(*args)\u001b[0m\n\u001b[0;32m    712\u001b[0m \u001b[38;5;28;01mdef\u001b[39;00m \u001b[38;5;21m_lattice_result_type\u001b[39m(\u001b[38;5;241m*\u001b[39margs: Any) \u001b[38;5;241m-\u001b[39m\u001b[38;5;241m>\u001b[39m \u001b[38;5;28mtuple\u001b[39m[DType, \u001b[38;5;28mbool\u001b[39m]:\n\u001b[1;32m--> 713\u001b[0m   dtypes, weak_types \u001b[38;5;241m=\u001b[39m \u001b[38;5;28mzip\u001b[39m(\u001b[38;5;241m*\u001b[39m(_dtype_and_weaktype(arg) \u001b[38;5;28;01mfor\u001b[39;00m arg \u001b[38;5;129;01min\u001b[39;00m args))\n\u001b[0;32m    714\u001b[0m   \u001b[38;5;28;01mif\u001b[39;00m \u001b[38;5;28mlen\u001b[39m(dtypes) \u001b[38;5;241m==\u001b[39m \u001b[38;5;241m1\u001b[39m:\n",
      "File \u001b[1;32m~\\AppData\\Roaming\\Python\\Python312\\site-packages\\jax\\_src\\dtypes.py:713\u001b[0m, in \u001b[0;36m<genexpr>\u001b[1;34m(.0)\u001b[0m\n\u001b[0;32m    712\u001b[0m \u001b[38;5;28;01mdef\u001b[39;00m \u001b[38;5;21m_lattice_result_type\u001b[39m(\u001b[38;5;241m*\u001b[39margs: Any) \u001b[38;5;241m-\u001b[39m\u001b[38;5;241m>\u001b[39m \u001b[38;5;28mtuple\u001b[39m[DType, \u001b[38;5;28mbool\u001b[39m]:\n\u001b[1;32m--> 713\u001b[0m   dtypes, weak_types \u001b[38;5;241m=\u001b[39m \u001b[38;5;28mzip\u001b[39m(\u001b[38;5;241m*\u001b[39m(_dtype_and_weaktype(arg) \u001b[38;5;28;01mfor\u001b[39;00m arg \u001b[38;5;129;01min\u001b[39;00m args))\n\u001b[0;32m    714\u001b[0m   \u001b[38;5;28;01mif\u001b[39;00m \u001b[38;5;28mlen\u001b[39m(dtypes) \u001b[38;5;241m==\u001b[39m \u001b[38;5;241m1\u001b[39m:\n",
      "File \u001b[1;32m~\\AppData\\Roaming\\Python\\Python312\\site-packages\\jax\\_src\\dtypes.py:516\u001b[0m, in \u001b[0;36m_dtype_and_weaktype\u001b[1;34m(value)\u001b[0m\n\u001b[0;32m    515\u001b[0m \u001b[38;5;250m\u001b[39m\u001b[38;5;124;03m\"\"\"Return a (dtype, weak_type) tuple for the given input.\"\"\"\u001b[39;00m\n\u001b[1;32m--> 516\u001b[0m \u001b[38;5;28;01mreturn\u001b[39;00m dtype(value), \u001b[38;5;28many\u001b[39m(value \u001b[38;5;129;01mis\u001b[39;00m typ \u001b[38;5;28;01mfor\u001b[39;00m typ \u001b[38;5;129;01min\u001b[39;00m _weak_types) \u001b[38;5;129;01mor\u001b[39;00m is_weakly_typed(value)\n",
      "File \u001b[1;32m~\\AppData\\Roaming\\Python\\Python312\\site-packages\\jax\\_src\\dtypes.py:705\u001b[0m, in \u001b[0;36mdtype\u001b[1;34m(x, canonicalize)\u001b[0m\n\u001b[0;32m    704\u001b[0m   \u001b[38;5;28;01mexcept\u001b[39;00m \u001b[38;5;167;01mTypeError\u001b[39;00m \u001b[38;5;28;01mas\u001b[39;00m err:\n\u001b[1;32m--> 705\u001b[0m     \u001b[38;5;28;01mraise\u001b[39;00m \u001b[38;5;167;01mTypeError\u001b[39;00m(\u001b[38;5;124mf\u001b[39m\u001b[38;5;124m\"\u001b[39m\u001b[38;5;124mCannot determine dtype of \u001b[39m\u001b[38;5;132;01m{\u001b[39;00mx\u001b[38;5;132;01m}\u001b[39;00m\u001b[38;5;124m\"\u001b[39m) \u001b[38;5;28;01mfrom\u001b[39;00m \u001b[38;5;21;01merr\u001b[39;00m\n\u001b[0;32m    706\u001b[0m \u001b[38;5;28;01mif\u001b[39;00m dt \u001b[38;5;129;01mnot\u001b[39;00m \u001b[38;5;129;01min\u001b[39;00m _jax_dtype_set \u001b[38;5;129;01mand\u001b[39;00m \u001b[38;5;129;01mnot\u001b[39;00m issubdtype(dt, extended):\n",
      "\u001b[1;31mTypeError\u001b[0m: Cannot determine dtype of <object object at 0x000001A0D0018D60>",
      "\nDuring handling of the above exception, another exception occurred:\n",
      "\u001b[1;31mTypeError\u001b[0m                                 Traceback (most recent call last)",
      "Cell \u001b[1;32mIn[18], line 1\u001b[0m\n\u001b[1;32m----> 1\u001b[0m jax\u001b[38;5;241m.\u001b[39mjacobian(\u001b[38;5;28;01mlambda\u001b[39;00m x: x)(tree)\n",
      "File \u001b[1;32m~\\AppData\\Roaming\\Python\\Python312\\site-packages\\jax\\_src\\api.py:672\u001b[0m, in \u001b[0;36mjacrev.<locals>.jacfun\u001b[1;34m(*args, **kwargs)\u001b[0m\n\u001b[0;32m    670\u001b[0m   y, pullback, aux \u001b[38;5;241m=\u001b[39m _vjp(f_partial, \u001b[38;5;241m*\u001b[39mdyn_args, has_aux\u001b[38;5;241m=\u001b[39m\u001b[38;5;28;01mTrue\u001b[39;00m)\n\u001b[0;32m    671\u001b[0m tree_map(partial(_check_output_dtype_jacrev, holomorphic), y)\n\u001b[1;32m--> 672\u001b[0m jac \u001b[38;5;241m=\u001b[39m vmap(pullback)(_std_basis(y))\n\u001b[0;32m    673\u001b[0m jac \u001b[38;5;241m=\u001b[39m jac[\u001b[38;5;241m0\u001b[39m] \u001b[38;5;28;01mif\u001b[39;00m \u001b[38;5;28misinstance\u001b[39m(argnums, \u001b[38;5;28mint\u001b[39m) \u001b[38;5;28;01melse\u001b[39;00m jac\n\u001b[0;32m    674\u001b[0m example_args \u001b[38;5;241m=\u001b[39m dyn_args[\u001b[38;5;241m0\u001b[39m] \u001b[38;5;28;01mif\u001b[39;00m \u001b[38;5;28misinstance\u001b[39m(argnums, \u001b[38;5;28mint\u001b[39m) \u001b[38;5;28;01melse\u001b[39;00m dyn_args\n",
      "    \u001b[1;31m[... skipping hidden 4 frame]\u001b[0m\n",
      "Cell \u001b[1;32mIn[16], line 6\u001b[0m, in \u001b[0;36m<lambda>\u001b[1;34m(_, args)\u001b[0m\n\u001b[0;32m      2\u001b[0m   \u001b[38;5;28;01mdef\u001b[39;00m \u001b[38;5;21m__init__\u001b[39m(\u001b[38;5;28mself\u001b[39m, a):\n\u001b[0;32m      3\u001b[0m     \u001b[38;5;28mself\u001b[39m\u001b[38;5;241m.\u001b[39ma \u001b[38;5;241m=\u001b[39m jnp\u001b[38;5;241m.\u001b[39masarray(a)\n\u001b[0;32m      5\u001b[0m register_pytree_node(MyTree, \u001b[38;5;28;01mlambda\u001b[39;00m tree: ((tree\u001b[38;5;241m.\u001b[39ma,), \u001b[38;5;28;01mNone\u001b[39;00m),\n\u001b[1;32m----> 6\u001b[0m     \u001b[38;5;28;01mlambda\u001b[39;00m _, args: MyTree(\u001b[38;5;241m*\u001b[39margs))\n\u001b[0;32m      8\u001b[0m tree \u001b[38;5;241m=\u001b[39m MyTree(jnp\u001b[38;5;241m.\u001b[39marange(\u001b[38;5;241m5.0\u001b[39m))\n\u001b[0;32m     10\u001b[0m jax\u001b[38;5;241m.\u001b[39mvmap(\u001b[38;5;28;01mlambda\u001b[39;00m x: x)(tree)\n",
      "Cell \u001b[1;32mIn[16], line 3\u001b[0m, in \u001b[0;36mMyTree.__init__\u001b[1;34m(self, a)\u001b[0m\n\u001b[0;32m      2\u001b[0m \u001b[38;5;28;01mdef\u001b[39;00m \u001b[38;5;21m__init__\u001b[39m(\u001b[38;5;28mself\u001b[39m, a):\n\u001b[1;32m----> 3\u001b[0m   \u001b[38;5;28mself\u001b[39m\u001b[38;5;241m.\u001b[39ma \u001b[38;5;241m=\u001b[39m jnp\u001b[38;5;241m.\u001b[39masarray(a)\n",
      "File \u001b[1;32m~\\AppData\\Roaming\\Python\\Python312\\site-packages\\jax\\_src\\numpy\\lax_numpy.py:5592\u001b[0m, in \u001b[0;36masarray\u001b[1;34m(a, dtype, order, copy, device)\u001b[0m\n\u001b[0;32m   5590\u001b[0m \u001b[38;5;28;01mif\u001b[39;00m dtype \u001b[38;5;129;01mis\u001b[39;00m \u001b[38;5;129;01mnot\u001b[39;00m \u001b[38;5;28;01mNone\u001b[39;00m:\n\u001b[0;32m   5591\u001b[0m   dtype \u001b[38;5;241m=\u001b[39m dtypes\u001b[38;5;241m.\u001b[39mcanonicalize_dtype(dtype, allow_extended_dtype\u001b[38;5;241m=\u001b[39m\u001b[38;5;28;01mTrue\u001b[39;00m)  \u001b[38;5;66;03m# type: ignore[assignment]\u001b[39;00m\n\u001b[1;32m-> 5592\u001b[0m \u001b[38;5;28;01mreturn\u001b[39;00m array(a, dtype\u001b[38;5;241m=\u001b[39mdtype, copy\u001b[38;5;241m=\u001b[39m\u001b[38;5;28mbool\u001b[39m(copy), order\u001b[38;5;241m=\u001b[39morder, device\u001b[38;5;241m=\u001b[39mdevice)\n",
      "File \u001b[1;32m~\\AppData\\Roaming\\Python\\Python312\\site-packages\\jax\\_src\\numpy\\lax_numpy.py:5399\u001b[0m, in \u001b[0;36marray\u001b[1;34m(object, dtype, copy, order, ndmin, device)\u001b[0m\n\u001b[0;32m   5395\u001b[0m   \u001b[38;5;28;01mexcept\u001b[39;00m \u001b[38;5;167;01mTypeError\u001b[39;00m:\n\u001b[0;32m   5396\u001b[0m     \u001b[38;5;66;03m# This happens if, e.g. one of the entries is a memoryview object.\u001b[39;00m\n\u001b[0;32m   5397\u001b[0m     \u001b[38;5;66;03m# This is rare, so we only handle it if the normal path fails.\u001b[39;00m\n\u001b[0;32m   5398\u001b[0m     leaves \u001b[38;5;241m=\u001b[39m [_convert_to_array_if_dtype_fails(leaf) \u001b[38;5;28;01mfor\u001b[39;00m leaf \u001b[38;5;129;01min\u001b[39;00m leaves]\n\u001b[1;32m-> 5399\u001b[0m     dtype \u001b[38;5;241m=\u001b[39m dtypes\u001b[38;5;241m.\u001b[39m_lattice_result_type(\u001b[38;5;241m*\u001b[39mleaves)[\u001b[38;5;241m0\u001b[39m]\n\u001b[0;32m   5401\u001b[0m \u001b[38;5;28;01mif\u001b[39;00m \u001b[38;5;129;01mnot\u001b[39;00m weak_type:\n\u001b[0;32m   5402\u001b[0m   dtype \u001b[38;5;241m=\u001b[39m dtypes\u001b[38;5;241m.\u001b[39mcanonicalize_dtype(dtype, allow_extended_dtype\u001b[38;5;241m=\u001b[39m\u001b[38;5;28;01mTrue\u001b[39;00m)  \u001b[38;5;66;03m# type: ignore[assignment]\u001b[39;00m\n",
      "    \u001b[1;31m[... skipping hidden 3 frame]\u001b[0m\n",
      "File \u001b[1;32m~\\AppData\\Roaming\\Python\\Python312\\site-packages\\jax\\_src\\dtypes.py:707\u001b[0m, in \u001b[0;36mdtype\u001b[1;34m(x, canonicalize)\u001b[0m\n\u001b[0;32m    705\u001b[0m     \u001b[38;5;28;01mraise\u001b[39;00m \u001b[38;5;167;01mTypeError\u001b[39;00m(\u001b[38;5;124mf\u001b[39m\u001b[38;5;124m\"\u001b[39m\u001b[38;5;124mCannot determine dtype of \u001b[39m\u001b[38;5;132;01m{\u001b[39;00mx\u001b[38;5;132;01m}\u001b[39;00m\u001b[38;5;124m\"\u001b[39m) \u001b[38;5;28;01mfrom\u001b[39;00m \u001b[38;5;21;01merr\u001b[39;00m\n\u001b[0;32m    706\u001b[0m \u001b[38;5;28;01mif\u001b[39;00m dt \u001b[38;5;129;01mnot\u001b[39;00m \u001b[38;5;129;01min\u001b[39;00m _jax_dtype_set \u001b[38;5;129;01mand\u001b[39;00m \u001b[38;5;129;01mnot\u001b[39;00m issubdtype(dt, extended):\n\u001b[1;32m--> 707\u001b[0m   \u001b[38;5;28;01mraise\u001b[39;00m \u001b[38;5;167;01mTypeError\u001b[39;00m(\u001b[38;5;124mf\u001b[39m\u001b[38;5;124m\"\u001b[39m\u001b[38;5;124mValue \u001b[39m\u001b[38;5;124m'\u001b[39m\u001b[38;5;132;01m{\u001b[39;00mx\u001b[38;5;132;01m}\u001b[39;00m\u001b[38;5;124m'\u001b[39m\u001b[38;5;124m with dtype \u001b[39m\u001b[38;5;132;01m{\u001b[39;00mdt\u001b[38;5;132;01m}\u001b[39;00m\u001b[38;5;124m is not a valid JAX array \u001b[39m\u001b[38;5;124m\"\u001b[39m\n\u001b[0;32m    708\u001b[0m                   \u001b[38;5;124m\"\u001b[39m\u001b[38;5;124mtype. Only arrays of numeric types are supported by JAX.\u001b[39m\u001b[38;5;124m\"\u001b[39m)\n\u001b[0;32m    709\u001b[0m \u001b[38;5;66;03m# TODO(jakevdp): fix return type annotation and remove this ignore.\u001b[39;00m\n\u001b[0;32m    710\u001b[0m \u001b[38;5;28;01mreturn\u001b[39;00m canonicalize_dtype(dt, allow_extended_dtype\u001b[38;5;241m=\u001b[39m\u001b[38;5;28;01mTrue\u001b[39;00m) \u001b[38;5;28;01mif\u001b[39;00m canonicalize \u001b[38;5;28;01melse\u001b[39;00m dt\n",
      "\u001b[1;31mTypeError\u001b[0m: Value '<object object at 0x000001A0D0018D60>' with dtype object is not a valid JAX array type. Only arrays of numeric types are supported by JAX."
     ]
    }
   ],
   "source": [
    "jax.jacobian(lambda x: x)(tree)  # Error because MyTree(...) is passed to `MyTree`."
   ]
  },
  {
   "cell_type": "markdown",
   "metadata": {},
   "source": [
    "**Potential solution 1:**\n",
    "\n",
    "The `__init__` and `__new__` methods of custom pytree classes should generally avoid doing any array conversion or other input validation, or else anticipate and handle these special cases. For example:"
   ]
  },
  {
   "cell_type": "code",
   "execution_count": 19,
   "metadata": {},
   "outputs": [],
   "source": [
    "class MyTree:\n",
    "  def __init__(self, a):\n",
    "    if not (type(a) is object or a is None or isinstance(a, MyTree)):\n",
    "      a = jnp.asarray(a)\n",
    "    self.a = a"
   ]
  },
  {
   "cell_type": "markdown",
   "metadata": {},
   "source": [
    "**Potential solution 2:**\n",
    "\n",
    "Structure your custom ``tree_unflatten` function so that it avoids calling `__init__`. If you choose this route, make sure that your `tree_unflatten` function stays in sync with `__init__` if and when the code is updated. Example:"
   ]
  },
  {
   "cell_type": "code",
   "execution_count": 20,
   "metadata": {},
   "outputs": [],
   "source": [
    "def tree_unflatten(aux_data, children):\n",
    "  del aux_data  # Unused in this class.\n",
    "  obj = object.__new__(MyTree)\n",
    "  obj.a = a\n",
    "  return obj"
   ]
  },
  {
   "cell_type": "markdown",
   "metadata": {},
   "source": [
    "# Common pytree patterns\n",
    "This section covers some of the most common patterns with JAX pytrees.\n",
    "\n",
    "## Transposing pytrees with `jax.tree.map` and `jax.tree.transpose`\n",
    "To transpose a pytree (turn a list of trees into a tree of lists), JAX has two functions: {func} `jax.tree.map` (more basic) and `jax.tree.transpose()` (more flexible, complex and verbose).\n",
    "\n",
    "Option 1: Use `jax.tree.map()`. Here’s an example:"
   ]
  },
  {
   "cell_type": "code",
   "execution_count": 21,
   "metadata": {},
   "outputs": [
    {
     "data": {
      "text/plain": [
       "{'obs': [3, 4], 't': [1, 2]}"
      ]
     },
     "execution_count": 21,
     "metadata": {},
     "output_type": "execute_result"
    }
   ],
   "source": [
    "def tree_transpose(list_of_trees):\n",
    "  \"\"\"\n",
    "  Converts a list of trees of identical structure into a single tree of lists.\n",
    "  \"\"\"\n",
    "  return jax.tree.map(lambda *xs: list(xs), *list_of_trees)\n",
    "\n",
    "# Convert a dataset from row-major to column-major.\n",
    "episode_steps = [dict(t=1, obs=3), dict(t=2, obs=4)]\n",
    "tree_transpose(episode_steps)"
   ]
  },
  {
   "cell_type": "code",
   "execution_count": 22,
   "metadata": {},
   "outputs": [
    {
     "data": {
      "text/plain": [
       "{'obs': [3, 4], 't': [1, 2]}"
      ]
     },
     "execution_count": 22,
     "metadata": {},
     "output_type": "execute_result"
    }
   ],
   "source": [
    "jax.tree.transpose(\n",
    "  outer_treedef = jax.tree.structure([0 for e in episode_steps]),\n",
    "  inner_treedef = jax.tree.structure(episode_steps[0]),\n",
    "  pytree_to_transpose = episode_steps\n",
    ")"
   ]
  },
  {
   "cell_type": "markdown",
   "metadata": {},
   "source": [
    "**Option 2**: For more complex transposes, use `jax.tree.transpose()`, which is more verbose, but allows you specify the structure of the inner and outer pytree for more flexibility. For example:"
   ]
  },
  {
   "cell_type": "code",
   "execution_count": 23,
   "metadata": {},
   "outputs": [
    {
     "data": {
      "text/plain": [
       "{'obs': [3, 4], 't': [1, 2]}"
      ]
     },
     "execution_count": 23,
     "metadata": {},
     "output_type": "execute_result"
    }
   ],
   "source": [
    "jax.tree.transpose(\n",
    "  outer_treedef = jax.tree.structure([0 for e in episode_steps]),\n",
    "  inner_treedef = jax.tree.structure(episode_steps[0]),\n",
    "  pytree_to_transpose = episode_steps\n",
    ")"
   ]
  }
 ],
 "metadata": {
  "kernelspec": {
   "display_name": "base",
   "language": "python",
   "name": "python3"
  },
  "language_info": {
   "codemirror_mode": {
    "name": "ipython",
    "version": 3
   },
   "file_extension": ".py",
   "mimetype": "text/x-python",
   "name": "python",
   "nbconvert_exporter": "python",
   "pygments_lexer": "ipython3",
   "version": "3.12.4"
  }
 },
 "nbformat": 4,
 "nbformat_minor": 2
}
