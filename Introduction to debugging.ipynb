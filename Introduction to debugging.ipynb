{
 "cells": [
  {
   "cell_type": "markdown",
   "metadata": {},
   "source": [
    "# Introduction to debugging\n",
    "This section introduces you to a set of built-in JAX debugging methods — `jax.debug.print()`, `jax.debug.breakpoint()`, and `jax.debug.callback()` — that you can use with various JAX transformations.\n",
    "\n",
    "Let’s begin with `jax.debug.print()`.\n",
    "\n",
    "## `jax.debug.print` for simple inspection\n",
    "Here is a rule of thumb:\n",
    "\n",
    "* Use `jax.debug.print()` for traced (dynamic) array values with `jax.jit()`, `jax.vmap()` and others.\n",
    "\n",
    "* Use Python `print()` for static values, such as dtypes and array shapes.\n",
    "\n",
    "Recall from Just-in-time compilation that when transforming a function with `jax.jit()`, the Python code is executed with abstract tracers in place of your arrays. Because of this, the Python `print()` function will only print this tracer value:"
   ]
  },
  {
   "cell_type": "code",
   "execution_count": 1,
   "metadata": {},
   "outputs": [
    {
     "name": "stdout",
     "output_type": "stream",
     "text": [
      "print(x) -> Traced<ShapedArray(float32[], weak_type=True)>with<DynamicJaxprTrace(level=1/0)>\n",
      "print(y) -> Traced<ShapedArray(float32[], weak_type=True)>with<DynamicJaxprTrace(level=1/0)>\n"
     ]
    }
   ],
   "source": [
    "import jax\n",
    "import jax.numpy as jnp\n",
    "\n",
    "@jax.jit\n",
    "def f(x):\n",
    "  print(\"print(x) ->\", x)\n",
    "  y = jnp.sin(x)\n",
    "  print(\"print(y) ->\", y)\n",
    "  return y\n",
    "\n",
    "result = f(2.)"
   ]
  },
  {
   "cell_type": "code",
   "execution_count": 2,
   "metadata": {},
   "outputs": [
    {
     "name": "stdout",
     "output_type": "stream",
     "text": [
      "jax.debug.print(x) -> 2.0\n",
      "jax.debug.print(y) -> 0.9092974066734314\n"
     ]
    }
   ],
   "source": [
    "@jax.jit\n",
    "def f(x):\n",
    "  jax.debug.print(\"jax.debug.print(x) -> {x}\", x=x)\n",
    "  y = jnp.sin(x)\n",
    "  jax.debug.print(\"jax.debug.print(y) -> {y}\", y=y)\n",
    "  return y\n",
    "\n",
    "result = f(2.)"
   ]
  },
  {
   "cell_type": "code",
   "execution_count": 3,
   "metadata": {},
   "outputs": [
    {
     "name": "stdout",
     "output_type": "stream",
     "text": [
      "jax.debug.print(x) -> 0.0\n",
      "jax.debug.print(x) -> 1.0\n",
      "jax.debug.print(x) -> 2.0\n",
      "jax.debug.print(y) -> 0.0\n",
      "jax.debug.print(y) -> 0.8414709568023682\n",
      "jax.debug.print(y) -> 0.9092974066734314\n"
     ]
    }
   ],
   "source": [
    "def f(x):\n",
    "  jax.debug.print(\"jax.debug.print(x) -> {}\", x)\n",
    "  y = jnp.sin(x)\n",
    "  jax.debug.print(\"jax.debug.print(y) -> {}\", y)\n",
    "  return y\n",
    "\n",
    "xs = jnp.arange(3.)\n",
    "\n",
    "result = jax.vmap(f)(xs)"
   ]
  },
  {
   "cell_type": "code",
   "execution_count": 4,
   "metadata": {},
   "outputs": [
    {
     "name": "stdout",
     "output_type": "stream",
     "text": [
      "jax.debug.print(x) -> 0.0\n",
      "jax.debug.print(y) -> 0.0\n",
      "jax.debug.print(x) -> 1.0\n",
      "jax.debug.print(y) -> 0.8414709568023682\n",
      "jax.debug.print(x) -> 2.0\n",
      "jax.debug.print(y) -> 0.9092974066734314\n"
     ]
    }
   ],
   "source": [
    "result = jax.lax.map(f, xs)"
   ]
  },
  {
   "cell_type": "code",
   "execution_count": 5,
   "metadata": {},
   "outputs": [
    {
     "name": "stdout",
     "output_type": "stream",
     "text": [
      "jax.debug.print(x) -> 1.0\n"
     ]
    }
   ],
   "source": [
    "def f(x):\n",
    "  jax.debug.print(\"jax.debug.print(x) -> {}\", x)\n",
    "  return x ** 2\n",
    "\n",
    "result = jax.grad(f)(1.)"
   ]
  },
  {
   "cell_type": "code",
   "execution_count": 6,
   "metadata": {},
   "outputs": [
    {
     "name": "stdout",
     "output_type": "stream",
     "text": [
      "jax.debug.print(x) -> 1\n",
      "jax.debug.print(y) -> 2\n"
     ]
    },
    {
     "data": {
      "text/plain": [
       "Array(3, dtype=int32, weak_type=True)"
      ]
     },
     "execution_count": 6,
     "metadata": {},
     "output_type": "execute_result"
    }
   ],
   "source": [
    "@jax.jit\n",
    "def f(x, y):\n",
    "  jax.debug.print(\"jax.debug.print(x) -> {}\", x, ordered=True)\n",
    "  jax.debug.print(\"jax.debug.print(y) -> {}\", y, ordered=True)\n",
    "  return x + y\n",
    "\n",
    "f(1, 2)"
   ]
  },
  {
   "cell_type": "markdown",
   "metadata": {},
   "source": [
    "## `jax.debug.breakpoint` for `pdb`-like debugging\n",
    "Summary: Use `jax.debug.breakpoint()` to pause the execution of your JAX program to inspect values.\n",
    "\n",
    "To pause your compiled JAX program during certain points during debugging, you can use `jax.debug.breakpoint()`. The prompt is similar to Python `pdb`, and it allows you to inspect the values in the call stack. In fact, `jax.debug.breakpoint()` is an application of `jax.debug.callback()` that captures information about the call stack.\n",
    "\n",
    "To print all available commands during a `breakpoint` debugging session, use the `help` command."
   ]
  },
  {
   "cell_type": "code",
   "execution_count": 7,
   "metadata": {},
   "outputs": [
    {
     "data": {
      "text/plain": [
       "Array(2., dtype=float32, weak_type=True)"
      ]
     },
     "execution_count": 7,
     "metadata": {},
     "output_type": "execute_result"
    }
   ],
   "source": [
    "def breakpoint_if_nonfinite(x):\n",
    "  is_finite = jnp.isfinite(x).all()\n",
    "  def true_fn(x):\n",
    "    pass\n",
    "  def false_fn(x):\n",
    "    jax.debug.breakpoint()\n",
    "  jax.lax.cond(is_finite, true_fn, false_fn, x)\n",
    "\n",
    "@jax.jit\n",
    "def f(x, y):\n",
    "  z = x / y\n",
    "  breakpoint_if_nonfinite(z)\n",
    "  return z\n",
    "\n",
    "f(2., 1.) # ==> No breakpoint"
   ]
  },
  {
   "cell_type": "markdown",
   "metadata": {},
   "source": [
    "## `jax.debug.callback` for more control during debugging\n",
    "Both `jax.debug.print()` and `jax.debug.breakpoint()` are implemented using the more flexible `jax.debug.callback()`, which gives greater control over the host-side logic executed via a Python callback. It is compatible with `jax.jit()`, `jax.vmap()`, `jax.grad()` and other transformations"
   ]
  },
  {
   "cell_type": "code",
   "execution_count": 8,
   "metadata": {},
   "outputs": [
    {
     "name": "stderr",
     "output_type": "stream",
     "text": [
      "WARNING:root:Logged value: 1.0\n"
     ]
    }
   ],
   "source": [
    "import logging\n",
    "\n",
    "def log_value(x):\n",
    "  logging.warning(f'Logged value: {x}')\n",
    "\n",
    "@jax.jit\n",
    "def f(x):\n",
    "  jax.debug.callback(log_value, x)\n",
    "  return x\n",
    "\n",
    "f(1.0);"
   ]
  },
  {
   "cell_type": "code",
   "execution_count": 9,
   "metadata": {},
   "outputs": [
    {
     "name": "stderr",
     "output_type": "stream",
     "text": [
      "WARNING:root:Logged value: 0.0\n",
      "WARNING:root:Logged value: 1.0\n",
      "WARNING:root:Logged value: 2.0\n",
      "WARNING:root:Logged value: 3.0\n",
      "WARNING:root:Logged value: 4.0\n"
     ]
    }
   ],
   "source": [
    "x = jnp.arange(5.0)\n",
    "jax.vmap(f)(x);"
   ]
  },
  {
   "cell_type": "code",
   "execution_count": 10,
   "metadata": {},
   "outputs": [
    {
     "name": "stderr",
     "output_type": "stream",
     "text": [
      "WARNING:root:Logged value: 1.0\n"
     ]
    }
   ],
   "source": [
    "jax.grad(f)(1.0);"
   ]
  },
  {
   "cell_type": "markdown",
   "metadata": {},
   "source": [
    "# External callbacks\n",
    "This tutorial outlines how you can use various callback functions, which allow JAX runtimes to execute Python code on the host. Examples of JAX callbacks are `jax.pure_callback()`, `jax.experimental.io_callback()` and `jax.debug.callback()`. You can use them even while running under JAX transformations, including `jit()`, `vmap()`, `grad()`.\n",
    "\n",
    "## Why callbacks?\n",
    "A callback routine is a way to perform host-side execution of code at runtime. As a simple example, suppose you’d like to print the value of some variable during the course of a computation. Using a simple Python `print()` statement, it looks like this"
   ]
  },
  {
   "cell_type": "code",
   "execution_count": 11,
   "metadata": {},
   "outputs": [
    {
     "name": "stdout",
     "output_type": "stream",
     "text": [
      "intermediate value: Traced<ShapedArray(int32[], weak_type=True)>with<DynamicJaxprTrace(level=1/0)>\n"
     ]
    }
   ],
   "source": [
    "import jax\n",
    "\n",
    "@jax.jit\n",
    "def f(x):\n",
    "  y = x + 1\n",
    "  print(\"intermediate value: {}\".format(y))\n",
    "  return y * 2\n",
    "\n",
    "result = f(2)"
   ]
  },
  {
   "cell_type": "code",
   "execution_count": 12,
   "metadata": {},
   "outputs": [
    {
     "name": "stdout",
     "output_type": "stream",
     "text": [
      "intermediate value: 3\n"
     ]
    }
   ],
   "source": [
    "@jax.jit\n",
    "def f(x):\n",
    "  y = x + 1\n",
    "  jax.debug.print(\"intermediate value: {}\", y)\n",
    "  return y * 2\n",
    "\n",
    "result = f(2)"
   ]
  },
  {
   "cell_type": "markdown",
   "metadata": {},
   "source": [
    "### Exploring pure_callback\n",
    "`jax.pure_callback()` is generally the callback function you should reach for when you want host-side execution of a pure function: i.e. a function that has no side-effects (such as printing values, reading data from disk, updating a global state, etc.).\n",
    "\n",
    "The function you pass to `jax.pure_callback()` need not actually be pure, but it will be assumed pure by JAX’s transformations and higher-order functions, which means that it may be silently elided or called multiple times."
   ]
  },
  {
   "cell_type": "code",
   "execution_count": 13,
   "metadata": {},
   "outputs": [
    {
     "data": {
      "text/plain": [
       "Array([ 0.       ,  0.841471 ,  0.9092974,  0.14112  , -0.7568025],      dtype=float32)"
      ]
     },
     "execution_count": 13,
     "metadata": {},
     "output_type": "execute_result"
    }
   ],
   "source": [
    "import jax\n",
    "import jax.numpy as jnp\n",
    "import numpy as np\n",
    "\n",
    "def f_host(x):\n",
    "  # call a numpy (not jax.numpy) operation:\n",
    "  return np.sin(x).astype(x.dtype)\n",
    "\n",
    "def f(x):\n",
    "  result_shape = jax.ShapeDtypeStruct(x.shape, x.dtype)\n",
    "  return jax.pure_callback(f_host, result_shape, x)\n",
    "\n",
    "x = jnp.arange(5.0)\n",
    "f(x)"
   ]
  },
  {
   "cell_type": "code",
   "execution_count": 14,
   "metadata": {},
   "outputs": [
    {
     "data": {
      "text/plain": [
       "Array([ 0.       ,  0.841471 ,  0.9092974,  0.14112  , -0.7568025],      dtype=float32)"
      ]
     },
     "execution_count": 14,
     "metadata": {},
     "output_type": "execute_result"
    }
   ],
   "source": [
    "jax.jit(f)(x)"
   ]
  },
  {
   "cell_type": "code",
   "execution_count": 15,
   "metadata": {},
   "outputs": [
    {
     "name": "stderr",
     "output_type": "stream",
     "text": [
      "C:\\Users\\devanshu.tayal\\AppData\\Local\\Temp\\ipykernel_5572\\3691550925.py:11: DeprecationWarning: The default behavior of pure_callback under vmap will soon change. Currently, the default behavior is to generate a sequential vmap (i.e. a loop), but in the future the default will be to raise an error. To keep the current default, set vmap_method='sequential'.\n",
      "  return jax.pure_callback(f_host, result_shape, x)\n"
     ]
    },
    {
     "data": {
      "text/plain": [
       "Array([ 0.       ,  0.841471 ,  0.9092974,  0.14112  , -0.7568025],      dtype=float32)"
      ]
     },
     "execution_count": 15,
     "metadata": {},
     "output_type": "execute_result"
    }
   ],
   "source": [
    "jax.vmap(f)(x)"
   ]
  },
  {
   "cell_type": "code",
   "execution_count": 16,
   "metadata": {},
   "outputs": [
    {
     "data": {
      "text/plain": [
       "Array([ 0.       ,  0.841471 ,  0.9092974,  0.14112  , -0.7568025],      dtype=float32)"
      ]
     },
     "execution_count": 16,
     "metadata": {},
     "output_type": "execute_result"
    }
   ],
   "source": [
    "def body_fun(_, x):\n",
    "  return _, f(x)\n",
    "jax.lax.scan(body_fun, None, jnp.arange(5.0))[1]"
   ]
  },
  {
   "cell_type": "code",
   "execution_count": 17,
   "metadata": {},
   "outputs": [
    {
     "ename": "ValueError",
     "evalue": "Pure callbacks do not support JVP. Please use `jax.custom_jvp` to use callbacks while taking gradients.",
     "output_type": "error",
     "traceback": [
      "\u001b[1;31m---------------------------------------------------------------------------\u001b[0m",
      "\u001b[1;31mValueError\u001b[0m                                Traceback (most recent call last)",
      "Cell \u001b[1;32mIn[17], line 1\u001b[0m\n\u001b[1;32m----> 1\u001b[0m jax\u001b[38;5;241m.\u001b[39mgrad(f)(x)\n",
      "    \u001b[1;31m[... skipping hidden 10 frame]\u001b[0m\n",
      "Cell \u001b[1;32mIn[13], line 11\u001b[0m, in \u001b[0;36mf\u001b[1;34m(x)\u001b[0m\n\u001b[0;32m      9\u001b[0m \u001b[38;5;28;01mdef\u001b[39;00m \u001b[38;5;21mf\u001b[39m(x):\n\u001b[0;32m     10\u001b[0m   result_shape \u001b[38;5;241m=\u001b[39m jax\u001b[38;5;241m.\u001b[39mShapeDtypeStruct(x\u001b[38;5;241m.\u001b[39mshape, x\u001b[38;5;241m.\u001b[39mdtype)\n\u001b[1;32m---> 11\u001b[0m   \u001b[38;5;28;01mreturn\u001b[39;00m jax\u001b[38;5;241m.\u001b[39mpure_callback(f_host, result_shape, x)\n",
      "File \u001b[1;32m~\\AppData\\Roaming\\Python\\Python312\\site-packages\\jax\\_src\\callback.py:430\u001b[0m, in \u001b[0;36mpure_callback\u001b[1;34m(callback, result_shape_dtypes, sharding, vectorized, vmap_method, *args, **kwargs)\u001b[0m\n\u001b[0;32m    427\u001b[0m result_avals \u001b[38;5;241m=\u001b[39m tree_util\u001b[38;5;241m.\u001b[39mtree_map(\n\u001b[0;32m    428\u001b[0m     \u001b[38;5;28;01mlambda\u001b[39;00m x: core\u001b[38;5;241m.\u001b[39mShapedArray(x\u001b[38;5;241m.\u001b[39mshape, x\u001b[38;5;241m.\u001b[39mdtype), result_shape_dtypes)\n\u001b[0;32m    429\u001b[0m flat_result_avals, out_tree \u001b[38;5;241m=\u001b[39m tree_util\u001b[38;5;241m.\u001b[39mtree_flatten(result_avals)\n\u001b[1;32m--> 430\u001b[0m out_flat \u001b[38;5;241m=\u001b[39m pure_callback_p\u001b[38;5;241m.\u001b[39mbind(\n\u001b[0;32m    431\u001b[0m     \u001b[38;5;241m*\u001b[39mflat_args,\n\u001b[0;32m    432\u001b[0m     callback\u001b[38;5;241m=\u001b[39m_FlatCallback(callback, in_tree),\n\u001b[0;32m    433\u001b[0m     result_avals\u001b[38;5;241m=\u001b[39m\u001b[38;5;28mtuple\u001b[39m(flat_result_avals),\n\u001b[0;32m    434\u001b[0m     sharding\u001b[38;5;241m=\u001b[39msharding,\n\u001b[0;32m    435\u001b[0m     vectorized\u001b[38;5;241m=\u001b[39mvectorized,\n\u001b[0;32m    436\u001b[0m     vmap_method\u001b[38;5;241m=\u001b[39mvmap_method,\n\u001b[0;32m    437\u001b[0m )\n\u001b[0;32m    438\u001b[0m \u001b[38;5;28;01mreturn\u001b[39;00m tree_util\u001b[38;5;241m.\u001b[39mtree_unflatten(out_tree, out_flat)\n",
      "    \u001b[1;31m[... skipping hidden 3 frame]\u001b[0m\n",
      "File \u001b[1;32m~\\AppData\\Roaming\\Python\\Python312\\site-packages\\jax\\_src\\callback.py:119\u001b[0m, in \u001b[0;36mpure_callback_jvp_rule\u001b[1;34m(***failed resolving arguments***)\u001b[0m\n\u001b[0;32m    117\u001b[0m \u001b[38;5;28;01mdef\u001b[39;00m \u001b[38;5;21mpure_callback_jvp_rule\u001b[39m(\u001b[38;5;241m*\u001b[39margs, \u001b[38;5;241m*\u001b[39m\u001b[38;5;241m*\u001b[39mkwargs):\n\u001b[0;32m    118\u001b[0m   \u001b[38;5;28;01mdel\u001b[39;00m args, kwargs\n\u001b[1;32m--> 119\u001b[0m   \u001b[38;5;28;01mraise\u001b[39;00m \u001b[38;5;167;01mValueError\u001b[39;00m(\n\u001b[0;32m    120\u001b[0m       \u001b[38;5;124m\"\u001b[39m\u001b[38;5;124mPure callbacks do not support JVP. \u001b[39m\u001b[38;5;124m\"\u001b[39m\n\u001b[0;32m    121\u001b[0m       \u001b[38;5;124m\"\u001b[39m\u001b[38;5;124mPlease use `jax.custom_jvp` to use callbacks while taking gradients.\u001b[39m\u001b[38;5;124m\"\u001b[39m)\n",
      "\u001b[1;31mValueError\u001b[0m: Pure callbacks do not support JVP. Please use `jax.custom_jvp` to use callbacks while taking gradients."
     ]
    }
   ],
   "source": [
    "jax.grad(f)(x)"
   ]
  },
  {
   "cell_type": "code",
   "execution_count": 18,
   "metadata": {},
   "outputs": [
    {
     "name": "stdout",
     "output_type": "stream",
     "text": [
      "printing something\n"
     ]
    }
   ],
   "source": [
    "def print_something():\n",
    "  print('printing something')\n",
    "  return np.int32(0)\n",
    "\n",
    "@jax.jit\n",
    "def f1():\n",
    "  return jax.pure_callback(print_something, np.int32(0))\n",
    "f1();"
   ]
  },
  {
   "cell_type": "code",
   "execution_count": 19,
   "metadata": {},
   "outputs": [],
   "source": [
    "@jax.jit\n",
    "def f2():\n",
    "  jax.pure_callback(print_something, np.int32(0))\n",
    "  return 1.0\n",
    "f2();"
   ]
  },
  {
   "cell_type": "markdown",
   "metadata": {},
   "source": [
    "## Exploring io_callback\n",
    "In contrast to `jax.pure_callback()`, `jax.experimental.io_callback()` is explicitly meant to be used with impure functions, i.e. functions that do have side-effects.\n",
    "\n",
    "As an example, here is a callback to a global host-side numpy random generator. This is an impure operation because a side-effect of generating a random number in numpy is that the random state is updated (Please note that this is meant as a toy example of `io_callback` and not necessarily a recommended way of generating random numbers in JAX!)."
   ]
  },
  {
   "cell_type": "code",
   "execution_count": 18,
   "metadata": {},
   "outputs": [
    {
     "name": "stdout",
     "output_type": "stream",
     "text": [
      "generating float32[5]\n"
     ]
    },
    {
     "data": {
      "text/plain": [
       "Array([0.6369617 , 0.26978672, 0.04097353, 0.01652764, 0.8132702 ],      dtype=float32)"
      ]
     },
     "execution_count": 18,
     "metadata": {},
     "output_type": "execute_result"
    }
   ],
   "source": [
    "from jax.experimental import io_callback\n",
    "from functools import partial\n",
    "\n",
    "global_rng = np.random.default_rng(0)\n",
    "\n",
    "def host_side_random_like(x):\n",
    "  \"\"\"Generate a random array like x using the global_rng state\"\"\"\n",
    "  # We have two side-effects here:\n",
    "  # - printing the shape and dtype\n",
    "  # - calling global_rng, thus updating its state\n",
    "  print(f'generating {x.dtype}{list(x.shape)}')\n",
    "  return global_rng.uniform(size=x.shape).astype(x.dtype)\n",
    "\n",
    "@jax.jit\n",
    "def numpy_random_like(x):\n",
    "  return io_callback(host_side_random_like, x, x)\n",
    "\n",
    "x = jnp.zeros(5)\n",
    "numpy_random_like(x)"
   ]
  },
  {
   "cell_type": "code",
   "execution_count": 19,
   "metadata": {},
   "outputs": [
    {
     "name": "stdout",
     "output_type": "stream",
     "text": [
      "generating float32[]\n",
      "generating float32[]\n",
      "generating float32[]\n",
      "generating float32[]\n",
      "generating float32[]\n"
     ]
    },
    {
     "data": {
      "text/plain": [
       "Array([0.91275555, 0.60663575, 0.72949654, 0.543625  , 0.9350724 ],      dtype=float32)"
      ]
     },
     "execution_count": 19,
     "metadata": {},
     "output_type": "execute_result"
    }
   ],
   "source": [
    "jax.vmap(numpy_random_like)(x)"
   ]
  },
  {
   "cell_type": "code",
   "execution_count": 20,
   "metadata": {},
   "outputs": [
    {
     "ename": "ValueError",
     "evalue": "Cannot `vmap` ordered IO callback.",
     "output_type": "error",
     "traceback": [
      "\u001b[1;31m---------------------------------------------------------------------------\u001b[0m",
      "\u001b[1;31mJaxStackTraceBeforeTransformation\u001b[0m         Traceback (most recent call last)",
      "File \u001b[1;32m<frozen runpy>:198\u001b[0m, in \u001b[0;36m_run_module_as_main\u001b[1;34m()\u001b[0m\n",
      "File \u001b[1;32m<frozen runpy>:88\u001b[0m, in \u001b[0;36m_run_code\u001b[1;34m()\u001b[0m\n",
      "File \u001b[1;32mc:\\ProgramData\\anaconda3\\Lib\\site-packages\\ipykernel_launcher.py:17\u001b[0m\n\u001b[0;32m     15\u001b[0m \u001b[38;5;28;01mfrom\u001b[39;00m \u001b[38;5;21;01mipykernel\u001b[39;00m \u001b[38;5;28;01mimport\u001b[39;00m kernelapp \u001b[38;5;28;01mas\u001b[39;00m app\n\u001b[1;32m---> 17\u001b[0m app\u001b[38;5;241m.\u001b[39mlaunch_new_instance()\n",
      "File \u001b[1;32mc:\\ProgramData\\anaconda3\\Lib\\site-packages\\traitlets\\config\\application.py:1075\u001b[0m, in \u001b[0;36mlaunch_instance\u001b[1;34m()\u001b[0m\n\u001b[0;32m   1074\u001b[0m app\u001b[38;5;241m.\u001b[39minitialize(argv)\n\u001b[1;32m-> 1075\u001b[0m app\u001b[38;5;241m.\u001b[39mstart()\n",
      "File \u001b[1;32mc:\\ProgramData\\anaconda3\\Lib\\site-packages\\ipykernel\\kernelapp.py:701\u001b[0m, in \u001b[0;36mstart\u001b[1;34m()\u001b[0m\n\u001b[0;32m    700\u001b[0m \u001b[38;5;28;01mtry\u001b[39;00m:\n\u001b[1;32m--> 701\u001b[0m     \u001b[38;5;28mself\u001b[39m\u001b[38;5;241m.\u001b[39mio_loop\u001b[38;5;241m.\u001b[39mstart()\n\u001b[0;32m    702\u001b[0m \u001b[38;5;28;01mexcept\u001b[39;00m \u001b[38;5;167;01mKeyboardInterrupt\u001b[39;00m:\n",
      "File \u001b[1;32mc:\\ProgramData\\anaconda3\\Lib\\site-packages\\tornado\\platform\\asyncio.py:205\u001b[0m, in \u001b[0;36mstart\u001b[1;34m()\u001b[0m\n\u001b[0;32m    204\u001b[0m \u001b[38;5;28;01mdef\u001b[39;00m \u001b[38;5;21mstart\u001b[39m(\u001b[38;5;28mself\u001b[39m) \u001b[38;5;241m-\u001b[39m\u001b[38;5;241m>\u001b[39m \u001b[38;5;28;01mNone\u001b[39;00m:\n\u001b[1;32m--> 205\u001b[0m     \u001b[38;5;28mself\u001b[39m\u001b[38;5;241m.\u001b[39masyncio_loop\u001b[38;5;241m.\u001b[39mrun_forever()\n",
      "File \u001b[1;32mc:\\ProgramData\\anaconda3\\Lib\\asyncio\\windows_events.py:322\u001b[0m, in \u001b[0;36mrun_forever\u001b[1;34m()\u001b[0m\n\u001b[0;32m    321\u001b[0m     \u001b[38;5;28mself\u001b[39m\u001b[38;5;241m.\u001b[39mcall_soon(\u001b[38;5;28mself\u001b[39m\u001b[38;5;241m.\u001b[39m_loop_self_reading)\n\u001b[1;32m--> 322\u001b[0m     \u001b[38;5;28msuper\u001b[39m()\u001b[38;5;241m.\u001b[39mrun_forever()\n\u001b[0;32m    323\u001b[0m \u001b[38;5;28;01mfinally\u001b[39;00m:\n",
      "File \u001b[1;32mc:\\ProgramData\\anaconda3\\Lib\\asyncio\\base_events.py:641\u001b[0m, in \u001b[0;36mrun_forever\u001b[1;34m()\u001b[0m\n\u001b[0;32m    640\u001b[0m \u001b[38;5;28;01mwhile\u001b[39;00m \u001b[38;5;28;01mTrue\u001b[39;00m:\n\u001b[1;32m--> 641\u001b[0m     \u001b[38;5;28mself\u001b[39m\u001b[38;5;241m.\u001b[39m_run_once()\n\u001b[0;32m    642\u001b[0m     \u001b[38;5;28;01mif\u001b[39;00m \u001b[38;5;28mself\u001b[39m\u001b[38;5;241m.\u001b[39m_stopping:\n",
      "File \u001b[1;32mc:\\ProgramData\\anaconda3\\Lib\\asyncio\\base_events.py:1987\u001b[0m, in \u001b[0;36m_run_once\u001b[1;34m()\u001b[0m\n\u001b[0;32m   1986\u001b[0m     \u001b[38;5;28;01melse\u001b[39;00m:\n\u001b[1;32m-> 1987\u001b[0m         handle\u001b[38;5;241m.\u001b[39m_run()\n\u001b[0;32m   1988\u001b[0m handle \u001b[38;5;241m=\u001b[39m \u001b[38;5;28;01mNone\u001b[39;00m\n",
      "File \u001b[1;32mc:\\ProgramData\\anaconda3\\Lib\\asyncio\\events.py:88\u001b[0m, in \u001b[0;36m_run\u001b[1;34m()\u001b[0m\n\u001b[0;32m     87\u001b[0m \u001b[38;5;28;01mtry\u001b[39;00m:\n\u001b[1;32m---> 88\u001b[0m     \u001b[38;5;28mself\u001b[39m\u001b[38;5;241m.\u001b[39m_context\u001b[38;5;241m.\u001b[39mrun(\u001b[38;5;28mself\u001b[39m\u001b[38;5;241m.\u001b[39m_callback, \u001b[38;5;241m*\u001b[39m\u001b[38;5;28mself\u001b[39m\u001b[38;5;241m.\u001b[39m_args)\n\u001b[0;32m     89\u001b[0m \u001b[38;5;28;01mexcept\u001b[39;00m (\u001b[38;5;167;01mSystemExit\u001b[39;00m, \u001b[38;5;167;01mKeyboardInterrupt\u001b[39;00m):\n",
      "File \u001b[1;32mc:\\ProgramData\\anaconda3\\Lib\\site-packages\\ipykernel\\kernelbase.py:534\u001b[0m, in \u001b[0;36mdispatch_queue\u001b[1;34m()\u001b[0m\n\u001b[0;32m    533\u001b[0m \u001b[38;5;28;01mtry\u001b[39;00m:\n\u001b[1;32m--> 534\u001b[0m     \u001b[38;5;28;01mawait\u001b[39;00m \u001b[38;5;28mself\u001b[39m\u001b[38;5;241m.\u001b[39mprocess_one()\n\u001b[0;32m    535\u001b[0m \u001b[38;5;28;01mexcept\u001b[39;00m \u001b[38;5;167;01mException\u001b[39;00m:\n",
      "File \u001b[1;32mc:\\ProgramData\\anaconda3\\Lib\\site-packages\\ipykernel\\kernelbase.py:523\u001b[0m, in \u001b[0;36mprocess_one\u001b[1;34m()\u001b[0m\n\u001b[0;32m    522\u001b[0m         \u001b[38;5;28;01mreturn\u001b[39;00m\n\u001b[1;32m--> 523\u001b[0m \u001b[38;5;28;01mawait\u001b[39;00m dispatch(\u001b[38;5;241m*\u001b[39margs)\n",
      "File \u001b[1;32mc:\\ProgramData\\anaconda3\\Lib\\site-packages\\ipykernel\\kernelbase.py:429\u001b[0m, in \u001b[0;36mdispatch_shell\u001b[1;34m()\u001b[0m\n\u001b[0;32m    428\u001b[0m     \u001b[38;5;28;01mif\u001b[39;00m inspect\u001b[38;5;241m.\u001b[39misawaitable(result):\n\u001b[1;32m--> 429\u001b[0m         \u001b[38;5;28;01mawait\u001b[39;00m result\n\u001b[0;32m    430\u001b[0m \u001b[38;5;28;01mexcept\u001b[39;00m \u001b[38;5;167;01mException\u001b[39;00m:\n",
      "File \u001b[1;32mc:\\ProgramData\\anaconda3\\Lib\\site-packages\\ipykernel\\kernelbase.py:767\u001b[0m, in \u001b[0;36mexecute_request\u001b[1;34m()\u001b[0m\n\u001b[0;32m    766\u001b[0m \u001b[38;5;28;01mif\u001b[39;00m inspect\u001b[38;5;241m.\u001b[39misawaitable(reply_content):\n\u001b[1;32m--> 767\u001b[0m     reply_content \u001b[38;5;241m=\u001b[39m \u001b[38;5;28;01mawait\u001b[39;00m reply_content\n\u001b[0;32m    769\u001b[0m \u001b[38;5;66;03m# Flush output before sending the reply.\u001b[39;00m\n",
      "File \u001b[1;32mc:\\ProgramData\\anaconda3\\Lib\\site-packages\\ipykernel\\ipkernel.py:429\u001b[0m, in \u001b[0;36mdo_execute\u001b[1;34m()\u001b[0m\n\u001b[0;32m    428\u001b[0m \u001b[38;5;28;01mif\u001b[39;00m accepts_params[\u001b[38;5;124m\"\u001b[39m\u001b[38;5;124mcell_id\u001b[39m\u001b[38;5;124m\"\u001b[39m]:\n\u001b[1;32m--> 429\u001b[0m     res \u001b[38;5;241m=\u001b[39m shell\u001b[38;5;241m.\u001b[39mrun_cell(\n\u001b[0;32m    430\u001b[0m         code,\n\u001b[0;32m    431\u001b[0m         store_history\u001b[38;5;241m=\u001b[39mstore_history,\n\u001b[0;32m    432\u001b[0m         silent\u001b[38;5;241m=\u001b[39msilent,\n\u001b[0;32m    433\u001b[0m         cell_id\u001b[38;5;241m=\u001b[39mcell_id,\n\u001b[0;32m    434\u001b[0m     )\n\u001b[0;32m    435\u001b[0m \u001b[38;5;28;01melse\u001b[39;00m:\n",
      "File \u001b[1;32mc:\\ProgramData\\anaconda3\\Lib\\site-packages\\ipykernel\\zmqshell.py:549\u001b[0m, in \u001b[0;36mrun_cell\u001b[1;34m()\u001b[0m\n\u001b[0;32m    548\u001b[0m \u001b[38;5;28mself\u001b[39m\u001b[38;5;241m.\u001b[39m_last_traceback \u001b[38;5;241m=\u001b[39m \u001b[38;5;28;01mNone\u001b[39;00m\n\u001b[1;32m--> 549\u001b[0m \u001b[38;5;28;01mreturn\u001b[39;00m \u001b[38;5;28msuper\u001b[39m()\u001b[38;5;241m.\u001b[39mrun_cell(\u001b[38;5;241m*\u001b[39margs, \u001b[38;5;241m*\u001b[39m\u001b[38;5;241m*\u001b[39mkwargs)\n",
      "File \u001b[1;32mc:\\ProgramData\\anaconda3\\Lib\\site-packages\\IPython\\core\\interactiveshell.py:3075\u001b[0m, in \u001b[0;36mrun_cell\u001b[1;34m()\u001b[0m\n\u001b[0;32m   3074\u001b[0m \u001b[38;5;28;01mtry\u001b[39;00m:\n\u001b[1;32m-> 3075\u001b[0m     result \u001b[38;5;241m=\u001b[39m \u001b[38;5;28mself\u001b[39m\u001b[38;5;241m.\u001b[39m_run_cell(\n\u001b[0;32m   3076\u001b[0m         raw_cell, store_history, silent, shell_futures, cell_id\n\u001b[0;32m   3077\u001b[0m     )\n\u001b[0;32m   3078\u001b[0m \u001b[38;5;28;01mfinally\u001b[39;00m:\n",
      "File \u001b[1;32mc:\\ProgramData\\anaconda3\\Lib\\site-packages\\IPython\\core\\interactiveshell.py:3130\u001b[0m, in \u001b[0;36m_run_cell\u001b[1;34m()\u001b[0m\n\u001b[0;32m   3129\u001b[0m \u001b[38;5;28;01mtry\u001b[39;00m:\n\u001b[1;32m-> 3130\u001b[0m     result \u001b[38;5;241m=\u001b[39m runner(coro)\n\u001b[0;32m   3131\u001b[0m \u001b[38;5;28;01mexcept\u001b[39;00m \u001b[38;5;167;01mBaseException\u001b[39;00m \u001b[38;5;28;01mas\u001b[39;00m e:\n",
      "File \u001b[1;32mc:\\ProgramData\\anaconda3\\Lib\\site-packages\\IPython\\core\\async_helpers.py:129\u001b[0m, in \u001b[0;36m_pseudo_sync_runner\u001b[1;34m()\u001b[0m\n\u001b[0;32m    128\u001b[0m \u001b[38;5;28;01mtry\u001b[39;00m:\n\u001b[1;32m--> 129\u001b[0m     coro\u001b[38;5;241m.\u001b[39msend(\u001b[38;5;28;01mNone\u001b[39;00m)\n\u001b[0;32m    130\u001b[0m \u001b[38;5;28;01mexcept\u001b[39;00m \u001b[38;5;167;01mStopIteration\u001b[39;00m \u001b[38;5;28;01mas\u001b[39;00m exc:\n",
      "File \u001b[1;32mc:\\ProgramData\\anaconda3\\Lib\\site-packages\\IPython\\core\\interactiveshell.py:3334\u001b[0m, in \u001b[0;36mrun_cell_async\u001b[1;34m()\u001b[0m\n\u001b[0;32m   3331\u001b[0m interactivity \u001b[38;5;241m=\u001b[39m \u001b[38;5;124m\"\u001b[39m\u001b[38;5;124mnone\u001b[39m\u001b[38;5;124m\"\u001b[39m \u001b[38;5;28;01mif\u001b[39;00m silent \u001b[38;5;28;01melse\u001b[39;00m \u001b[38;5;28mself\u001b[39m\u001b[38;5;241m.\u001b[39mast_node_interactivity\n\u001b[1;32m-> 3334\u001b[0m has_raised \u001b[38;5;241m=\u001b[39m \u001b[38;5;28;01mawait\u001b[39;00m \u001b[38;5;28mself\u001b[39m\u001b[38;5;241m.\u001b[39mrun_ast_nodes(code_ast\u001b[38;5;241m.\u001b[39mbody, cell_name,\n\u001b[0;32m   3335\u001b[0m        interactivity\u001b[38;5;241m=\u001b[39minteractivity, compiler\u001b[38;5;241m=\u001b[39mcompiler, result\u001b[38;5;241m=\u001b[39mresult)\n\u001b[0;32m   3337\u001b[0m \u001b[38;5;28mself\u001b[39m\u001b[38;5;241m.\u001b[39mlast_execution_succeeded \u001b[38;5;241m=\u001b[39m \u001b[38;5;129;01mnot\u001b[39;00m has_raised\n",
      "File \u001b[1;32mc:\\ProgramData\\anaconda3\\Lib\\site-packages\\IPython\\core\\interactiveshell.py:3517\u001b[0m, in \u001b[0;36mrun_ast_nodes\u001b[1;34m()\u001b[0m\n\u001b[0;32m   3516\u001b[0m     asy \u001b[38;5;241m=\u001b[39m compare(code)\n\u001b[1;32m-> 3517\u001b[0m \u001b[38;5;28;01mif\u001b[39;00m \u001b[38;5;28;01mawait\u001b[39;00m \u001b[38;5;28mself\u001b[39m\u001b[38;5;241m.\u001b[39mrun_code(code, result, async_\u001b[38;5;241m=\u001b[39masy):\n\u001b[0;32m   3518\u001b[0m     \u001b[38;5;28;01mreturn\u001b[39;00m \u001b[38;5;28;01mTrue\u001b[39;00m\n",
      "File \u001b[1;32mc:\\ProgramData\\anaconda3\\Lib\\site-packages\\IPython\\core\\interactiveshell.py:3577\u001b[0m, in \u001b[0;36mrun_code\u001b[1;34m()\u001b[0m\n\u001b[0;32m   3576\u001b[0m     \u001b[38;5;28;01melse\u001b[39;00m:\n\u001b[1;32m-> 3577\u001b[0m         exec(code_obj, \u001b[38;5;28mself\u001b[39m\u001b[38;5;241m.\u001b[39muser_global_ns, \u001b[38;5;28mself\u001b[39m\u001b[38;5;241m.\u001b[39muser_ns)\n\u001b[0;32m   3578\u001b[0m \u001b[38;5;28;01mfinally\u001b[39;00m:\n\u001b[0;32m   3579\u001b[0m     \u001b[38;5;66;03m# Reset our crash handler in place\u001b[39;00m\n",
      "Cell \u001b[1;32mIn[20], line 5\u001b[0m\n\u001b[0;32m      3\u001b[0m   \u001b[38;5;28;01mreturn\u001b[39;00m io_callback(host_side_random_like, x, x, ordered\u001b[38;5;241m=\u001b[39m\u001b[38;5;28;01mTrue\u001b[39;00m)\n\u001b[1;32m----> 5\u001b[0m jax\u001b[38;5;241m.\u001b[39mvmap(numpy_random_like_ordered)(x)\n",
      "Cell \u001b[1;32mIn[20], line 3\u001b[0m, in \u001b[0;36mnumpy_random_like_ordered\u001b[1;34m()\u001b[0m\n\u001b[0;32m      1\u001b[0m \u001b[38;5;129m@jax\u001b[39m\u001b[38;5;241m.\u001b[39mjit\n\u001b[0;32m      2\u001b[0m \u001b[38;5;28;01mdef\u001b[39;00m \u001b[38;5;21mnumpy_random_like_ordered\u001b[39m(x):\n\u001b[1;32m----> 3\u001b[0m   \u001b[38;5;28;01mreturn\u001b[39;00m io_callback(host_side_random_like, x, x, ordered\u001b[38;5;241m=\u001b[39m\u001b[38;5;28;01mTrue\u001b[39;00m)\n",
      "File \u001b[1;32m~\\AppData\\Roaming\\Python\\Python312\\site-packages\\jax\\_src\\callback.py:620\u001b[0m, in \u001b[0;36mio_callback\u001b[1;34m()\u001b[0m\n\u001b[0;32m    619\u001b[0m flat_args \u001b[38;5;241m=\u001b[39m \u001b[38;5;28mmap\u001b[39m(core\u001b[38;5;241m.\u001b[39mraise_as_much_as_possible, flat_args)\n\u001b[1;32m--> 620\u001b[0m out_flat \u001b[38;5;241m=\u001b[39m io_callback_p\u001b[38;5;241m.\u001b[39mbind(\n\u001b[0;32m    621\u001b[0m     \u001b[38;5;241m*\u001b[39mflat_args,\n\u001b[0;32m    622\u001b[0m     callback\u001b[38;5;241m=\u001b[39m_FlatCallback(callback, in_tree),\n\u001b[0;32m    623\u001b[0m     result_avals\u001b[38;5;241m=\u001b[39m\u001b[38;5;28mtuple\u001b[39m(flat_result_avals),\n\u001b[0;32m    624\u001b[0m     sharding\u001b[38;5;241m=\u001b[39msharding,\n\u001b[0;32m    625\u001b[0m     ordered\u001b[38;5;241m=\u001b[39mordered,\n\u001b[0;32m    626\u001b[0m )\n\u001b[0;32m    627\u001b[0m \u001b[38;5;28;01mreturn\u001b[39;00m tree_util\u001b[38;5;241m.\u001b[39mtree_unflatten(out_tree, out_flat)\n",
      "\u001b[1;31mJaxStackTraceBeforeTransformation\u001b[0m: ValueError: Cannot `vmap` ordered IO callback.\n\nThe preceding stack trace is the source of the JAX operation that, once transformed by JAX, triggered the following exception.\n\n--------------------",
      "\nThe above exception was the direct cause of the following exception:\n",
      "\u001b[1;31mValueError\u001b[0m                                Traceback (most recent call last)",
      "Cell \u001b[1;32mIn[20], line 5\u001b[0m\n\u001b[0;32m      1\u001b[0m \u001b[38;5;129m@jax\u001b[39m\u001b[38;5;241m.\u001b[39mjit\n\u001b[0;32m      2\u001b[0m \u001b[38;5;28;01mdef\u001b[39;00m \u001b[38;5;21mnumpy_random_like_ordered\u001b[39m(x):\n\u001b[0;32m      3\u001b[0m   \u001b[38;5;28;01mreturn\u001b[39;00m io_callback(host_side_random_like, x, x, ordered\u001b[38;5;241m=\u001b[39m\u001b[38;5;28;01mTrue\u001b[39;00m)\n\u001b[1;32m----> 5\u001b[0m jax\u001b[38;5;241m.\u001b[39mvmap(numpy_random_like_ordered)(x)\n",
      "    \u001b[1;31m[... skipping hidden 21 frame]\u001b[0m\n",
      "File \u001b[1;32m~\\AppData\\Roaming\\Python\\Python312\\site-packages\\jax\\_src\\callback.py:521\u001b[0m, in \u001b[0;36mio_callback_batching_rule\u001b[1;34m(args, dims, callback, result_avals, sharding, ordered)\u001b[0m\n\u001b[0;32m    517\u001b[0m \u001b[38;5;28;01mdef\u001b[39;00m \u001b[38;5;21mio_callback_batching_rule\u001b[39m(\n\u001b[0;32m    518\u001b[0m     args, dims, callback, result_avals, sharding, ordered\n\u001b[0;32m    519\u001b[0m ):\n\u001b[0;32m    520\u001b[0m   \u001b[38;5;28;01mif\u001b[39;00m ordered:\n\u001b[1;32m--> 521\u001b[0m     \u001b[38;5;28;01mraise\u001b[39;00m \u001b[38;5;167;01mValueError\u001b[39;00m(\u001b[38;5;124m\"\u001b[39m\u001b[38;5;124mCannot `vmap` ordered IO callback.\u001b[39m\u001b[38;5;124m\"\u001b[39m)\n\u001b[0;32m    522\u001b[0m   is_batched \u001b[38;5;241m=\u001b[39m [d \u001b[38;5;129;01mis\u001b[39;00m \u001b[38;5;129;01mnot\u001b[39;00m batching\u001b[38;5;241m.\u001b[39mnot_mapped \u001b[38;5;28;01mfor\u001b[39;00m d \u001b[38;5;129;01min\u001b[39;00m dims]\n\u001b[0;32m    523\u001b[0m   new_args \u001b[38;5;241m=\u001b[39m [arg \u001b[38;5;28;01mif\u001b[39;00m dim \u001b[38;5;129;01mis\u001b[39;00m batching\u001b[38;5;241m.\u001b[39mnot_mapped \u001b[38;5;28;01melse\u001b[39;00m\n\u001b[0;32m    524\u001b[0m               batching\u001b[38;5;241m.\u001b[39mmoveaxis(arg, dim, \u001b[38;5;241m0\u001b[39m) \u001b[38;5;28;01mfor\u001b[39;00m arg, dim \u001b[38;5;129;01min\u001b[39;00m \u001b[38;5;28mzip\u001b[39m(args, dims)]\n",
      "\u001b[1;31mValueError\u001b[0m: Cannot `vmap` ordered IO callback."
     ]
    }
   ],
   "source": [
    "@jax.jit\n",
    "def numpy_random_like_ordered(x):\n",
    "  return io_callback(host_side_random_like, x, x, ordered=True)\n",
    "\n",
    "jax.vmap(numpy_random_like_ordered)(x)"
   ]
  },
  {
   "cell_type": "code",
   "execution_count": 21,
   "metadata": {},
   "outputs": [
    {
     "name": "stdout",
     "output_type": "stream",
     "text": [
      "generating float32[]\n",
      "generating float32[]\n",
      "generating float32[]\n",
      "generating float32[]\n",
      "generating float32[]\n"
     ]
    },
    {
     "data": {
      "text/plain": [
       "Array([0.81585354, 0.0027385 , 0.8574043 , 0.03358557, 0.72965544],      dtype=float32)"
      ]
     },
     "execution_count": 21,
     "metadata": {},
     "output_type": "execute_result"
    }
   ],
   "source": [
    "def body_fun(_, x):\n",
    "  return _, numpy_random_like_ordered(x)\n",
    "jax.lax.scan(body_fun, None, jnp.arange(5.0))[1]"
   ]
  },
  {
   "cell_type": "code",
   "execution_count": 22,
   "metadata": {},
   "outputs": [
    {
     "ename": "ValueError",
     "evalue": "IO callbacks do not support JVP.",
     "output_type": "error",
     "traceback": [
      "\u001b[1;31m---------------------------------------------------------------------------\u001b[0m",
      "\u001b[1;31mJaxStackTraceBeforeTransformation\u001b[0m         Traceback (most recent call last)",
      "File \u001b[1;32m<frozen runpy>:198\u001b[0m, in \u001b[0;36m_run_module_as_main\u001b[1;34m()\u001b[0m\n",
      "File \u001b[1;32m<frozen runpy>:88\u001b[0m, in \u001b[0;36m_run_code\u001b[1;34m()\u001b[0m\n",
      "File \u001b[1;32mc:\\ProgramData\\anaconda3\\Lib\\site-packages\\ipykernel_launcher.py:17\u001b[0m\n\u001b[0;32m     15\u001b[0m \u001b[38;5;28;01mfrom\u001b[39;00m \u001b[38;5;21;01mipykernel\u001b[39;00m \u001b[38;5;28;01mimport\u001b[39;00m kernelapp \u001b[38;5;28;01mas\u001b[39;00m app\n\u001b[1;32m---> 17\u001b[0m app\u001b[38;5;241m.\u001b[39mlaunch_new_instance()\n",
      "File \u001b[1;32mc:\\ProgramData\\anaconda3\\Lib\\site-packages\\traitlets\\config\\application.py:1075\u001b[0m, in \u001b[0;36mlaunch_instance\u001b[1;34m()\u001b[0m\n\u001b[0;32m   1074\u001b[0m app\u001b[38;5;241m.\u001b[39minitialize(argv)\n\u001b[1;32m-> 1075\u001b[0m app\u001b[38;5;241m.\u001b[39mstart()\n",
      "File \u001b[1;32mc:\\ProgramData\\anaconda3\\Lib\\site-packages\\ipykernel\\kernelapp.py:701\u001b[0m, in \u001b[0;36mstart\u001b[1;34m()\u001b[0m\n\u001b[0;32m    700\u001b[0m \u001b[38;5;28;01mtry\u001b[39;00m:\n\u001b[1;32m--> 701\u001b[0m     \u001b[38;5;28mself\u001b[39m\u001b[38;5;241m.\u001b[39mio_loop\u001b[38;5;241m.\u001b[39mstart()\n\u001b[0;32m    702\u001b[0m \u001b[38;5;28;01mexcept\u001b[39;00m \u001b[38;5;167;01mKeyboardInterrupt\u001b[39;00m:\n",
      "File \u001b[1;32mc:\\ProgramData\\anaconda3\\Lib\\site-packages\\tornado\\platform\\asyncio.py:205\u001b[0m, in \u001b[0;36mstart\u001b[1;34m()\u001b[0m\n\u001b[0;32m    204\u001b[0m \u001b[38;5;28;01mdef\u001b[39;00m \u001b[38;5;21mstart\u001b[39m(\u001b[38;5;28mself\u001b[39m) \u001b[38;5;241m-\u001b[39m\u001b[38;5;241m>\u001b[39m \u001b[38;5;28;01mNone\u001b[39;00m:\n\u001b[1;32m--> 205\u001b[0m     \u001b[38;5;28mself\u001b[39m\u001b[38;5;241m.\u001b[39masyncio_loop\u001b[38;5;241m.\u001b[39mrun_forever()\n",
      "File \u001b[1;32mc:\\ProgramData\\anaconda3\\Lib\\asyncio\\windows_events.py:322\u001b[0m, in \u001b[0;36mrun_forever\u001b[1;34m()\u001b[0m\n\u001b[0;32m    321\u001b[0m     \u001b[38;5;28mself\u001b[39m\u001b[38;5;241m.\u001b[39mcall_soon(\u001b[38;5;28mself\u001b[39m\u001b[38;5;241m.\u001b[39m_loop_self_reading)\n\u001b[1;32m--> 322\u001b[0m     \u001b[38;5;28msuper\u001b[39m()\u001b[38;5;241m.\u001b[39mrun_forever()\n\u001b[0;32m    323\u001b[0m \u001b[38;5;28;01mfinally\u001b[39;00m:\n",
      "File \u001b[1;32mc:\\ProgramData\\anaconda3\\Lib\\asyncio\\base_events.py:641\u001b[0m, in \u001b[0;36mrun_forever\u001b[1;34m()\u001b[0m\n\u001b[0;32m    640\u001b[0m \u001b[38;5;28;01mwhile\u001b[39;00m \u001b[38;5;28;01mTrue\u001b[39;00m:\n\u001b[1;32m--> 641\u001b[0m     \u001b[38;5;28mself\u001b[39m\u001b[38;5;241m.\u001b[39m_run_once()\n\u001b[0;32m    642\u001b[0m     \u001b[38;5;28;01mif\u001b[39;00m \u001b[38;5;28mself\u001b[39m\u001b[38;5;241m.\u001b[39m_stopping:\n",
      "File \u001b[1;32mc:\\ProgramData\\anaconda3\\Lib\\asyncio\\base_events.py:1987\u001b[0m, in \u001b[0;36m_run_once\u001b[1;34m()\u001b[0m\n\u001b[0;32m   1986\u001b[0m     \u001b[38;5;28;01melse\u001b[39;00m:\n\u001b[1;32m-> 1987\u001b[0m         handle\u001b[38;5;241m.\u001b[39m_run()\n\u001b[0;32m   1988\u001b[0m handle \u001b[38;5;241m=\u001b[39m \u001b[38;5;28;01mNone\u001b[39;00m\n",
      "File \u001b[1;32mc:\\ProgramData\\anaconda3\\Lib\\asyncio\\events.py:88\u001b[0m, in \u001b[0;36m_run\u001b[1;34m()\u001b[0m\n\u001b[0;32m     87\u001b[0m \u001b[38;5;28;01mtry\u001b[39;00m:\n\u001b[1;32m---> 88\u001b[0m     \u001b[38;5;28mself\u001b[39m\u001b[38;5;241m.\u001b[39m_context\u001b[38;5;241m.\u001b[39mrun(\u001b[38;5;28mself\u001b[39m\u001b[38;5;241m.\u001b[39m_callback, \u001b[38;5;241m*\u001b[39m\u001b[38;5;28mself\u001b[39m\u001b[38;5;241m.\u001b[39m_args)\n\u001b[0;32m     89\u001b[0m \u001b[38;5;28;01mexcept\u001b[39;00m (\u001b[38;5;167;01mSystemExit\u001b[39;00m, \u001b[38;5;167;01mKeyboardInterrupt\u001b[39;00m):\n",
      "File \u001b[1;32mc:\\ProgramData\\anaconda3\\Lib\\site-packages\\ipykernel\\kernelbase.py:534\u001b[0m, in \u001b[0;36mdispatch_queue\u001b[1;34m()\u001b[0m\n\u001b[0;32m    533\u001b[0m \u001b[38;5;28;01mtry\u001b[39;00m:\n\u001b[1;32m--> 534\u001b[0m     \u001b[38;5;28;01mawait\u001b[39;00m \u001b[38;5;28mself\u001b[39m\u001b[38;5;241m.\u001b[39mprocess_one()\n\u001b[0;32m    535\u001b[0m \u001b[38;5;28;01mexcept\u001b[39;00m \u001b[38;5;167;01mException\u001b[39;00m:\n",
      "File \u001b[1;32mc:\\ProgramData\\anaconda3\\Lib\\site-packages\\ipykernel\\kernelbase.py:523\u001b[0m, in \u001b[0;36mprocess_one\u001b[1;34m()\u001b[0m\n\u001b[0;32m    522\u001b[0m         \u001b[38;5;28;01mreturn\u001b[39;00m\n\u001b[1;32m--> 523\u001b[0m \u001b[38;5;28;01mawait\u001b[39;00m dispatch(\u001b[38;5;241m*\u001b[39margs)\n",
      "File \u001b[1;32mc:\\ProgramData\\anaconda3\\Lib\\site-packages\\ipykernel\\kernelbase.py:429\u001b[0m, in \u001b[0;36mdispatch_shell\u001b[1;34m()\u001b[0m\n\u001b[0;32m    428\u001b[0m     \u001b[38;5;28;01mif\u001b[39;00m inspect\u001b[38;5;241m.\u001b[39misawaitable(result):\n\u001b[1;32m--> 429\u001b[0m         \u001b[38;5;28;01mawait\u001b[39;00m result\n\u001b[0;32m    430\u001b[0m \u001b[38;5;28;01mexcept\u001b[39;00m \u001b[38;5;167;01mException\u001b[39;00m:\n",
      "File \u001b[1;32mc:\\ProgramData\\anaconda3\\Lib\\site-packages\\ipykernel\\kernelbase.py:767\u001b[0m, in \u001b[0;36mexecute_request\u001b[1;34m()\u001b[0m\n\u001b[0;32m    766\u001b[0m \u001b[38;5;28;01mif\u001b[39;00m inspect\u001b[38;5;241m.\u001b[39misawaitable(reply_content):\n\u001b[1;32m--> 767\u001b[0m     reply_content \u001b[38;5;241m=\u001b[39m \u001b[38;5;28;01mawait\u001b[39;00m reply_content\n\u001b[0;32m    769\u001b[0m \u001b[38;5;66;03m# Flush output before sending the reply.\u001b[39;00m\n",
      "File \u001b[1;32mc:\\ProgramData\\anaconda3\\Lib\\site-packages\\ipykernel\\ipkernel.py:429\u001b[0m, in \u001b[0;36mdo_execute\u001b[1;34m()\u001b[0m\n\u001b[0;32m    428\u001b[0m \u001b[38;5;28;01mif\u001b[39;00m accepts_params[\u001b[38;5;124m\"\u001b[39m\u001b[38;5;124mcell_id\u001b[39m\u001b[38;5;124m\"\u001b[39m]:\n\u001b[1;32m--> 429\u001b[0m     res \u001b[38;5;241m=\u001b[39m shell\u001b[38;5;241m.\u001b[39mrun_cell(\n\u001b[0;32m    430\u001b[0m         code,\n\u001b[0;32m    431\u001b[0m         store_history\u001b[38;5;241m=\u001b[39mstore_history,\n\u001b[0;32m    432\u001b[0m         silent\u001b[38;5;241m=\u001b[39msilent,\n\u001b[0;32m    433\u001b[0m         cell_id\u001b[38;5;241m=\u001b[39mcell_id,\n\u001b[0;32m    434\u001b[0m     )\n\u001b[0;32m    435\u001b[0m \u001b[38;5;28;01melse\u001b[39;00m:\n",
      "File \u001b[1;32mc:\\ProgramData\\anaconda3\\Lib\\site-packages\\ipykernel\\zmqshell.py:549\u001b[0m, in \u001b[0;36mrun_cell\u001b[1;34m()\u001b[0m\n\u001b[0;32m    548\u001b[0m \u001b[38;5;28mself\u001b[39m\u001b[38;5;241m.\u001b[39m_last_traceback \u001b[38;5;241m=\u001b[39m \u001b[38;5;28;01mNone\u001b[39;00m\n\u001b[1;32m--> 549\u001b[0m \u001b[38;5;28;01mreturn\u001b[39;00m \u001b[38;5;28msuper\u001b[39m()\u001b[38;5;241m.\u001b[39mrun_cell(\u001b[38;5;241m*\u001b[39margs, \u001b[38;5;241m*\u001b[39m\u001b[38;5;241m*\u001b[39mkwargs)\n",
      "File \u001b[1;32mc:\\ProgramData\\anaconda3\\Lib\\site-packages\\IPython\\core\\interactiveshell.py:3075\u001b[0m, in \u001b[0;36mrun_cell\u001b[1;34m()\u001b[0m\n\u001b[0;32m   3074\u001b[0m \u001b[38;5;28;01mtry\u001b[39;00m:\n\u001b[1;32m-> 3075\u001b[0m     result \u001b[38;5;241m=\u001b[39m \u001b[38;5;28mself\u001b[39m\u001b[38;5;241m.\u001b[39m_run_cell(\n\u001b[0;32m   3076\u001b[0m         raw_cell, store_history, silent, shell_futures, cell_id\n\u001b[0;32m   3077\u001b[0m     )\n\u001b[0;32m   3078\u001b[0m \u001b[38;5;28;01mfinally\u001b[39;00m:\n",
      "File \u001b[1;32mc:\\ProgramData\\anaconda3\\Lib\\site-packages\\IPython\\core\\interactiveshell.py:3130\u001b[0m, in \u001b[0;36m_run_cell\u001b[1;34m()\u001b[0m\n\u001b[0;32m   3129\u001b[0m \u001b[38;5;28;01mtry\u001b[39;00m:\n\u001b[1;32m-> 3130\u001b[0m     result \u001b[38;5;241m=\u001b[39m runner(coro)\n\u001b[0;32m   3131\u001b[0m \u001b[38;5;28;01mexcept\u001b[39;00m \u001b[38;5;167;01mBaseException\u001b[39;00m \u001b[38;5;28;01mas\u001b[39;00m e:\n",
      "File \u001b[1;32mc:\\ProgramData\\anaconda3\\Lib\\site-packages\\IPython\\core\\async_helpers.py:129\u001b[0m, in \u001b[0;36m_pseudo_sync_runner\u001b[1;34m()\u001b[0m\n\u001b[0;32m    128\u001b[0m \u001b[38;5;28;01mtry\u001b[39;00m:\n\u001b[1;32m--> 129\u001b[0m     coro\u001b[38;5;241m.\u001b[39msend(\u001b[38;5;28;01mNone\u001b[39;00m)\n\u001b[0;32m    130\u001b[0m \u001b[38;5;28;01mexcept\u001b[39;00m \u001b[38;5;167;01mStopIteration\u001b[39;00m \u001b[38;5;28;01mas\u001b[39;00m exc:\n",
      "File \u001b[1;32mc:\\ProgramData\\anaconda3\\Lib\\site-packages\\IPython\\core\\interactiveshell.py:3334\u001b[0m, in \u001b[0;36mrun_cell_async\u001b[1;34m()\u001b[0m\n\u001b[0;32m   3331\u001b[0m interactivity \u001b[38;5;241m=\u001b[39m \u001b[38;5;124m\"\u001b[39m\u001b[38;5;124mnone\u001b[39m\u001b[38;5;124m\"\u001b[39m \u001b[38;5;28;01mif\u001b[39;00m silent \u001b[38;5;28;01melse\u001b[39;00m \u001b[38;5;28mself\u001b[39m\u001b[38;5;241m.\u001b[39mast_node_interactivity\n\u001b[1;32m-> 3334\u001b[0m has_raised \u001b[38;5;241m=\u001b[39m \u001b[38;5;28;01mawait\u001b[39;00m \u001b[38;5;28mself\u001b[39m\u001b[38;5;241m.\u001b[39mrun_ast_nodes(code_ast\u001b[38;5;241m.\u001b[39mbody, cell_name,\n\u001b[0;32m   3335\u001b[0m        interactivity\u001b[38;5;241m=\u001b[39minteractivity, compiler\u001b[38;5;241m=\u001b[39mcompiler, result\u001b[38;5;241m=\u001b[39mresult)\n\u001b[0;32m   3337\u001b[0m \u001b[38;5;28mself\u001b[39m\u001b[38;5;241m.\u001b[39mlast_execution_succeeded \u001b[38;5;241m=\u001b[39m \u001b[38;5;129;01mnot\u001b[39;00m has_raised\n",
      "File \u001b[1;32mc:\\ProgramData\\anaconda3\\Lib\\site-packages\\IPython\\core\\interactiveshell.py:3517\u001b[0m, in \u001b[0;36mrun_ast_nodes\u001b[1;34m()\u001b[0m\n\u001b[0;32m   3516\u001b[0m     asy \u001b[38;5;241m=\u001b[39m compare(code)\n\u001b[1;32m-> 3517\u001b[0m \u001b[38;5;28;01mif\u001b[39;00m \u001b[38;5;28;01mawait\u001b[39;00m \u001b[38;5;28mself\u001b[39m\u001b[38;5;241m.\u001b[39mrun_code(code, result, async_\u001b[38;5;241m=\u001b[39masy):\n\u001b[0;32m   3518\u001b[0m     \u001b[38;5;28;01mreturn\u001b[39;00m \u001b[38;5;28;01mTrue\u001b[39;00m\n",
      "File \u001b[1;32mc:\\ProgramData\\anaconda3\\Lib\\site-packages\\IPython\\core\\interactiveshell.py:3577\u001b[0m, in \u001b[0;36mrun_code\u001b[1;34m()\u001b[0m\n\u001b[0;32m   3576\u001b[0m     \u001b[38;5;28;01melse\u001b[39;00m:\n\u001b[1;32m-> 3577\u001b[0m         exec(code_obj, \u001b[38;5;28mself\u001b[39m\u001b[38;5;241m.\u001b[39muser_global_ns, \u001b[38;5;28mself\u001b[39m\u001b[38;5;241m.\u001b[39muser_ns)\n\u001b[0;32m   3578\u001b[0m \u001b[38;5;28;01mfinally\u001b[39;00m:\n\u001b[0;32m   3579\u001b[0m     \u001b[38;5;66;03m# Reset our crash handler in place\u001b[39;00m\n",
      "Cell \u001b[1;32mIn[18], line 19\u001b[0m\n\u001b[0;32m     18\u001b[0m x \u001b[38;5;241m=\u001b[39m jnp\u001b[38;5;241m.\u001b[39mzeros(\u001b[38;5;241m5\u001b[39m)\n\u001b[1;32m---> 19\u001b[0m numpy_random_like(x)\n",
      "Cell \u001b[1;32mIn[18], line 16\u001b[0m, in \u001b[0;36mnumpy_random_like\u001b[1;34m()\u001b[0m\n\u001b[0;32m     14\u001b[0m \u001b[38;5;129m@jax\u001b[39m\u001b[38;5;241m.\u001b[39mjit\n\u001b[0;32m     15\u001b[0m \u001b[38;5;28;01mdef\u001b[39;00m \u001b[38;5;21mnumpy_random_like\u001b[39m(x):\n\u001b[1;32m---> 16\u001b[0m   \u001b[38;5;28;01mreturn\u001b[39;00m io_callback(host_side_random_like, x, x)\n",
      "File \u001b[1;32m~\\AppData\\Roaming\\Python\\Python312\\site-packages\\jax\\_src\\callback.py:620\u001b[0m, in \u001b[0;36mio_callback\u001b[1;34m()\u001b[0m\n\u001b[0;32m    619\u001b[0m flat_args \u001b[38;5;241m=\u001b[39m \u001b[38;5;28mmap\u001b[39m(core\u001b[38;5;241m.\u001b[39mraise_as_much_as_possible, flat_args)\n\u001b[1;32m--> 620\u001b[0m out_flat \u001b[38;5;241m=\u001b[39m io_callback_p\u001b[38;5;241m.\u001b[39mbind(\n\u001b[0;32m    621\u001b[0m     \u001b[38;5;241m*\u001b[39mflat_args,\n\u001b[0;32m    622\u001b[0m     callback\u001b[38;5;241m=\u001b[39m_FlatCallback(callback, in_tree),\n\u001b[0;32m    623\u001b[0m     result_avals\u001b[38;5;241m=\u001b[39m\u001b[38;5;28mtuple\u001b[39m(flat_result_avals),\n\u001b[0;32m    624\u001b[0m     sharding\u001b[38;5;241m=\u001b[39msharding,\n\u001b[0;32m    625\u001b[0m     ordered\u001b[38;5;241m=\u001b[39mordered,\n\u001b[0;32m    626\u001b[0m )\n\u001b[0;32m    627\u001b[0m \u001b[38;5;28;01mreturn\u001b[39;00m tree_util\u001b[38;5;241m.\u001b[39mtree_unflatten(out_tree, out_flat)\n",
      "\u001b[1;31mJaxStackTraceBeforeTransformation\u001b[0m: ValueError: IO callbacks do not support JVP.\n\nThe preceding stack trace is the source of the JAX operation that, once transformed by JAX, triggered the following exception.\n\n--------------------",
      "\nThe above exception was the direct cause of the following exception:\n",
      "\u001b[1;31mValueError\u001b[0m                                Traceback (most recent call last)",
      "Cell \u001b[1;32mIn[22], line 1\u001b[0m\n\u001b[1;32m----> 1\u001b[0m jax\u001b[38;5;241m.\u001b[39mgrad(numpy_random_like)(x)\n",
      "    \u001b[1;31m[... skipping hidden 28 frame]\u001b[0m\n",
      "File \u001b[1;32m~\\AppData\\Roaming\\Python\\Python312\\site-packages\\jax\\_src\\callback.py:507\u001b[0m, in \u001b[0;36mio_callback_jvp_rule\u001b[1;34m(***failed resolving arguments***)\u001b[0m\n\u001b[0;32m    505\u001b[0m \u001b[38;5;28;01mdef\u001b[39;00m \u001b[38;5;21mio_callback_jvp_rule\u001b[39m(\u001b[38;5;241m*\u001b[39margs, \u001b[38;5;241m*\u001b[39m\u001b[38;5;241m*\u001b[39mkwargs):\n\u001b[0;32m    506\u001b[0m   \u001b[38;5;28;01mdel\u001b[39;00m args, kwargs\n\u001b[1;32m--> 507\u001b[0m   \u001b[38;5;28;01mraise\u001b[39;00m \u001b[38;5;167;01mValueError\u001b[39;00m(\u001b[38;5;124m\"\u001b[39m\u001b[38;5;124mIO callbacks do not support JVP.\u001b[39m\u001b[38;5;124m\"\u001b[39m)\n",
      "\u001b[1;31mValueError\u001b[0m: IO callbacks do not support JVP."
     ]
    }
   ],
   "source": [
    "jax.grad(numpy_random_like)(x)"
   ]
  },
  {
   "cell_type": "code",
   "execution_count": 23,
   "metadata": {},
   "outputs": [
    {
     "name": "stdout",
     "output_type": "stream",
     "text": [
      "hello\n"
     ]
    }
   ],
   "source": [
    "@jax.jit\n",
    "def f(x):\n",
    "  io_callback(lambda: print('hello'), None)\n",
    "  return x\n",
    "\n",
    "jax.grad(f)(1.0);"
   ]
  },
  {
   "cell_type": "markdown",
   "metadata": {},
   "source": [
    "## Exploring debug.callback\n",
    "Both `pure_callback` and `io_callback` enforce some assumptions about the purity of the function they’re calling, and limit in various ways what JAX transforms and compilation machinery may do. `debug.callback` essentially assumes nothing about the callback function, such that the action of the callback reflects exactly what JAX is doing during the course of a program. Further, `debug.callback` cannot return any value to the program."
   ]
  },
  {
   "cell_type": "code",
   "execution_count": 24,
   "metadata": {},
   "outputs": [
    {
     "name": "stdout",
     "output_type": "stream",
     "text": [
      "log: 1.0\n"
     ]
    }
   ],
   "source": [
    "from jax import debug\n",
    "\n",
    "def log_value(x):\n",
    "  # This could be an actual logging call; we'll use\n",
    "  # print() for demonstration\n",
    "  print(\"log:\", x)\n",
    "\n",
    "@jax.jit\n",
    "def f(x):\n",
    "  debug.callback(log_value, x)\n",
    "  return x\n",
    "\n",
    "f(1.0);"
   ]
  },
  {
   "cell_type": "code",
   "execution_count": 25,
   "metadata": {},
   "outputs": [
    {
     "name": "stdout",
     "output_type": "stream",
     "text": [
      "log: 0.0\n",
      "log: 1.0\n",
      "log: 2.0\n",
      "log: 3.0\n",
      "log: 4.0\n"
     ]
    }
   ],
   "source": [
    "x = jnp.arange(5.0)\n",
    "jax.vmap(f)(x);"
   ]
  },
  {
   "cell_type": "code",
   "execution_count": 26,
   "metadata": {},
   "outputs": [
    {
     "name": "stdout",
     "output_type": "stream",
     "text": [
      "log: 1.0\n"
     ]
    }
   ],
   "source": [
    "jax.grad(f)(1.0);"
   ]
  },
  {
   "cell_type": "code",
   "execution_count": 27,
   "metadata": {},
   "outputs": [],
   "source": [
    "import jax\n",
    "import jax.numpy as jnp\n",
    "import scipy.special\n",
    "\n",
    "def jv(v, z):\n",
    "  v, z = jnp.asarray(v), jnp.asarray(z)\n",
    "\n",
    "  # Require the order v to be integer type: this simplifies\n",
    "  # the JVP rule below.\n",
    "  assert jnp.issubdtype(v.dtype, jnp.integer)\n",
    "\n",
    "  # Promote the input to inexact (float/complex).\n",
    "  # Note that jnp.result_type() accounts for the enable_x64 flag.\n",
    "  z = z.astype(jnp.result_type(float, z.dtype))\n",
    "\n",
    "  # Wrap scipy function to return the expected dtype.\n",
    "  _scipy_jv = lambda v, z: scipy.special.jv(v, z).astype(z.dtype)\n",
    "\n",
    "  # Define the expected shape & dtype of output.\n",
    "  result_shape_dtype = jax.ShapeDtypeStruct(\n",
    "      shape=jnp.broadcast_shapes(v.shape, z.shape),\n",
    "      dtype=z.dtype)\n",
    "\n",
    "  # You use vectorize=True because scipy.special.jv handles broadcasted inputs.\n",
    "  return jax.pure_callback(_scipy_jv, result_shape_dtype, v, z, vectorized=True)"
   ]
  },
  {
   "cell_type": "code",
   "execution_count": 28,
   "metadata": {},
   "outputs": [],
   "source": [
    "from functools import partial\n",
    "j1 = partial(jv, 1)\n",
    "z = jnp.arange(5.0)"
   ]
  },
  {
   "cell_type": "code",
   "execution_count": 29,
   "metadata": {},
   "outputs": [
    {
     "name": "stdout",
     "output_type": "stream",
     "text": [
      "[ 0.          0.44005057  0.5767248   0.33905897 -0.06604332]\n"
     ]
    },
    {
     "name": "stderr",
     "output_type": "stream",
     "text": [
      "C:\\Users\\devanshu.tayal\\AppData\\Local\\Temp\\ipykernel_5572\\2939642295.py:25: DeprecationWarning: The vectorized argument of jax.pure_callback is deprecated and setting it will soon raise an error. To avoid an error in the future, and to suppress this warning, please use the vmap_method argument instead.\n",
      "  return jax.pure_callback(_scipy_jv, result_shape_dtype, v, z, vectorized=True)\n"
     ]
    }
   ],
   "source": [
    "print(j1(z))"
   ]
  },
  {
   "cell_type": "code",
   "execution_count": 30,
   "metadata": {},
   "outputs": [
    {
     "name": "stdout",
     "output_type": "stream",
     "text": [
      "[ 0.          0.44005057  0.5767248   0.33905897 -0.06604332]\n"
     ]
    },
    {
     "name": "stderr",
     "output_type": "stream",
     "text": [
      "C:\\Users\\devanshu.tayal\\AppData\\Local\\Temp\\ipykernel_5572\\2939642295.py:25: DeprecationWarning: The vectorized argument of jax.pure_callback is deprecated and setting it will soon raise an error. To avoid an error in the future, and to suppress this warning, please use the vmap_method argument instead.\n",
      "  return jax.pure_callback(_scipy_jv, result_shape_dtype, v, z, vectorized=True)\n"
     ]
    }
   ],
   "source": [
    "print(jax.jit(j1)(z))"
   ]
  },
  {
   "cell_type": "code",
   "execution_count": 31,
   "metadata": {},
   "outputs": [
    {
     "name": "stdout",
     "output_type": "stream",
     "text": [
      "[ 0.          0.44005057  0.5767248   0.33905897 -0.06604332]\n"
     ]
    },
    {
     "name": "stderr",
     "output_type": "stream",
     "text": [
      "C:\\Users\\devanshu.tayal\\AppData\\Local\\Temp\\ipykernel_5572\\2939642295.py:25: DeprecationWarning: The vectorized argument of jax.pure_callback is deprecated and setting it will soon raise an error. To avoid an error in the future, and to suppress this warning, please use the vmap_method argument instead.\n",
      "  return jax.pure_callback(_scipy_jv, result_shape_dtype, v, z, vectorized=True)\n"
     ]
    }
   ],
   "source": [
    "print(jax.vmap(j1)(z))"
   ]
  },
  {
   "cell_type": "code",
   "execution_count": 32,
   "metadata": {},
   "outputs": [
    {
     "name": "stderr",
     "output_type": "stream",
     "text": [
      "C:\\Users\\devanshu.tayal\\AppData\\Local\\Temp\\ipykernel_5572\\2939642295.py:25: DeprecationWarning: The vectorized argument of jax.pure_callback is deprecated and setting it will soon raise an error. To avoid an error in the future, and to suppress this warning, please use the vmap_method argument instead.\n",
      "  return jax.pure_callback(_scipy_jv, result_shape_dtype, v, z, vectorized=True)\n"
     ]
    },
    {
     "ename": "ValueError",
     "evalue": "Pure callbacks do not support JVP. Please use `jax.custom_jvp` to use callbacks while taking gradients.",
     "output_type": "error",
     "traceback": [
      "\u001b[1;31m---------------------------------------------------------------------------\u001b[0m",
      "\u001b[1;31mValueError\u001b[0m                                Traceback (most recent call last)",
      "Cell \u001b[1;32mIn[32], line 1\u001b[0m\n\u001b[1;32m----> 1\u001b[0m jax\u001b[38;5;241m.\u001b[39mgrad(j1)(z)\n",
      "    \u001b[1;31m[... skipping hidden 10 frame]\u001b[0m\n",
      "Cell \u001b[1;32mIn[27], line 25\u001b[0m, in \u001b[0;36mjv\u001b[1;34m(v, z)\u001b[0m\n\u001b[0;32m     20\u001b[0m result_shape_dtype \u001b[38;5;241m=\u001b[39m jax\u001b[38;5;241m.\u001b[39mShapeDtypeStruct(\n\u001b[0;32m     21\u001b[0m     shape\u001b[38;5;241m=\u001b[39mjnp\u001b[38;5;241m.\u001b[39mbroadcast_shapes(v\u001b[38;5;241m.\u001b[39mshape, z\u001b[38;5;241m.\u001b[39mshape),\n\u001b[0;32m     22\u001b[0m     dtype\u001b[38;5;241m=\u001b[39mz\u001b[38;5;241m.\u001b[39mdtype)\n\u001b[0;32m     24\u001b[0m \u001b[38;5;66;03m# You use vectorize=True because scipy.special.jv handles broadcasted inputs.\u001b[39;00m\n\u001b[1;32m---> 25\u001b[0m \u001b[38;5;28;01mreturn\u001b[39;00m jax\u001b[38;5;241m.\u001b[39mpure_callback(_scipy_jv, result_shape_dtype, v, z, vectorized\u001b[38;5;241m=\u001b[39m\u001b[38;5;28;01mTrue\u001b[39;00m)\n",
      "File \u001b[1;32m~\\AppData\\Roaming\\Python\\Python312\\site-packages\\jax\\_src\\callback.py:430\u001b[0m, in \u001b[0;36mpure_callback\u001b[1;34m(callback, result_shape_dtypes, sharding, vectorized, vmap_method, *args, **kwargs)\u001b[0m\n\u001b[0;32m    427\u001b[0m result_avals \u001b[38;5;241m=\u001b[39m tree_util\u001b[38;5;241m.\u001b[39mtree_map(\n\u001b[0;32m    428\u001b[0m     \u001b[38;5;28;01mlambda\u001b[39;00m x: core\u001b[38;5;241m.\u001b[39mShapedArray(x\u001b[38;5;241m.\u001b[39mshape, x\u001b[38;5;241m.\u001b[39mdtype), result_shape_dtypes)\n\u001b[0;32m    429\u001b[0m flat_result_avals, out_tree \u001b[38;5;241m=\u001b[39m tree_util\u001b[38;5;241m.\u001b[39mtree_flatten(result_avals)\n\u001b[1;32m--> 430\u001b[0m out_flat \u001b[38;5;241m=\u001b[39m pure_callback_p\u001b[38;5;241m.\u001b[39mbind(\n\u001b[0;32m    431\u001b[0m     \u001b[38;5;241m*\u001b[39mflat_args,\n\u001b[0;32m    432\u001b[0m     callback\u001b[38;5;241m=\u001b[39m_FlatCallback(callback, in_tree),\n\u001b[0;32m    433\u001b[0m     result_avals\u001b[38;5;241m=\u001b[39m\u001b[38;5;28mtuple\u001b[39m(flat_result_avals),\n\u001b[0;32m    434\u001b[0m     sharding\u001b[38;5;241m=\u001b[39msharding,\n\u001b[0;32m    435\u001b[0m     vectorized\u001b[38;5;241m=\u001b[39mvectorized,\n\u001b[0;32m    436\u001b[0m     vmap_method\u001b[38;5;241m=\u001b[39mvmap_method,\n\u001b[0;32m    437\u001b[0m )\n\u001b[0;32m    438\u001b[0m \u001b[38;5;28;01mreturn\u001b[39;00m tree_util\u001b[38;5;241m.\u001b[39mtree_unflatten(out_tree, out_flat)\n",
      "    \u001b[1;31m[... skipping hidden 3 frame]\u001b[0m\n",
      "File \u001b[1;32m~\\AppData\\Roaming\\Python\\Python312\\site-packages\\jax\\_src\\callback.py:119\u001b[0m, in \u001b[0;36mpure_callback_jvp_rule\u001b[1;34m(***failed resolving arguments***)\u001b[0m\n\u001b[0;32m    117\u001b[0m \u001b[38;5;28;01mdef\u001b[39;00m \u001b[38;5;21mpure_callback_jvp_rule\u001b[39m(\u001b[38;5;241m*\u001b[39margs, \u001b[38;5;241m*\u001b[39m\u001b[38;5;241m*\u001b[39mkwargs):\n\u001b[0;32m    118\u001b[0m   \u001b[38;5;28;01mdel\u001b[39;00m args, kwargs\n\u001b[1;32m--> 119\u001b[0m   \u001b[38;5;28;01mraise\u001b[39;00m \u001b[38;5;167;01mValueError\u001b[39;00m(\n\u001b[0;32m    120\u001b[0m       \u001b[38;5;124m\"\u001b[39m\u001b[38;5;124mPure callbacks do not support JVP. \u001b[39m\u001b[38;5;124m\"\u001b[39m\n\u001b[0;32m    121\u001b[0m       \u001b[38;5;124m\"\u001b[39m\u001b[38;5;124mPlease use `jax.custom_jvp` to use callbacks while taking gradients.\u001b[39m\u001b[38;5;124m\"\u001b[39m)\n",
      "\u001b[1;31mValueError\u001b[0m: Pure callbacks do not support JVP. Please use `jax.custom_jvp` to use callbacks while taking gradients."
     ]
    }
   ],
   "source": [
    "jax.grad(j1)(z)"
   ]
  },
  {
   "cell_type": "code",
   "execution_count": 33,
   "metadata": {},
   "outputs": [
    {
     "name": "stdout",
     "output_type": "stream",
     "text": [
      "-0.06447162\n"
     ]
    },
    {
     "name": "stderr",
     "output_type": "stream",
     "text": [
      "C:\\Users\\devanshu.tayal\\AppData\\Local\\Temp\\ipykernel_5572\\2939642295.py:25: DeprecationWarning: The vectorized argument of jax.pure_callback is deprecated and setting it will soon raise an error. To avoid an error in the future, and to suppress this warning, please use the vmap_method argument instead.\n",
      "  return jax.pure_callback(_scipy_jv, result_shape_dtype, v, z, vectorized=True)\n",
      "C:\\Users\\devanshu.tayal\\AppData\\Local\\Temp\\ipykernel_5572\\2939642295.py:25: DeprecationWarning: The vectorized argument of jax.pure_callback is deprecated and setting it will soon raise an error. To avoid an error in the future, and to suppress this warning, please use the vmap_method argument instead.\n",
      "  return jax.pure_callback(_scipy_jv, result_shape_dtype, v, z, vectorized=True)\n",
      "C:\\Users\\devanshu.tayal\\AppData\\Local\\Temp\\ipykernel_5572\\2939642295.py:25: DeprecationWarning: The vectorized argument of jax.pure_callback is deprecated and setting it will soon raise an error. To avoid an error in the future, and to suppress this warning, please use the vmap_method argument instead.\n",
      "  return jax.pure_callback(_scipy_jv, result_shape_dtype, v, z, vectorized=True)\n"
     ]
    }
   ],
   "source": [
    "jv = jax.custom_jvp(jv)\n",
    "\n",
    "@jv.defjvp\n",
    "def _jv_jvp(primals, tangents):\n",
    "  v, z = primals\n",
    "  _, z_dot = tangents  # Note: v_dot is always 0 because v is integer.\n",
    "  jv_minus_1, jv_plus_1 = jv(v - 1, z), jv(v + 1, z)\n",
    "  djv_dz = jnp.where(v == 0, -jv_plus_1, 0.5 * (jv_minus_1 - jv_plus_1))\n",
    "  return jv(v, z), z_dot * djv_dz\n",
    "\n",
    "j1 = partial(jv, 1)\n",
    "print(jax.grad(j1)(2.0))"
   ]
  },
  {
   "cell_type": "code",
   "execution_count": 34,
   "metadata": {},
   "outputs": [
    {
     "name": "stderr",
     "output_type": "stream",
     "text": [
      "C:\\Users\\devanshu.tayal\\AppData\\Local\\Temp\\ipykernel_5572\\2939642295.py:25: DeprecationWarning: The vectorized argument of jax.pure_callback is deprecated and setting it will soon raise an error. To avoid an error in the future, and to suppress this warning, please use the vmap_method argument instead.\n",
      "  return jax.pure_callback(_scipy_jv, result_shape_dtype, v, z, vectorized=True)\n",
      "C:\\Users\\devanshu.tayal\\AppData\\Local\\Temp\\ipykernel_5572\\2939642295.py:25: DeprecationWarning: The vectorized argument of jax.pure_callback is deprecated and setting it will soon raise an error. To avoid an error in the future, and to suppress this warning, please use the vmap_method argument instead.\n",
      "  return jax.pure_callback(_scipy_jv, result_shape_dtype, v, z, vectorized=True)\n",
      "C:\\Users\\devanshu.tayal\\AppData\\Local\\Temp\\ipykernel_5572\\2939642295.py:25: DeprecationWarning: The vectorized argument of jax.pure_callback is deprecated and setting it will soon raise an error. To avoid an error in the future, and to suppress this warning, please use the vmap_method argument instead.\n",
      "  return jax.pure_callback(_scipy_jv, result_shape_dtype, v, z, vectorized=True)\n",
      "C:\\Users\\devanshu.tayal\\AppData\\Local\\Temp\\ipykernel_5572\\2939642295.py:25: DeprecationWarning: The vectorized argument of jax.pure_callback is deprecated and setting it will soon raise an error. To avoid an error in the future, and to suppress this warning, please use the vmap_method argument instead.\n",
      "  return jax.pure_callback(_scipy_jv, result_shape_dtype, v, z, vectorized=True)\n",
      "C:\\Users\\devanshu.tayal\\AppData\\Local\\Temp\\ipykernel_5572\\2939642295.py:25: DeprecationWarning: The vectorized argument of jax.pure_callback is deprecated and setting it will soon raise an error. To avoid an error in the future, and to suppress this warning, please use the vmap_method argument instead.\n",
      "  return jax.pure_callback(_scipy_jv, result_shape_dtype, v, z, vectorized=True)\n",
      "C:\\Users\\devanshu.tayal\\AppData\\Local\\Temp\\ipykernel_5572\\2939642295.py:25: DeprecationWarning: The vectorized argument of jax.pure_callback is deprecated and setting it will soon raise an error. To avoid an error in the future, and to suppress this warning, please use the vmap_method argument instead.\n",
      "  return jax.pure_callback(_scipy_jv, result_shape_dtype, v, z, vectorized=True)\n",
      "C:\\Users\\devanshu.tayal\\AppData\\Local\\Temp\\ipykernel_5572\\2939642295.py:25: DeprecationWarning: The vectorized argument of jax.pure_callback is deprecated and setting it will soon raise an error. To avoid an error in the future, and to suppress this warning, please use the vmap_method argument instead.\n",
      "  return jax.pure_callback(_scipy_jv, result_shape_dtype, v, z, vectorized=True)\n",
      "C:\\Users\\devanshu.tayal\\AppData\\Local\\Temp\\ipykernel_5572\\2939642295.py:25: DeprecationWarning: The vectorized argument of jax.pure_callback is deprecated and setting it will soon raise an error. To avoid an error in the future, and to suppress this warning, please use the vmap_method argument instead.\n",
      "  return jax.pure_callback(_scipy_jv, result_shape_dtype, v, z, vectorized=True)\n",
      "C:\\Users\\devanshu.tayal\\AppData\\Local\\Temp\\ipykernel_5572\\2939642295.py:25: DeprecationWarning: The vectorized argument of jax.pure_callback is deprecated and setting it will soon raise an error. To avoid an error in the future, and to suppress this warning, please use the vmap_method argument instead.\n",
      "  return jax.pure_callback(_scipy_jv, result_shape_dtype, v, z, vectorized=True)\n"
     ]
    },
    {
     "data": {
      "text/plain": [
       "Array(-0.4003078, dtype=float32, weak_type=True)"
      ]
     },
     "execution_count": 34,
     "metadata": {},
     "output_type": "execute_result"
    }
   ],
   "source": [
    "jax.hessian(j1)(2.0)"
   ]
  }
 ],
 "metadata": {
  "kernelspec": {
   "display_name": "base",
   "language": "python",
   "name": "python3"
  },
  "language_info": {
   "codemirror_mode": {
    "name": "ipython",
    "version": 3
   },
   "file_extension": ".py",
   "mimetype": "text/x-python",
   "name": "python",
   "nbconvert_exporter": "python",
   "pygments_lexer": "ipython3",
   "version": "3.12.4"
  }
 },
 "nbformat": 4,
 "nbformat_minor": 2
}
